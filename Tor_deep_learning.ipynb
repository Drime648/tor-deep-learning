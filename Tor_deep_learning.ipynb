{
  "cells": [
    {
      "cell_type": "markdown",
      "metadata": {
        "id": "view-in-github",
        "colab_type": "text"
      },
      "source": [
        "<a href=\"https://colab.research.google.com/github/Drime648/tor-deep-learning/blob/main/Tor_deep_learning.ipynb\" target=\"_parent\"><img src=\"https://colab.research.google.com/assets/colab-badge.svg\" alt=\"Open In Colab\"/></a>"
      ]
    },
    {
      "cell_type": "code",
      "execution_count": null,
      "metadata": {
        "id": "o3tV6fkuh8dw"
      },
      "outputs": [],
      "source": [
        "#imports\n",
        "\n",
        "import pandas as pd\n",
        "import zipfile\n",
        "import os, os.path\n",
        "import pathlib\n",
        "import numpy as np\n",
        "from matplotlib import pyplot as plt\n",
        "import tensorflow as tf\n",
        "from sklearn.preprocessing import OneHotEncoder\n"
      ]
    },
    {
      "cell_type": "code",
      "source": [
        "!nvidia-smi"
      ],
      "metadata": {
        "colab": {
          "base_uri": "https://localhost:8080/"
        },
        "id": "q0w6GwTQI7Fa",
        "outputId": "c76f05a7-892b-4a82-ced3-cc4a7aedefb0"
      },
      "execution_count": null,
      "outputs": [
        {
          "output_type": "stream",
          "name": "stdout",
          "text": [
            "Tue Jul 26 14:42:53 2022       \n",
            "+-----------------------------------------------------------------------------+\n",
            "| NVIDIA-SMI 460.32.03    Driver Version: 460.32.03    CUDA Version: 11.2     |\n",
            "|-------------------------------+----------------------+----------------------+\n",
            "| GPU  Name        Persistence-M| Bus-Id        Disp.A | Volatile Uncorr. ECC |\n",
            "| Fan  Temp  Perf  Pwr:Usage/Cap|         Memory-Usage | GPU-Util  Compute M. |\n",
            "|                               |                      |               MIG M. |\n",
            "|===============================+======================+======================|\n",
            "|   0  Tesla T4            Off  | 00000000:00:04.0 Off |                    0 |\n",
            "| N/A   59C    P8    11W /  70W |      0MiB / 15109MiB |      0%      Default |\n",
            "|                               |                      |                  N/A |\n",
            "+-------------------------------+----------------------+----------------------+\n",
            "                                                                               \n",
            "+-----------------------------------------------------------------------------+\n",
            "| Processes:                                                                  |\n",
            "|  GPU   GI   CI        PID   Type   Process name                  GPU Memory |\n",
            "|        ID   ID                                                   Usage      |\n",
            "|=============================================================================|\n",
            "|  No running processes found                                                 |\n",
            "+-----------------------------------------------------------------------------+\n"
          ]
        }
      ]
    },
    {
      "cell_type": "markdown",
      "metadata": {
        "id": "2L_0lOrHT9AT"
      },
      "source": [
        "# Extracting the data\n",
        "\n",
        "We extract the data, split it, and put it into train and test dataframes"
      ]
    },
    {
      "cell_type": "code",
      "execution_count": null,
      "metadata": {
        "id": "kzv_iCXt6JYg"
      },
      "outputs": [],
      "source": [
        ""
      ]
    },
    {
      "cell_type": "code",
      "execution_count": null,
      "metadata": {
        "colab": {
          "base_uri": "https://localhost:8080/"
        },
        "id": "unVfAKmA6nQj",
        "outputId": "bceedffe-64f9-4b2f-fff8-2e4c42972a16"
      },
      "outputs": [
        {
          "output_type": "stream",
          "name": "stdout",
          "text": [
            "--2022-07-26 14:42:53--  https://github.com/kdsec/wangknn-dataset/raw/master/data.zip\n",
            "Resolving github.com (github.com)... 140.82.112.4\n",
            "Connecting to github.com (github.com)|140.82.112.4|:443... connected.\n",
            "HTTP request sent, awaiting response... 302 Found\n",
            "Location: https://raw.githubusercontent.com/kdsec/wangknn-dataset/master/data.zip [following]\n",
            "--2022-07-26 14:42:54--  https://raw.githubusercontent.com/kdsec/wangknn-dataset/master/data.zip\n",
            "Resolving raw.githubusercontent.com (raw.githubusercontent.com)... 185.199.110.133, 185.199.109.133, 185.199.111.133, ...\n",
            "Connecting to raw.githubusercontent.com (raw.githubusercontent.com)|185.199.110.133|:443... connected.\n",
            "HTTP request sent, awaiting response... 200 OK\n",
            "Length: 77101936 (74M) [application/zip]\n",
            "Saving to: ‘data.zip.1’\n",
            "\n",
            "data.zip.1          100%[===================>]  73.53M   167MB/s    in 0.4s    \n",
            "\n",
            "2022-07-26 14:42:54 (167 MB/s) - ‘data.zip.1’ saved [77101936/77101936]\n",
            "\n",
            "--2022-07-26 14:43:08--  https://raw.githubusercontent.com/mrdbourke/tensorflow-deep-learning/main/extras/helper_functions.py\n",
            "Resolving raw.githubusercontent.com (raw.githubusercontent.com)... 185.199.108.133, 185.199.109.133, 185.199.110.133, ...\n",
            "Connecting to raw.githubusercontent.com (raw.githubusercontent.com)|185.199.108.133|:443... connected.\n",
            "HTTP request sent, awaiting response... 200 OK\n",
            "Length: 10246 (10K) [text/plain]\n",
            "Saving to: ‘helper_functions.py.1’\n",
            "\n",
            "helper_functions.py 100%[===================>]  10.01K  --.-KB/s    in 0s      \n",
            "\n",
            "2022-07-26 14:43:08 (64.5 MB/s) - ‘helper_functions.py.1’ saved [10246/10246]\n",
            "\n"
          ]
        }
      ],
      "source": [
        "!wget https://github.com/kdsec/wangknn-dataset/raw/master/data.zip\n",
        "import zipfile\n",
        "zipref = zipfile.ZipFile(\"data.zip\")\n",
        "zipref.extractall()\n",
        "# zipref.close()\n",
        "!wget https://raw.githubusercontent.com/mrdbourke/tensorflow-deep-learning/main/extras/helper_functions.py\n",
        "from helper_functions import create_tensorboard_callback, plot_loss_curves, unzip_data, walk_through_dir\n",
        "\n",
        "unzip_data(\"data.zip\")\n",
        "walk_through_dir(\"/content/data.zip\")"
      ]
    },
    {
      "cell_type": "code",
      "execution_count": null,
      "metadata": {
        "id": "CvyVQ5Mx-KHF"
      },
      "outputs": [],
      "source": [
        "# walk_through_dir(\"/content\")"
      ]
    },
    {
      "cell_type": "code",
      "execution_count": null,
      "metadata": {
        "id": "tsdYlfI6-fic"
      },
      "outputs": [],
      "source": [
        "# !ls"
      ]
    },
    {
      "cell_type": "code",
      "execution_count": null,
      "metadata": {
        "id": "w7Ne_xX3-rhL"
      },
      "outputs": [],
      "source": [
        "# import pandas as pd\n",
        "\n",
        "train_df = pd.DataFrame(columns = [\"page_num\", \"trace_num\", \"trace_data\"])\n",
        "test_df = pd.DataFrame(columns = [\"page_num\", \"trace_num\", \"trace_data\"])\n",
        "# #72-18 split\n",
        "\n",
        "#page_num goes from 0-99, this is the classes we will predict\n",
        "#trace_num goes from 0-89, as each monitored site has 90 traces.\n",
        "#In total it is 90*100 = 9,000 traces"
      ]
    },
    {
      "cell_type": "code",
      "execution_count": null,
      "metadata": {
        "id": "u4MW5a-rC0vl"
      },
      "outputs": [],
      "source": [
        "import os, os.path\n",
        "import pathlib\n",
        "\n",
        "PATH = pathlib.Path(\"/content\")\n",
        "path, dirs, files = next(os.walk(PATH))"
      ]
    },
    {
      "cell_type": "code",
      "execution_count": null,
      "metadata": {
        "id": "N17tEuS2EiMj"
      },
      "outputs": [],
      "source": [
        "def get_lines(filename):\n",
        "  with open(filename) as f:\n",
        "    return f.readlines()"
      ]
    },
    {
      "cell_type": "code",
      "execution_count": null,
      "metadata": {
        "id": "m3GHDf9TE4QY"
      },
      "outputs": [],
      "source": [
        "def preprocess_lines(filename):\n",
        "  input_lines = get_lines(filename)\n",
        "  samples = []\n",
        "\n",
        "  for line in input_lines:\n",
        "    x = line.split()\n",
        "    samples.append(int(x[1]))\n",
        "\n",
        "    \n",
        "  return samples"
      ]
    },
    {
      "cell_type": "code",
      "execution_count": null,
      "metadata": {
        "id": "nF1dWIEyDBsE"
      },
      "outputs": [],
      "source": [
        "page_num = 0\n",
        "trace_num = 0\n",
        "trace_data = []\n",
        "for file in files:\n",
        "  if(\"-\" in file):\n",
        "    # print(file)\n",
        "    x = file.split(\"-\")\n",
        "    page_num = int(x[0])\n",
        "    trace_num = int(x[1])\n",
        "    trace_data = preprocess_lines(file)\n",
        "    if(len(trace_data) > 0):#Filter can be anything. Right now it is zero\n",
        "    \n",
        "      #make sure the length is exactly 5000\n",
        "      while(len(trace_data) < 5000):\n",
        "          trace_data.append(0)\n",
        "      \n",
        "      trace_data = trace_data[:5000]\n",
        "      # print(len(trace_data))\n",
        "      # append everything to the dataframe\n",
        "      temp_df = {\"page_num\": page_num, \"trace_num\": trace_num, \"trace_data\": trace_data}\n",
        "\n",
        "      #first, decide if it is test or train\n",
        "      #72-18 split\n",
        "      #trace nums go from 0-89\n",
        "      #0,1,2,3,4,5,6,7,8,9,10,11,12,13,14,15,16,17 - trace nums for the test dataset\n",
        "      if(trace_num >= 17): # add to the train dataset\n",
        "        train_df = train_df.append(temp_df, ignore_index=True)\n",
        "      else:\n",
        "        test_df = test_df.append(temp_df, ignore_index=True)\n"
      ]
    },
    {
      "cell_type": "markdown",
      "metadata": {
        "id": "PwaUXFVZcNtN"
      },
      "source": [
        "Making a graph to see the ranges of the lengths of the trace data"
      ]
    },
    {
      "cell_type": "code",
      "execution_count": null,
      "metadata": {
        "id": "d1AWh_sWcHUc"
      },
      "outputs": [],
      "source": [
        "# page_num = 0\n",
        "# trace_num = 0\n",
        "# trace_data = []\n",
        "# for file in files:\n",
        "#   if(\"-\" in file):\n",
        "#     # print(file)\n",
        "#     x = file.split(\"-\")\n",
        "#     page_num = int(x[0])\n",
        "#     trace_num = int(x[1])\n",
        "#     trace_data = preprocess_lines(file)\n",
        "#     if(len(trace_data) > 0):#in case it is an outlier\n",
        "    \n",
        "#       #make sure the length is exactly 5000\n",
        "#       # while(len(trace_data) < 5000):\n",
        "#       #     trace_data.append(0)\n",
        "      \n",
        "#       # trace_data = trace_data[:5000]\n",
        "#       # print(len(trace_data))\n",
        "#       # append everything to the dataframe\n",
        "#       temp_df = {\"page_num\": page_num, \"trace_num\": trace_num, \"trace_data\": trace_data}\n",
        "\n",
        "#       #first, decide if it is test or train\n",
        "#       #72-18 split\n",
        "#       #trace nums go from 0-89\n",
        "#       #0,1,2,3,4,5,6,7,8,9,10,11,12,13,14,15,16,17 - trace nums for the test dataset\n",
        "#       train_df = train_df.append(temp_df, ignore_index=True)\n",
        "#       # if(trace_num >= 17): # add to the train dataset\n",
        "#       #   train_df = train_df.append(temp_df, ignore_index=True)\n",
        "#       # else:\n",
        "#       #   test_df = test_df.append(temp_df, ignore_index=True)"
      ]
    },
    {
      "cell_type": "code",
      "execution_count": null,
      "metadata": {
        "id": "kpYX1VaTcTr1"
      },
      "outputs": [],
      "source": [
        "# train_df"
      ]
    },
    {
      "cell_type": "code",
      "execution_count": null,
      "metadata": {
        "id": "F3GRLLU4cY7n"
      },
      "outputs": [],
      "source": [
        "# count = 0\n",
        "# num_array = []\n",
        "# for index, row in train_df.iterrows():\n",
        "#   num = len(row[\"trace_data\"])\n",
        "#   num_array.append(num)\n",
        "\n",
        "\n"
      ]
    },
    {
      "cell_type": "code",
      "execution_count": null,
      "metadata": {
        "id": "yRawa0YuevvA"
      },
      "outputs": [],
      "source": [
        "# from matplotlib import pyplot as plt\n",
        "# import numpy as np\n",
        "\n",
        "# plt.hist(num_array, bins = np.linspace(0, 5000, 30))"
      ]
    },
    {
      "cell_type": "code",
      "execution_count": null,
      "metadata": {
        "colab": {
          "base_uri": "https://localhost:8080/",
          "height": 424
        },
        "id": "2OFO2LoCFVd0",
        "outputId": "1c147045-e1ef-4d74-e87c-e3fef0f4a18d"
      },
      "outputs": [
        {
          "output_type": "execute_result",
          "data": {
            "text/plain": [
              "     page_num trace_num                                         trace_data\n",
              "0          65        88  [1, 1, 1, -1, -1, -1, -1, -1, -1, -1, -1, -1, ...\n",
              "1          26        89  [1, 1, 1, -1, -1, 1, 1, 1, -1, -1, 1, -1, 1, 1...\n",
              "2          30        67  [-1, -1, -1, 1, 0, 0, 0, 0, 0, 0, 0, 0, 0, 0, ...\n",
              "3          15        55  [1, 1, -1, -1, -1, -1, -1, -1, -1, -1, -1, 1, ...\n",
              "4          17        31  [1, 1, 1, -1, -1, -1, -1, -1, -1, -1, -1, -1, ...\n",
              "...       ...       ...                                                ...\n",
              "7295       59        80  [-1, 1, -1, 1, 1, -1, -1, 1, 1, -1, -1, -1, -1...\n",
              "7296       63        51  [1, 1, -1, -1, -1, -1, -1, -1, -1, -1, -1, -1,...\n",
              "7297       17        30  [1, 1, 1, -1, -1, -1, -1, -1, -1, -1, -1, -1, ...\n",
              "7298       11        55  [1, 1, 1, 1, -1, -1, -1, -1, -1, -1, -1, -1, -...\n",
              "7299       92        35  [1, 1, 1, 1, 1, 1, 1, 1, -1, -1, -1, 1, 1, 1, ...\n",
              "\n",
              "[7300 rows x 3 columns]"
            ],
            "text/html": [
              "\n",
              "  <div id=\"df-39db12e6-9009-41a6-a558-537aa1f7c4c8\">\n",
              "    <div class=\"colab-df-container\">\n",
              "      <div>\n",
              "<style scoped>\n",
              "    .dataframe tbody tr th:only-of-type {\n",
              "        vertical-align: middle;\n",
              "    }\n",
              "\n",
              "    .dataframe tbody tr th {\n",
              "        vertical-align: top;\n",
              "    }\n",
              "\n",
              "    .dataframe thead th {\n",
              "        text-align: right;\n",
              "    }\n",
              "</style>\n",
              "<table border=\"1\" class=\"dataframe\">\n",
              "  <thead>\n",
              "    <tr style=\"text-align: right;\">\n",
              "      <th></th>\n",
              "      <th>page_num</th>\n",
              "      <th>trace_num</th>\n",
              "      <th>trace_data</th>\n",
              "    </tr>\n",
              "  </thead>\n",
              "  <tbody>\n",
              "    <tr>\n",
              "      <th>0</th>\n",
              "      <td>65</td>\n",
              "      <td>88</td>\n",
              "      <td>[1, 1, 1, -1, -1, -1, -1, -1, -1, -1, -1, -1, ...</td>\n",
              "    </tr>\n",
              "    <tr>\n",
              "      <th>1</th>\n",
              "      <td>26</td>\n",
              "      <td>89</td>\n",
              "      <td>[1, 1, 1, -1, -1, 1, 1, 1, -1, -1, 1, -1, 1, 1...</td>\n",
              "    </tr>\n",
              "    <tr>\n",
              "      <th>2</th>\n",
              "      <td>30</td>\n",
              "      <td>67</td>\n",
              "      <td>[-1, -1, -1, 1, 0, 0, 0, 0, 0, 0, 0, 0, 0, 0, ...</td>\n",
              "    </tr>\n",
              "    <tr>\n",
              "      <th>3</th>\n",
              "      <td>15</td>\n",
              "      <td>55</td>\n",
              "      <td>[1, 1, -1, -1, -1, -1, -1, -1, -1, -1, -1, 1, ...</td>\n",
              "    </tr>\n",
              "    <tr>\n",
              "      <th>4</th>\n",
              "      <td>17</td>\n",
              "      <td>31</td>\n",
              "      <td>[1, 1, 1, -1, -1, -1, -1, -1, -1, -1, -1, -1, ...</td>\n",
              "    </tr>\n",
              "    <tr>\n",
              "      <th>...</th>\n",
              "      <td>...</td>\n",
              "      <td>...</td>\n",
              "      <td>...</td>\n",
              "    </tr>\n",
              "    <tr>\n",
              "      <th>7295</th>\n",
              "      <td>59</td>\n",
              "      <td>80</td>\n",
              "      <td>[-1, 1, -1, 1, 1, -1, -1, 1, 1, -1, -1, -1, -1...</td>\n",
              "    </tr>\n",
              "    <tr>\n",
              "      <th>7296</th>\n",
              "      <td>63</td>\n",
              "      <td>51</td>\n",
              "      <td>[1, 1, -1, -1, -1, -1, -1, -1, -1, -1, -1, -1,...</td>\n",
              "    </tr>\n",
              "    <tr>\n",
              "      <th>7297</th>\n",
              "      <td>17</td>\n",
              "      <td>30</td>\n",
              "      <td>[1, 1, 1, -1, -1, -1, -1, -1, -1, -1, -1, -1, ...</td>\n",
              "    </tr>\n",
              "    <tr>\n",
              "      <th>7298</th>\n",
              "      <td>11</td>\n",
              "      <td>55</td>\n",
              "      <td>[1, 1, 1, 1, -1, -1, -1, -1, -1, -1, -1, -1, -...</td>\n",
              "    </tr>\n",
              "    <tr>\n",
              "      <th>7299</th>\n",
              "      <td>92</td>\n",
              "      <td>35</td>\n",
              "      <td>[1, 1, 1, 1, 1, 1, 1, 1, -1, -1, -1, 1, 1, 1, ...</td>\n",
              "    </tr>\n",
              "  </tbody>\n",
              "</table>\n",
              "<p>7300 rows × 3 columns</p>\n",
              "</div>\n",
              "      <button class=\"colab-df-convert\" onclick=\"convertToInteractive('df-39db12e6-9009-41a6-a558-537aa1f7c4c8')\"\n",
              "              title=\"Convert this dataframe to an interactive table.\"\n",
              "              style=\"display:none;\">\n",
              "        \n",
              "  <svg xmlns=\"http://www.w3.org/2000/svg\" height=\"24px\"viewBox=\"0 0 24 24\"\n",
              "       width=\"24px\">\n",
              "    <path d=\"M0 0h24v24H0V0z\" fill=\"none\"/>\n",
              "    <path d=\"M18.56 5.44l.94 2.06.94-2.06 2.06-.94-2.06-.94-.94-2.06-.94 2.06-2.06.94zm-11 1L8.5 8.5l.94-2.06 2.06-.94-2.06-.94L8.5 2.5l-.94 2.06-2.06.94zm10 10l.94 2.06.94-2.06 2.06-.94-2.06-.94-.94-2.06-.94 2.06-2.06.94z\"/><path d=\"M17.41 7.96l-1.37-1.37c-.4-.4-.92-.59-1.43-.59-.52 0-1.04.2-1.43.59L10.3 9.45l-7.72 7.72c-.78.78-.78 2.05 0 2.83L4 21.41c.39.39.9.59 1.41.59.51 0 1.02-.2 1.41-.59l7.78-7.78 2.81-2.81c.8-.78.8-2.07 0-2.86zM5.41 20L4 18.59l7.72-7.72 1.47 1.35L5.41 20z\"/>\n",
              "  </svg>\n",
              "      </button>\n",
              "      \n",
              "  <style>\n",
              "    .colab-df-container {\n",
              "      display:flex;\n",
              "      flex-wrap:wrap;\n",
              "      gap: 12px;\n",
              "    }\n",
              "\n",
              "    .colab-df-convert {\n",
              "      background-color: #E8F0FE;\n",
              "      border: none;\n",
              "      border-radius: 50%;\n",
              "      cursor: pointer;\n",
              "      display: none;\n",
              "      fill: #1967D2;\n",
              "      height: 32px;\n",
              "      padding: 0 0 0 0;\n",
              "      width: 32px;\n",
              "    }\n",
              "\n",
              "    .colab-df-convert:hover {\n",
              "      background-color: #E2EBFA;\n",
              "      box-shadow: 0px 1px 2px rgba(60, 64, 67, 0.3), 0px 1px 3px 1px rgba(60, 64, 67, 0.15);\n",
              "      fill: #174EA6;\n",
              "    }\n",
              "\n",
              "    [theme=dark] .colab-df-convert {\n",
              "      background-color: #3B4455;\n",
              "      fill: #D2E3FC;\n",
              "    }\n",
              "\n",
              "    [theme=dark] .colab-df-convert:hover {\n",
              "      background-color: #434B5C;\n",
              "      box-shadow: 0px 1px 3px 1px rgba(0, 0, 0, 0.15);\n",
              "      filter: drop-shadow(0px 1px 2px rgba(0, 0, 0, 0.3));\n",
              "      fill: #FFFFFF;\n",
              "    }\n",
              "  </style>\n",
              "\n",
              "      <script>\n",
              "        const buttonEl =\n",
              "          document.querySelector('#df-39db12e6-9009-41a6-a558-537aa1f7c4c8 button.colab-df-convert');\n",
              "        buttonEl.style.display =\n",
              "          google.colab.kernel.accessAllowed ? 'block' : 'none';\n",
              "\n",
              "        async function convertToInteractive(key) {\n",
              "          const element = document.querySelector('#df-39db12e6-9009-41a6-a558-537aa1f7c4c8');\n",
              "          const dataTable =\n",
              "            await google.colab.kernel.invokeFunction('convertToInteractive',\n",
              "                                                     [key], {});\n",
              "          if (!dataTable) return;\n",
              "\n",
              "          const docLinkHtml = 'Like what you see? Visit the ' +\n",
              "            '<a target=\"_blank\" href=https://colab.research.google.com/notebooks/data_table.ipynb>data table notebook</a>'\n",
              "            + ' to learn more about interactive tables.';\n",
              "          element.innerHTML = '';\n",
              "          dataTable['output_type'] = 'display_data';\n",
              "          await google.colab.output.renderOutput(dataTable, element);\n",
              "          const docLink = document.createElement('div');\n",
              "          docLink.innerHTML = docLinkHtml;\n",
              "          element.appendChild(docLink);\n",
              "        }\n",
              "      </script>\n",
              "    </div>\n",
              "  </div>\n",
              "  "
            ]
          },
          "metadata": {},
          "execution_count": 15
        }
      ],
      "source": [
        "train_df"
      ]
    },
    {
      "cell_type": "code",
      "execution_count": null,
      "metadata": {
        "colab": {
          "base_uri": "https://localhost:8080/",
          "height": 424
        },
        "id": "apAxPnYNKZA0",
        "outputId": "b7cad22d-236a-429a-b4e4-cc35e6175cd8"
      },
      "outputs": [
        {
          "output_type": "execute_result",
          "data": {
            "text/plain": [
              "     page_num trace_num                                         trace_data\n",
              "0          64         0  [1, 1, 1, 1, 1, 1, -1, -1, 1, -1, -1, -1, -1, ...\n",
              "1          62        15  [1, 1, 1, 1, -1, -1, -1, -1, -1, -1, -1, -1, -...\n",
              "2          47        15  [-1, -1, -1, -1, -1, -1, -1, -1, -1, -1, -1, -...\n",
              "3          30         7  [1, 1, 1, -1, -1, -1, 1, 1, 1, -1, 1, 1, 1, 1,...\n",
              "4          74         6  [-1, -1, 1, 1, 1, -1, -1, -1, -1, -1, -1, 1, -...\n",
              "...       ...       ...                                                ...\n",
              "1695       99        10  [1, 1, -1, -1, -1, -1, -1, -1, -1, -1, -1, -1,...\n",
              "1696       62         4  [1, 1, 1, 1, -1, -1, -1, -1, -1, -1, -1, -1, -...\n",
              "1697       56        15  [1, 1, 1, -1, -1, -1, 1, 1, 1, 1, 1, 1, 1, -1,...\n",
              "1698       34         0  [1, 1, -1, -1, -1, -1, -1, -1, -1, 1, 1, 1, 1,...\n",
              "1699       29        13  [1, 1, 1, -1, -1, -1, -1, -1, -1, -1, -1, -1, ...\n",
              "\n",
              "[1700 rows x 3 columns]"
            ],
            "text/html": [
              "\n",
              "  <div id=\"df-c020aa95-6d36-4489-b56b-05336922bbac\">\n",
              "    <div class=\"colab-df-container\">\n",
              "      <div>\n",
              "<style scoped>\n",
              "    .dataframe tbody tr th:only-of-type {\n",
              "        vertical-align: middle;\n",
              "    }\n",
              "\n",
              "    .dataframe tbody tr th {\n",
              "        vertical-align: top;\n",
              "    }\n",
              "\n",
              "    .dataframe thead th {\n",
              "        text-align: right;\n",
              "    }\n",
              "</style>\n",
              "<table border=\"1\" class=\"dataframe\">\n",
              "  <thead>\n",
              "    <tr style=\"text-align: right;\">\n",
              "      <th></th>\n",
              "      <th>page_num</th>\n",
              "      <th>trace_num</th>\n",
              "      <th>trace_data</th>\n",
              "    </tr>\n",
              "  </thead>\n",
              "  <tbody>\n",
              "    <tr>\n",
              "      <th>0</th>\n",
              "      <td>64</td>\n",
              "      <td>0</td>\n",
              "      <td>[1, 1, 1, 1, 1, 1, -1, -1, 1, -1, -1, -1, -1, ...</td>\n",
              "    </tr>\n",
              "    <tr>\n",
              "      <th>1</th>\n",
              "      <td>62</td>\n",
              "      <td>15</td>\n",
              "      <td>[1, 1, 1, 1, -1, -1, -1, -1, -1, -1, -1, -1, -...</td>\n",
              "    </tr>\n",
              "    <tr>\n",
              "      <th>2</th>\n",
              "      <td>47</td>\n",
              "      <td>15</td>\n",
              "      <td>[-1, -1, -1, -1, -1, -1, -1, -1, -1, -1, -1, -...</td>\n",
              "    </tr>\n",
              "    <tr>\n",
              "      <th>3</th>\n",
              "      <td>30</td>\n",
              "      <td>7</td>\n",
              "      <td>[1, 1, 1, -1, -1, -1, 1, 1, 1, -1, 1, 1, 1, 1,...</td>\n",
              "    </tr>\n",
              "    <tr>\n",
              "      <th>4</th>\n",
              "      <td>74</td>\n",
              "      <td>6</td>\n",
              "      <td>[-1, -1, 1, 1, 1, -1, -1, -1, -1, -1, -1, 1, -...</td>\n",
              "    </tr>\n",
              "    <tr>\n",
              "      <th>...</th>\n",
              "      <td>...</td>\n",
              "      <td>...</td>\n",
              "      <td>...</td>\n",
              "    </tr>\n",
              "    <tr>\n",
              "      <th>1695</th>\n",
              "      <td>99</td>\n",
              "      <td>10</td>\n",
              "      <td>[1, 1, -1, -1, -1, -1, -1, -1, -1, -1, -1, -1,...</td>\n",
              "    </tr>\n",
              "    <tr>\n",
              "      <th>1696</th>\n",
              "      <td>62</td>\n",
              "      <td>4</td>\n",
              "      <td>[1, 1, 1, 1, -1, -1, -1, -1, -1, -1, -1, -1, -...</td>\n",
              "    </tr>\n",
              "    <tr>\n",
              "      <th>1697</th>\n",
              "      <td>56</td>\n",
              "      <td>15</td>\n",
              "      <td>[1, 1, 1, -1, -1, -1, 1, 1, 1, 1, 1, 1, 1, -1,...</td>\n",
              "    </tr>\n",
              "    <tr>\n",
              "      <th>1698</th>\n",
              "      <td>34</td>\n",
              "      <td>0</td>\n",
              "      <td>[1, 1, -1, -1, -1, -1, -1, -1, -1, 1, 1, 1, 1,...</td>\n",
              "    </tr>\n",
              "    <tr>\n",
              "      <th>1699</th>\n",
              "      <td>29</td>\n",
              "      <td>13</td>\n",
              "      <td>[1, 1, 1, -1, -1, -1, -1, -1, -1, -1, -1, -1, ...</td>\n",
              "    </tr>\n",
              "  </tbody>\n",
              "</table>\n",
              "<p>1700 rows × 3 columns</p>\n",
              "</div>\n",
              "      <button class=\"colab-df-convert\" onclick=\"convertToInteractive('df-c020aa95-6d36-4489-b56b-05336922bbac')\"\n",
              "              title=\"Convert this dataframe to an interactive table.\"\n",
              "              style=\"display:none;\">\n",
              "        \n",
              "  <svg xmlns=\"http://www.w3.org/2000/svg\" height=\"24px\"viewBox=\"0 0 24 24\"\n",
              "       width=\"24px\">\n",
              "    <path d=\"M0 0h24v24H0V0z\" fill=\"none\"/>\n",
              "    <path d=\"M18.56 5.44l.94 2.06.94-2.06 2.06-.94-2.06-.94-.94-2.06-.94 2.06-2.06.94zm-11 1L8.5 8.5l.94-2.06 2.06-.94-2.06-.94L8.5 2.5l-.94 2.06-2.06.94zm10 10l.94 2.06.94-2.06 2.06-.94-2.06-.94-.94-2.06-.94 2.06-2.06.94z\"/><path d=\"M17.41 7.96l-1.37-1.37c-.4-.4-.92-.59-1.43-.59-.52 0-1.04.2-1.43.59L10.3 9.45l-7.72 7.72c-.78.78-.78 2.05 0 2.83L4 21.41c.39.39.9.59 1.41.59.51 0 1.02-.2 1.41-.59l7.78-7.78 2.81-2.81c.8-.78.8-2.07 0-2.86zM5.41 20L4 18.59l7.72-7.72 1.47 1.35L5.41 20z\"/>\n",
              "  </svg>\n",
              "      </button>\n",
              "      \n",
              "  <style>\n",
              "    .colab-df-container {\n",
              "      display:flex;\n",
              "      flex-wrap:wrap;\n",
              "      gap: 12px;\n",
              "    }\n",
              "\n",
              "    .colab-df-convert {\n",
              "      background-color: #E8F0FE;\n",
              "      border: none;\n",
              "      border-radius: 50%;\n",
              "      cursor: pointer;\n",
              "      display: none;\n",
              "      fill: #1967D2;\n",
              "      height: 32px;\n",
              "      padding: 0 0 0 0;\n",
              "      width: 32px;\n",
              "    }\n",
              "\n",
              "    .colab-df-convert:hover {\n",
              "      background-color: #E2EBFA;\n",
              "      box-shadow: 0px 1px 2px rgba(60, 64, 67, 0.3), 0px 1px 3px 1px rgba(60, 64, 67, 0.15);\n",
              "      fill: #174EA6;\n",
              "    }\n",
              "\n",
              "    [theme=dark] .colab-df-convert {\n",
              "      background-color: #3B4455;\n",
              "      fill: #D2E3FC;\n",
              "    }\n",
              "\n",
              "    [theme=dark] .colab-df-convert:hover {\n",
              "      background-color: #434B5C;\n",
              "      box-shadow: 0px 1px 3px 1px rgba(0, 0, 0, 0.15);\n",
              "      filter: drop-shadow(0px 1px 2px rgba(0, 0, 0, 0.3));\n",
              "      fill: #FFFFFF;\n",
              "    }\n",
              "  </style>\n",
              "\n",
              "      <script>\n",
              "        const buttonEl =\n",
              "          document.querySelector('#df-c020aa95-6d36-4489-b56b-05336922bbac button.colab-df-convert');\n",
              "        buttonEl.style.display =\n",
              "          google.colab.kernel.accessAllowed ? 'block' : 'none';\n",
              "\n",
              "        async function convertToInteractive(key) {\n",
              "          const element = document.querySelector('#df-c020aa95-6d36-4489-b56b-05336922bbac');\n",
              "          const dataTable =\n",
              "            await google.colab.kernel.invokeFunction('convertToInteractive',\n",
              "                                                     [key], {});\n",
              "          if (!dataTable) return;\n",
              "\n",
              "          const docLinkHtml = 'Like what you see? Visit the ' +\n",
              "            '<a target=\"_blank\" href=https://colab.research.google.com/notebooks/data_table.ipynb>data table notebook</a>'\n",
              "            + ' to learn more about interactive tables.';\n",
              "          element.innerHTML = '';\n",
              "          dataTable['output_type'] = 'display_data';\n",
              "          await google.colab.output.renderOutput(dataTable, element);\n",
              "          const docLink = document.createElement('div');\n",
              "          docLink.innerHTML = docLinkHtml;\n",
              "          element.appendChild(docLink);\n",
              "        }\n",
              "      </script>\n",
              "    </div>\n",
              "  </div>\n",
              "  "
            ]
          },
          "metadata": {},
          "execution_count": 16
        }
      ],
      "source": [
        "test_df"
      ]
    },
    {
      "cell_type": "code",
      "execution_count": null,
      "metadata": {
        "id": "wYMHZPrhLNU1"
      },
      "outputs": [],
      "source": [
        "# train_df.to_csv(\"tor_dl_training_nofilter.csv\")\n",
        "# test_df.to_csv(\"tor_dl_testing_nofilter.csv\")"
      ]
    },
    {
      "cell_type": "code",
      "execution_count": null,
      "metadata": {
        "id": "8-YBv7xILvj5"
      },
      "outputs": [],
      "source": [
        "# from google.colab import files\n",
        "# files.download(\"tor_dl_training_nofilter.csv\") \n",
        "# files.download(\"tor_dl_testing_nofilter.csv\")"
      ]
    },
    {
      "cell_type": "code",
      "execution_count": null,
      "metadata": {
        "id": "LD3lVd0zL3oX"
      },
      "outputs": [],
      "source": [
        "# !ls | grep \"tor\""
      ]
    },
    {
      "cell_type": "markdown",
      "metadata": {
        "id": "1muYoRE_hbZ3"
      },
      "source": [
        "#Import the cleaned data now"
      ]
    },
    {
      "cell_type": "code",
      "execution_count": null,
      "metadata": {
        "id": "Tl53b6N7hbIR"
      },
      "outputs": [],
      "source": [
        "# train_df = pd.read_csv(\"https://raw.githubusercontent.com/Drime648/tor-deep-learning/main/tor_dl_training.csv\")\n",
        "# test_df = pd.read_csv(\"https://raw.githubusercontent.com/Drime648/tor-deep-learning/main/tor_dl_testing.csv\")"
      ]
    },
    {
      "cell_type": "code",
      "execution_count": null,
      "metadata": {
        "id": "OfSkVFDMiNjI"
      },
      "outputs": [],
      "source": [
        "#remove the index column\n",
        "# train_df = train_df.drop(\"Unnamed: 0\", axis = 1)\n",
        "# test_df = test_df.drop(\"Unnamed: 0\", axis = 1)\n",
        "\n"
      ]
    },
    {
      "cell_type": "code",
      "execution_count": null,
      "metadata": {
        "id": "fmgF_nNvjJSs"
      },
      "outputs": [],
      "source": [
        "#randomize\n",
        "train_df = train_df.sample(frac=1).reset_index(drop=True)\n",
        "test_df = test_df.sample(frac=1).reset_index(drop=True)"
      ]
    },
    {
      "cell_type": "code",
      "execution_count": null,
      "metadata": {
        "colab": {
          "base_uri": "https://localhost:8080/",
          "height": 424
        },
        "id": "RiWE5oU_iRhZ",
        "outputId": "7be3c153-25ef-40d3-a98b-fdc4241677f7"
      },
      "outputs": [
        {
          "output_type": "execute_result",
          "data": {
            "text/plain": [
              "     page_num trace_num                                         trace_data\n",
              "0          57        77  [-1, -1, -1, -1, 1, 1, -1, -1, -1, -1, -1, -1,...\n",
              "1          50        41  [1, 1, 1, -1, -1, -1, -1, 1, 1, -1, -1, -1, -1...\n",
              "2          97        30  [1, 1, 1, -1, -1, 1, 1, -1, -1, -1, -1, -1, -1...\n",
              "3          51        38  [1, 1, 1, -1, -1, -1, -1, -1, -1, -1, -1, 1, -...\n",
              "4          42        88  [1, 1, 1, -1, -1, -1, -1, -1, -1, -1, -1, -1, ...\n",
              "...       ...       ...                                                ...\n",
              "7295       69        59  [1, 1, -1, -1, -1, -1, -1, -1, -1, -1, -1, 1, ...\n",
              "7296       69        85  [1, 1, -1, -1, -1, -1, -1, -1, -1, -1, -1, 1, ...\n",
              "7297        5        52  [1, 1, -1, -1, -1, -1, -1, -1, -1, -1, -1, 1, ...\n",
              "7298       51        26  [1, 1, 1, 1, 1, 1, 1, -1, -1, 1, 1, -1, -1, -1...\n",
              "7299       77        34  [1, 1, 1, 1, 1, 1, 1, -1, -1, -1, -1, -1, -1, ...\n",
              "\n",
              "[7300 rows x 3 columns]"
            ],
            "text/html": [
              "\n",
              "  <div id=\"df-e8d3ff02-6c55-4556-84d3-60f69a66be82\">\n",
              "    <div class=\"colab-df-container\">\n",
              "      <div>\n",
              "<style scoped>\n",
              "    .dataframe tbody tr th:only-of-type {\n",
              "        vertical-align: middle;\n",
              "    }\n",
              "\n",
              "    .dataframe tbody tr th {\n",
              "        vertical-align: top;\n",
              "    }\n",
              "\n",
              "    .dataframe thead th {\n",
              "        text-align: right;\n",
              "    }\n",
              "</style>\n",
              "<table border=\"1\" class=\"dataframe\">\n",
              "  <thead>\n",
              "    <tr style=\"text-align: right;\">\n",
              "      <th></th>\n",
              "      <th>page_num</th>\n",
              "      <th>trace_num</th>\n",
              "      <th>trace_data</th>\n",
              "    </tr>\n",
              "  </thead>\n",
              "  <tbody>\n",
              "    <tr>\n",
              "      <th>0</th>\n",
              "      <td>57</td>\n",
              "      <td>77</td>\n",
              "      <td>[-1, -1, -1, -1, 1, 1, -1, -1, -1, -1, -1, -1,...</td>\n",
              "    </tr>\n",
              "    <tr>\n",
              "      <th>1</th>\n",
              "      <td>50</td>\n",
              "      <td>41</td>\n",
              "      <td>[1, 1, 1, -1, -1, -1, -1, 1, 1, -1, -1, -1, -1...</td>\n",
              "    </tr>\n",
              "    <tr>\n",
              "      <th>2</th>\n",
              "      <td>97</td>\n",
              "      <td>30</td>\n",
              "      <td>[1, 1, 1, -1, -1, 1, 1, -1, -1, -1, -1, -1, -1...</td>\n",
              "    </tr>\n",
              "    <tr>\n",
              "      <th>3</th>\n",
              "      <td>51</td>\n",
              "      <td>38</td>\n",
              "      <td>[1, 1, 1, -1, -1, -1, -1, -1, -1, -1, -1, 1, -...</td>\n",
              "    </tr>\n",
              "    <tr>\n",
              "      <th>4</th>\n",
              "      <td>42</td>\n",
              "      <td>88</td>\n",
              "      <td>[1, 1, 1, -1, -1, -1, -1, -1, -1, -1, -1, -1, ...</td>\n",
              "    </tr>\n",
              "    <tr>\n",
              "      <th>...</th>\n",
              "      <td>...</td>\n",
              "      <td>...</td>\n",
              "      <td>...</td>\n",
              "    </tr>\n",
              "    <tr>\n",
              "      <th>7295</th>\n",
              "      <td>69</td>\n",
              "      <td>59</td>\n",
              "      <td>[1, 1, -1, -1, -1, -1, -1, -1, -1, -1, -1, 1, ...</td>\n",
              "    </tr>\n",
              "    <tr>\n",
              "      <th>7296</th>\n",
              "      <td>69</td>\n",
              "      <td>85</td>\n",
              "      <td>[1, 1, -1, -1, -1, -1, -1, -1, -1, -1, -1, 1, ...</td>\n",
              "    </tr>\n",
              "    <tr>\n",
              "      <th>7297</th>\n",
              "      <td>5</td>\n",
              "      <td>52</td>\n",
              "      <td>[1, 1, -1, -1, -1, -1, -1, -1, -1, -1, -1, 1, ...</td>\n",
              "    </tr>\n",
              "    <tr>\n",
              "      <th>7298</th>\n",
              "      <td>51</td>\n",
              "      <td>26</td>\n",
              "      <td>[1, 1, 1, 1, 1, 1, 1, -1, -1, 1, 1, -1, -1, -1...</td>\n",
              "    </tr>\n",
              "    <tr>\n",
              "      <th>7299</th>\n",
              "      <td>77</td>\n",
              "      <td>34</td>\n",
              "      <td>[1, 1, 1, 1, 1, 1, 1, -1, -1, -1, -1, -1, -1, ...</td>\n",
              "    </tr>\n",
              "  </tbody>\n",
              "</table>\n",
              "<p>7300 rows × 3 columns</p>\n",
              "</div>\n",
              "      <button class=\"colab-df-convert\" onclick=\"convertToInteractive('df-e8d3ff02-6c55-4556-84d3-60f69a66be82')\"\n",
              "              title=\"Convert this dataframe to an interactive table.\"\n",
              "              style=\"display:none;\">\n",
              "        \n",
              "  <svg xmlns=\"http://www.w3.org/2000/svg\" height=\"24px\"viewBox=\"0 0 24 24\"\n",
              "       width=\"24px\">\n",
              "    <path d=\"M0 0h24v24H0V0z\" fill=\"none\"/>\n",
              "    <path d=\"M18.56 5.44l.94 2.06.94-2.06 2.06-.94-2.06-.94-.94-2.06-.94 2.06-2.06.94zm-11 1L8.5 8.5l.94-2.06 2.06-.94-2.06-.94L8.5 2.5l-.94 2.06-2.06.94zm10 10l.94 2.06.94-2.06 2.06-.94-2.06-.94-.94-2.06-.94 2.06-2.06.94z\"/><path d=\"M17.41 7.96l-1.37-1.37c-.4-.4-.92-.59-1.43-.59-.52 0-1.04.2-1.43.59L10.3 9.45l-7.72 7.72c-.78.78-.78 2.05 0 2.83L4 21.41c.39.39.9.59 1.41.59.51 0 1.02-.2 1.41-.59l7.78-7.78 2.81-2.81c.8-.78.8-2.07 0-2.86zM5.41 20L4 18.59l7.72-7.72 1.47 1.35L5.41 20z\"/>\n",
              "  </svg>\n",
              "      </button>\n",
              "      \n",
              "  <style>\n",
              "    .colab-df-container {\n",
              "      display:flex;\n",
              "      flex-wrap:wrap;\n",
              "      gap: 12px;\n",
              "    }\n",
              "\n",
              "    .colab-df-convert {\n",
              "      background-color: #E8F0FE;\n",
              "      border: none;\n",
              "      border-radius: 50%;\n",
              "      cursor: pointer;\n",
              "      display: none;\n",
              "      fill: #1967D2;\n",
              "      height: 32px;\n",
              "      padding: 0 0 0 0;\n",
              "      width: 32px;\n",
              "    }\n",
              "\n",
              "    .colab-df-convert:hover {\n",
              "      background-color: #E2EBFA;\n",
              "      box-shadow: 0px 1px 2px rgba(60, 64, 67, 0.3), 0px 1px 3px 1px rgba(60, 64, 67, 0.15);\n",
              "      fill: #174EA6;\n",
              "    }\n",
              "\n",
              "    [theme=dark] .colab-df-convert {\n",
              "      background-color: #3B4455;\n",
              "      fill: #D2E3FC;\n",
              "    }\n",
              "\n",
              "    [theme=dark] .colab-df-convert:hover {\n",
              "      background-color: #434B5C;\n",
              "      box-shadow: 0px 1px 3px 1px rgba(0, 0, 0, 0.15);\n",
              "      filter: drop-shadow(0px 1px 2px rgba(0, 0, 0, 0.3));\n",
              "      fill: #FFFFFF;\n",
              "    }\n",
              "  </style>\n",
              "\n",
              "      <script>\n",
              "        const buttonEl =\n",
              "          document.querySelector('#df-e8d3ff02-6c55-4556-84d3-60f69a66be82 button.colab-df-convert');\n",
              "        buttonEl.style.display =\n",
              "          google.colab.kernel.accessAllowed ? 'block' : 'none';\n",
              "\n",
              "        async function convertToInteractive(key) {\n",
              "          const element = document.querySelector('#df-e8d3ff02-6c55-4556-84d3-60f69a66be82');\n",
              "          const dataTable =\n",
              "            await google.colab.kernel.invokeFunction('convertToInteractive',\n",
              "                                                     [key], {});\n",
              "          if (!dataTable) return;\n",
              "\n",
              "          const docLinkHtml = 'Like what you see? Visit the ' +\n",
              "            '<a target=\"_blank\" href=https://colab.research.google.com/notebooks/data_table.ipynb>data table notebook</a>'\n",
              "            + ' to learn more about interactive tables.';\n",
              "          element.innerHTML = '';\n",
              "          dataTable['output_type'] = 'display_data';\n",
              "          await google.colab.output.renderOutput(dataTable, element);\n",
              "          const docLink = document.createElement('div');\n",
              "          docLink.innerHTML = docLinkHtml;\n",
              "          element.appendChild(docLink);\n",
              "        }\n",
              "      </script>\n",
              "    </div>\n",
              "  </div>\n",
              "  "
            ]
          },
          "metadata": {},
          "execution_count": 23
        }
      ],
      "source": [
        "train_df"
      ]
    },
    {
      "cell_type": "code",
      "execution_count": null,
      "metadata": {
        "colab": {
          "base_uri": "https://localhost:8080/",
          "height": 424
        },
        "id": "91iVP09bimj2",
        "outputId": "709f1134-ab76-4648-f5d0-1761f3931da7"
      },
      "outputs": [
        {
          "output_type": "execute_result",
          "data": {
            "text/plain": [
              "     page_num trace_num                                         trace_data\n",
              "0          53        10  [1, 1, 1, -1, -1, -1, -1, -1, -1, -1, 1, 1, 1,...\n",
              "1          68         7  [1, 1, -1, -1, 1, 1, -1, -1, -1, -1, -1, -1, -...\n",
              "2          88         7  [1, 1, 1, -1, -1, -1, 1, -1, -1, 1, 1, -1, -1,...\n",
              "3          99        15  [1, 1, -1, -1, -1, -1, -1, -1, -1, -1, -1, -1,...\n",
              "4          30         9  [-1, -1, 1, 1, 1, -1, 1, 1, 1, 1, 1, -1, -1, 1...\n",
              "...       ...       ...                                                ...\n",
              "1695       39         5  [-1, -1, 1, 1, 1, -1, 1, 1, 1, -1, 1, -1, 1, -...\n",
              "1696       78        16  [1, 1, 1, -1, -1, 1, -1, -1, -1, -1, -1, -1, 1...\n",
              "1697       96         8  [1, 1, 1, -1, -1, -1, -1, -1, -1, -1, -1, -1, ...\n",
              "1698       74        12  [-1, 1, 1, -1, -1, -1, -1, -1, -1, -1, 1, 1, 1...\n",
              "1699       88        12  [1, 1, -1, -1, 1, -1, -1, 1, 1, -1, -1, -1, 1,...\n",
              "\n",
              "[1700 rows x 3 columns]"
            ],
            "text/html": [
              "\n",
              "  <div id=\"df-33e4e462-1aa0-4596-8fe3-0d1145dd28b2\">\n",
              "    <div class=\"colab-df-container\">\n",
              "      <div>\n",
              "<style scoped>\n",
              "    .dataframe tbody tr th:only-of-type {\n",
              "        vertical-align: middle;\n",
              "    }\n",
              "\n",
              "    .dataframe tbody tr th {\n",
              "        vertical-align: top;\n",
              "    }\n",
              "\n",
              "    .dataframe thead th {\n",
              "        text-align: right;\n",
              "    }\n",
              "</style>\n",
              "<table border=\"1\" class=\"dataframe\">\n",
              "  <thead>\n",
              "    <tr style=\"text-align: right;\">\n",
              "      <th></th>\n",
              "      <th>page_num</th>\n",
              "      <th>trace_num</th>\n",
              "      <th>trace_data</th>\n",
              "    </tr>\n",
              "  </thead>\n",
              "  <tbody>\n",
              "    <tr>\n",
              "      <th>0</th>\n",
              "      <td>53</td>\n",
              "      <td>10</td>\n",
              "      <td>[1, 1, 1, -1, -1, -1, -1, -1, -1, -1, 1, 1, 1,...</td>\n",
              "    </tr>\n",
              "    <tr>\n",
              "      <th>1</th>\n",
              "      <td>68</td>\n",
              "      <td>7</td>\n",
              "      <td>[1, 1, -1, -1, 1, 1, -1, -1, -1, -1, -1, -1, -...</td>\n",
              "    </tr>\n",
              "    <tr>\n",
              "      <th>2</th>\n",
              "      <td>88</td>\n",
              "      <td>7</td>\n",
              "      <td>[1, 1, 1, -1, -1, -1, 1, -1, -1, 1, 1, -1, -1,...</td>\n",
              "    </tr>\n",
              "    <tr>\n",
              "      <th>3</th>\n",
              "      <td>99</td>\n",
              "      <td>15</td>\n",
              "      <td>[1, 1, -1, -1, -1, -1, -1, -1, -1, -1, -1, -1,...</td>\n",
              "    </tr>\n",
              "    <tr>\n",
              "      <th>4</th>\n",
              "      <td>30</td>\n",
              "      <td>9</td>\n",
              "      <td>[-1, -1, 1, 1, 1, -1, 1, 1, 1, 1, 1, -1, -1, 1...</td>\n",
              "    </tr>\n",
              "    <tr>\n",
              "      <th>...</th>\n",
              "      <td>...</td>\n",
              "      <td>...</td>\n",
              "      <td>...</td>\n",
              "    </tr>\n",
              "    <tr>\n",
              "      <th>1695</th>\n",
              "      <td>39</td>\n",
              "      <td>5</td>\n",
              "      <td>[-1, -1, 1, 1, 1, -1, 1, 1, 1, -1, 1, -1, 1, -...</td>\n",
              "    </tr>\n",
              "    <tr>\n",
              "      <th>1696</th>\n",
              "      <td>78</td>\n",
              "      <td>16</td>\n",
              "      <td>[1, 1, 1, -1, -1, 1, -1, -1, -1, -1, -1, -1, 1...</td>\n",
              "    </tr>\n",
              "    <tr>\n",
              "      <th>1697</th>\n",
              "      <td>96</td>\n",
              "      <td>8</td>\n",
              "      <td>[1, 1, 1, -1, -1, -1, -1, -1, -1, -1, -1, -1, ...</td>\n",
              "    </tr>\n",
              "    <tr>\n",
              "      <th>1698</th>\n",
              "      <td>74</td>\n",
              "      <td>12</td>\n",
              "      <td>[-1, 1, 1, -1, -1, -1, -1, -1, -1, -1, 1, 1, 1...</td>\n",
              "    </tr>\n",
              "    <tr>\n",
              "      <th>1699</th>\n",
              "      <td>88</td>\n",
              "      <td>12</td>\n",
              "      <td>[1, 1, -1, -1, 1, -1, -1, 1, 1, -1, -1, -1, 1,...</td>\n",
              "    </tr>\n",
              "  </tbody>\n",
              "</table>\n",
              "<p>1700 rows × 3 columns</p>\n",
              "</div>\n",
              "      <button class=\"colab-df-convert\" onclick=\"convertToInteractive('df-33e4e462-1aa0-4596-8fe3-0d1145dd28b2')\"\n",
              "              title=\"Convert this dataframe to an interactive table.\"\n",
              "              style=\"display:none;\">\n",
              "        \n",
              "  <svg xmlns=\"http://www.w3.org/2000/svg\" height=\"24px\"viewBox=\"0 0 24 24\"\n",
              "       width=\"24px\">\n",
              "    <path d=\"M0 0h24v24H0V0z\" fill=\"none\"/>\n",
              "    <path d=\"M18.56 5.44l.94 2.06.94-2.06 2.06-.94-2.06-.94-.94-2.06-.94 2.06-2.06.94zm-11 1L8.5 8.5l.94-2.06 2.06-.94-2.06-.94L8.5 2.5l-.94 2.06-2.06.94zm10 10l.94 2.06.94-2.06 2.06-.94-2.06-.94-.94-2.06-.94 2.06-2.06.94z\"/><path d=\"M17.41 7.96l-1.37-1.37c-.4-.4-.92-.59-1.43-.59-.52 0-1.04.2-1.43.59L10.3 9.45l-7.72 7.72c-.78.78-.78 2.05 0 2.83L4 21.41c.39.39.9.59 1.41.59.51 0 1.02-.2 1.41-.59l7.78-7.78 2.81-2.81c.8-.78.8-2.07 0-2.86zM5.41 20L4 18.59l7.72-7.72 1.47 1.35L5.41 20z\"/>\n",
              "  </svg>\n",
              "      </button>\n",
              "      \n",
              "  <style>\n",
              "    .colab-df-container {\n",
              "      display:flex;\n",
              "      flex-wrap:wrap;\n",
              "      gap: 12px;\n",
              "    }\n",
              "\n",
              "    .colab-df-convert {\n",
              "      background-color: #E8F0FE;\n",
              "      border: none;\n",
              "      border-radius: 50%;\n",
              "      cursor: pointer;\n",
              "      display: none;\n",
              "      fill: #1967D2;\n",
              "      height: 32px;\n",
              "      padding: 0 0 0 0;\n",
              "      width: 32px;\n",
              "    }\n",
              "\n",
              "    .colab-df-convert:hover {\n",
              "      background-color: #E2EBFA;\n",
              "      box-shadow: 0px 1px 2px rgba(60, 64, 67, 0.3), 0px 1px 3px 1px rgba(60, 64, 67, 0.15);\n",
              "      fill: #174EA6;\n",
              "    }\n",
              "\n",
              "    [theme=dark] .colab-df-convert {\n",
              "      background-color: #3B4455;\n",
              "      fill: #D2E3FC;\n",
              "    }\n",
              "\n",
              "    [theme=dark] .colab-df-convert:hover {\n",
              "      background-color: #434B5C;\n",
              "      box-shadow: 0px 1px 3px 1px rgba(0, 0, 0, 0.15);\n",
              "      filter: drop-shadow(0px 1px 2px rgba(0, 0, 0, 0.3));\n",
              "      fill: #FFFFFF;\n",
              "    }\n",
              "  </style>\n",
              "\n",
              "      <script>\n",
              "        const buttonEl =\n",
              "          document.querySelector('#df-33e4e462-1aa0-4596-8fe3-0d1145dd28b2 button.colab-df-convert');\n",
              "        buttonEl.style.display =\n",
              "          google.colab.kernel.accessAllowed ? 'block' : 'none';\n",
              "\n",
              "        async function convertToInteractive(key) {\n",
              "          const element = document.querySelector('#df-33e4e462-1aa0-4596-8fe3-0d1145dd28b2');\n",
              "          const dataTable =\n",
              "            await google.colab.kernel.invokeFunction('convertToInteractive',\n",
              "                                                     [key], {});\n",
              "          if (!dataTable) return;\n",
              "\n",
              "          const docLinkHtml = 'Like what you see? Visit the ' +\n",
              "            '<a target=\"_blank\" href=https://colab.research.google.com/notebooks/data_table.ipynb>data table notebook</a>'\n",
              "            + ' to learn more about interactive tables.';\n",
              "          element.innerHTML = '';\n",
              "          dataTable['output_type'] = 'display_data';\n",
              "          await google.colab.output.renderOutput(dataTable, element);\n",
              "          const docLink = document.createElement('div');\n",
              "          docLink.innerHTML = docLinkHtml;\n",
              "          element.appendChild(docLink);\n",
              "        }\n",
              "      </script>\n",
              "    </div>\n",
              "  </div>\n",
              "  "
            ]
          },
          "metadata": {},
          "execution_count": 24
        }
      ],
      "source": [
        "test_df"
      ]
    },
    {
      "cell_type": "code",
      "execution_count": null,
      "metadata": {
        "id": "AY3r5XAGivo2"
      },
      "outputs": [],
      "source": [
        ""
      ]
    },
    {
      "cell_type": "markdown",
      "metadata": {
        "id": "jzqShcTKjQzk"
      },
      "source": [
        "# replicate original model from Paper\n",
        "\n",
        "Paper: https://core.ac.uk/download/pdf/229876143.pdf\n",
        "\n",
        "Fingerprinting Attack on Tor Anonymity using Deep Learning\n",
        "\n",
        "\n",
        "by Kota Abe and Shigeki Goto\n",
        "\n"
      ]
    },
    {
      "cell_type": "markdown",
      "metadata": {
        "id": "pwyTcee0lORI"
      },
      "source": [
        "#One hot encode data\n"
      ]
    },
    {
      "cell_type": "code",
      "execution_count": null,
      "metadata": {
        "id": "JRWewydolRoS"
      },
      "outputs": [],
      "source": [
        "one_hot_encoder = OneHotEncoder(sparse=False, handle_unknown=\"ignore\")"
      ]
    },
    {
      "cell_type": "code",
      "execution_count": null,
      "metadata": {
        "id": "FFx1OMudDG-q"
      },
      "outputs": [],
      "source": [
        "# add one more to test data\n",
        "# temp_df = {\"page_num\": 300, \"trace_num\": 0, \"trace_data\": 0}\n",
        "# test_df = test_df.append(temp_df, ignore_index = True)"
      ]
    },
    {
      "cell_type": "code",
      "execution_count": null,
      "metadata": {
        "id": "r0LH--24RCgt"
      },
      "outputs": [],
      "source": [
        ""
      ]
    },
    {
      "cell_type": "code",
      "execution_count": null,
      "metadata": {
        "id": "1QRR-ed0lSGA"
      },
      "outputs": [],
      "source": [
        "one_hot_test_labels = one_hot_encoder.fit(test_df[\"page_num\"].to_numpy().reshape(-1,1))\n",
        "# test_df = test_df[:-1]\n",
        "\n",
        "one_hot_test_labels = one_hot_encoder.transform(test_df[\"page_num\"].to_numpy().reshape(-1,1))\n",
        "one_hot_train_labels = one_hot_encoder.transform(train_df[\"page_num\"].to_numpy().reshape(-1,1))\n",
        "\n",
        "\n"
      ]
    },
    {
      "cell_type": "code",
      "execution_count": null,
      "metadata": {
        "colab": {
          "base_uri": "https://localhost:8080/",
          "height": 424
        },
        "id": "asjw9LNlPUQL",
        "outputId": "5ca07e85-0b8c-4f2b-ccfe-2a7c6f7fc34b"
      },
      "outputs": [
        {
          "output_type": "execute_result",
          "data": {
            "text/plain": [
              "     page_num trace_num                                         trace_data\n",
              "0          53        10  [1, 1, 1, -1, -1, -1, -1, -1, -1, -1, 1, 1, 1,...\n",
              "1          68         7  [1, 1, -1, -1, 1, 1, -1, -1, -1, -1, -1, -1, -...\n",
              "2          88         7  [1, 1, 1, -1, -1, -1, 1, -1, -1, 1, 1, -1, -1,...\n",
              "3          99        15  [1, 1, -1, -1, -1, -1, -1, -1, -1, -1, -1, -1,...\n",
              "4          30         9  [-1, -1, 1, 1, 1, -1, 1, 1, 1, 1, 1, -1, -1, 1...\n",
              "...       ...       ...                                                ...\n",
              "1695       39         5  [-1, -1, 1, 1, 1, -1, 1, 1, 1, -1, 1, -1, 1, -...\n",
              "1696       78        16  [1, 1, 1, -1, -1, 1, -1, -1, -1, -1, -1, -1, 1...\n",
              "1697       96         8  [1, 1, 1, -1, -1, -1, -1, -1, -1, -1, -1, -1, ...\n",
              "1698       74        12  [-1, 1, 1, -1, -1, -1, -1, -1, -1, -1, 1, 1, 1...\n",
              "1699       88        12  [1, 1, -1, -1, 1, -1, -1, 1, 1, -1, -1, -1, 1,...\n",
              "\n",
              "[1700 rows x 3 columns]"
            ],
            "text/html": [
              "\n",
              "  <div id=\"df-3a67dd51-e860-4b15-981d-ab4a9c02b1f8\">\n",
              "    <div class=\"colab-df-container\">\n",
              "      <div>\n",
              "<style scoped>\n",
              "    .dataframe tbody tr th:only-of-type {\n",
              "        vertical-align: middle;\n",
              "    }\n",
              "\n",
              "    .dataframe tbody tr th {\n",
              "        vertical-align: top;\n",
              "    }\n",
              "\n",
              "    .dataframe thead th {\n",
              "        text-align: right;\n",
              "    }\n",
              "</style>\n",
              "<table border=\"1\" class=\"dataframe\">\n",
              "  <thead>\n",
              "    <tr style=\"text-align: right;\">\n",
              "      <th></th>\n",
              "      <th>page_num</th>\n",
              "      <th>trace_num</th>\n",
              "      <th>trace_data</th>\n",
              "    </tr>\n",
              "  </thead>\n",
              "  <tbody>\n",
              "    <tr>\n",
              "      <th>0</th>\n",
              "      <td>53</td>\n",
              "      <td>10</td>\n",
              "      <td>[1, 1, 1, -1, -1, -1, -1, -1, -1, -1, 1, 1, 1,...</td>\n",
              "    </tr>\n",
              "    <tr>\n",
              "      <th>1</th>\n",
              "      <td>68</td>\n",
              "      <td>7</td>\n",
              "      <td>[1, 1, -1, -1, 1, 1, -1, -1, -1, -1, -1, -1, -...</td>\n",
              "    </tr>\n",
              "    <tr>\n",
              "      <th>2</th>\n",
              "      <td>88</td>\n",
              "      <td>7</td>\n",
              "      <td>[1, 1, 1, -1, -1, -1, 1, -1, -1, 1, 1, -1, -1,...</td>\n",
              "    </tr>\n",
              "    <tr>\n",
              "      <th>3</th>\n",
              "      <td>99</td>\n",
              "      <td>15</td>\n",
              "      <td>[1, 1, -1, -1, -1, -1, -1, -1, -1, -1, -1, -1,...</td>\n",
              "    </tr>\n",
              "    <tr>\n",
              "      <th>4</th>\n",
              "      <td>30</td>\n",
              "      <td>9</td>\n",
              "      <td>[-1, -1, 1, 1, 1, -1, 1, 1, 1, 1, 1, -1, -1, 1...</td>\n",
              "    </tr>\n",
              "    <tr>\n",
              "      <th>...</th>\n",
              "      <td>...</td>\n",
              "      <td>...</td>\n",
              "      <td>...</td>\n",
              "    </tr>\n",
              "    <tr>\n",
              "      <th>1695</th>\n",
              "      <td>39</td>\n",
              "      <td>5</td>\n",
              "      <td>[-1, -1, 1, 1, 1, -1, 1, 1, 1, -1, 1, -1, 1, -...</td>\n",
              "    </tr>\n",
              "    <tr>\n",
              "      <th>1696</th>\n",
              "      <td>78</td>\n",
              "      <td>16</td>\n",
              "      <td>[1, 1, 1, -1, -1, 1, -1, -1, -1, -1, -1, -1, 1...</td>\n",
              "    </tr>\n",
              "    <tr>\n",
              "      <th>1697</th>\n",
              "      <td>96</td>\n",
              "      <td>8</td>\n",
              "      <td>[1, 1, 1, -1, -1, -1, -1, -1, -1, -1, -1, -1, ...</td>\n",
              "    </tr>\n",
              "    <tr>\n",
              "      <th>1698</th>\n",
              "      <td>74</td>\n",
              "      <td>12</td>\n",
              "      <td>[-1, 1, 1, -1, -1, -1, -1, -1, -1, -1, 1, 1, 1...</td>\n",
              "    </tr>\n",
              "    <tr>\n",
              "      <th>1699</th>\n",
              "      <td>88</td>\n",
              "      <td>12</td>\n",
              "      <td>[1, 1, -1, -1, 1, -1, -1, 1, 1, -1, -1, -1, 1,...</td>\n",
              "    </tr>\n",
              "  </tbody>\n",
              "</table>\n",
              "<p>1700 rows × 3 columns</p>\n",
              "</div>\n",
              "      <button class=\"colab-df-convert\" onclick=\"convertToInteractive('df-3a67dd51-e860-4b15-981d-ab4a9c02b1f8')\"\n",
              "              title=\"Convert this dataframe to an interactive table.\"\n",
              "              style=\"display:none;\">\n",
              "        \n",
              "  <svg xmlns=\"http://www.w3.org/2000/svg\" height=\"24px\"viewBox=\"0 0 24 24\"\n",
              "       width=\"24px\">\n",
              "    <path d=\"M0 0h24v24H0V0z\" fill=\"none\"/>\n",
              "    <path d=\"M18.56 5.44l.94 2.06.94-2.06 2.06-.94-2.06-.94-.94-2.06-.94 2.06-2.06.94zm-11 1L8.5 8.5l.94-2.06 2.06-.94-2.06-.94L8.5 2.5l-.94 2.06-2.06.94zm10 10l.94 2.06.94-2.06 2.06-.94-2.06-.94-.94-2.06-.94 2.06-2.06.94z\"/><path d=\"M17.41 7.96l-1.37-1.37c-.4-.4-.92-.59-1.43-.59-.52 0-1.04.2-1.43.59L10.3 9.45l-7.72 7.72c-.78.78-.78 2.05 0 2.83L4 21.41c.39.39.9.59 1.41.59.51 0 1.02-.2 1.41-.59l7.78-7.78 2.81-2.81c.8-.78.8-2.07 0-2.86zM5.41 20L4 18.59l7.72-7.72 1.47 1.35L5.41 20z\"/>\n",
              "  </svg>\n",
              "      </button>\n",
              "      \n",
              "  <style>\n",
              "    .colab-df-container {\n",
              "      display:flex;\n",
              "      flex-wrap:wrap;\n",
              "      gap: 12px;\n",
              "    }\n",
              "\n",
              "    .colab-df-convert {\n",
              "      background-color: #E8F0FE;\n",
              "      border: none;\n",
              "      border-radius: 50%;\n",
              "      cursor: pointer;\n",
              "      display: none;\n",
              "      fill: #1967D2;\n",
              "      height: 32px;\n",
              "      padding: 0 0 0 0;\n",
              "      width: 32px;\n",
              "    }\n",
              "\n",
              "    .colab-df-convert:hover {\n",
              "      background-color: #E2EBFA;\n",
              "      box-shadow: 0px 1px 2px rgba(60, 64, 67, 0.3), 0px 1px 3px 1px rgba(60, 64, 67, 0.15);\n",
              "      fill: #174EA6;\n",
              "    }\n",
              "\n",
              "    [theme=dark] .colab-df-convert {\n",
              "      background-color: #3B4455;\n",
              "      fill: #D2E3FC;\n",
              "    }\n",
              "\n",
              "    [theme=dark] .colab-df-convert:hover {\n",
              "      background-color: #434B5C;\n",
              "      box-shadow: 0px 1px 3px 1px rgba(0, 0, 0, 0.15);\n",
              "      filter: drop-shadow(0px 1px 2px rgba(0, 0, 0, 0.3));\n",
              "      fill: #FFFFFF;\n",
              "    }\n",
              "  </style>\n",
              "\n",
              "      <script>\n",
              "        const buttonEl =\n",
              "          document.querySelector('#df-3a67dd51-e860-4b15-981d-ab4a9c02b1f8 button.colab-df-convert');\n",
              "        buttonEl.style.display =\n",
              "          google.colab.kernel.accessAllowed ? 'block' : 'none';\n",
              "\n",
              "        async function convertToInteractive(key) {\n",
              "          const element = document.querySelector('#df-3a67dd51-e860-4b15-981d-ab4a9c02b1f8');\n",
              "          const dataTable =\n",
              "            await google.colab.kernel.invokeFunction('convertToInteractive',\n",
              "                                                     [key], {});\n",
              "          if (!dataTable) return;\n",
              "\n",
              "          const docLinkHtml = 'Like what you see? Visit the ' +\n",
              "            '<a target=\"_blank\" href=https://colab.research.google.com/notebooks/data_table.ipynb>data table notebook</a>'\n",
              "            + ' to learn more about interactive tables.';\n",
              "          element.innerHTML = '';\n",
              "          dataTable['output_type'] = 'display_data';\n",
              "          await google.colab.output.renderOutput(dataTable, element);\n",
              "          const docLink = document.createElement('div');\n",
              "          docLink.innerHTML = docLinkHtml;\n",
              "          element.appendChild(docLink);\n",
              "        }\n",
              "      </script>\n",
              "    </div>\n",
              "  </div>\n",
              "  "
            ]
          },
          "metadata": {},
          "execution_count": 28
        }
      ],
      "source": [
        "test_df"
      ]
    },
    {
      "cell_type": "code",
      "execution_count": null,
      "metadata": {
        "colab": {
          "base_uri": "https://localhost:8080/"
        },
        "id": "aw_fMejyPyc5",
        "outputId": "aed44bb7-3e18-4ee4-94dc-ecbc74efd0eb"
      },
      "outputs": [
        {
          "output_type": "execute_result",
          "data": {
            "text/plain": [
              "(1700, 100)"
            ]
          },
          "metadata": {},
          "execution_count": 29
        }
      ],
      "source": [
        "one_hot_test_labels.shape"
      ]
    },
    {
      "cell_type": "code",
      "execution_count": null,
      "metadata": {
        "colab": {
          "base_uri": "https://localhost:8080/"
        },
        "id": "U-ppYMK-rNYR",
        "outputId": "117b9188-31ee-4742-c348-2c437ea3852f"
      },
      "outputs": [
        {
          "output_type": "execute_result",
          "data": {
            "text/plain": [
              "(7300, 100)"
            ]
          },
          "metadata": {},
          "execution_count": 30
        }
      ],
      "source": [
        "one_hot_train_labels.shape"
      ]
    },
    {
      "cell_type": "markdown",
      "metadata": {
        "id": "8RPI8H6anej7"
      },
      "source": [
        "#process data"
      ]
    },
    {
      "cell_type": "code",
      "execution_count": null,
      "metadata": {
        "id": "Q-rdysvflSe6"
      },
      "outputs": [],
      "source": [
        "train_data = []\n",
        "\n",
        "for index, row in train_df.iterrows():\n",
        "  # strings = row[\"trace_data\"][1:-1].split(\", \")\n",
        "  # # strings[0]\n",
        "  # # print(strings)\n",
        "  # int_array = [int(number) for number in strings]\n",
        "    train_data.append(row[\"trace_data\"])\n"
      ]
    },
    {
      "cell_type": "code",
      "execution_count": null,
      "metadata": {
        "id": "0WB9adfSpLQz"
      },
      "outputs": [],
      "source": [
        "test_data = []\n",
        "\n",
        "for index, row in test_df.iterrows():\n",
        "\n",
        "  # strings = row[\"trace_data\"][1:-1].split(\", \")\n",
        "  # # strings[0]\n",
        "  # # print(strings)\n",
        "  # int_array = [int(number) for number in strings]\n",
        "  test_data.append(row[\"trace_data\"])"
      ]
    },
    {
      "cell_type": "code",
      "execution_count": null,
      "metadata": {
        "id": "774cI1tslTpT"
      },
      "outputs": [],
      "source": [
        "train_data = np.array(train_data)\n",
        "test_data = np.array(test_data)"
      ]
    },
    {
      "cell_type": "code",
      "execution_count": null,
      "metadata": {
        "colab": {
          "base_uri": "https://localhost:8080/"
        },
        "id": "YH0BF2rLlTyl",
        "outputId": "46562236-ee52-4db2-e6e5-71995e51fe6a"
      },
      "outputs": [
        {
          "output_type": "execute_result",
          "data": {
            "text/plain": [
              "(7300, 5000)"
            ]
          },
          "metadata": {},
          "execution_count": 34
        }
      ],
      "source": [
        "np.shape(train_data)"
      ]
    },
    {
      "cell_type": "code",
      "execution_count": null,
      "metadata": {
        "colab": {
          "base_uri": "https://localhost:8080/",
          "height": 424
        },
        "id": "QcrWAgnqqau3",
        "outputId": "eb77f110-df3b-4eb8-85f7-88cfcc372e0c"
      },
      "outputs": [
        {
          "output_type": "execute_result",
          "data": {
            "text/plain": [
              "     page_num trace_num                                         trace_data\n",
              "0          57        77  [-1, -1, -1, -1, 1, 1, -1, -1, -1, -1, -1, -1,...\n",
              "1          50        41  [1, 1, 1, -1, -1, -1, -1, 1, 1, -1, -1, -1, -1...\n",
              "2          97        30  [1, 1, 1, -1, -1, 1, 1, -1, -1, -1, -1, -1, -1...\n",
              "3          51        38  [1, 1, 1, -1, -1, -1, -1, -1, -1, -1, -1, 1, -...\n",
              "4          42        88  [1, 1, 1, -1, -1, -1, -1, -1, -1, -1, -1, -1, ...\n",
              "...       ...       ...                                                ...\n",
              "7295       69        59  [1, 1, -1, -1, -1, -1, -1, -1, -1, -1, -1, 1, ...\n",
              "7296       69        85  [1, 1, -1, -1, -1, -1, -1, -1, -1, -1, -1, 1, ...\n",
              "7297        5        52  [1, 1, -1, -1, -1, -1, -1, -1, -1, -1, -1, 1, ...\n",
              "7298       51        26  [1, 1, 1, 1, 1, 1, 1, -1, -1, 1, 1, -1, -1, -1...\n",
              "7299       77        34  [1, 1, 1, 1, 1, 1, 1, -1, -1, -1, -1, -1, -1, ...\n",
              "\n",
              "[7300 rows x 3 columns]"
            ],
            "text/html": [
              "\n",
              "  <div id=\"df-7d4f17e8-90f3-4164-a36c-de4c263b20f0\">\n",
              "    <div class=\"colab-df-container\">\n",
              "      <div>\n",
              "<style scoped>\n",
              "    .dataframe tbody tr th:only-of-type {\n",
              "        vertical-align: middle;\n",
              "    }\n",
              "\n",
              "    .dataframe tbody tr th {\n",
              "        vertical-align: top;\n",
              "    }\n",
              "\n",
              "    .dataframe thead th {\n",
              "        text-align: right;\n",
              "    }\n",
              "</style>\n",
              "<table border=\"1\" class=\"dataframe\">\n",
              "  <thead>\n",
              "    <tr style=\"text-align: right;\">\n",
              "      <th></th>\n",
              "      <th>page_num</th>\n",
              "      <th>trace_num</th>\n",
              "      <th>trace_data</th>\n",
              "    </tr>\n",
              "  </thead>\n",
              "  <tbody>\n",
              "    <tr>\n",
              "      <th>0</th>\n",
              "      <td>57</td>\n",
              "      <td>77</td>\n",
              "      <td>[-1, -1, -1, -1, 1, 1, -1, -1, -1, -1, -1, -1,...</td>\n",
              "    </tr>\n",
              "    <tr>\n",
              "      <th>1</th>\n",
              "      <td>50</td>\n",
              "      <td>41</td>\n",
              "      <td>[1, 1, 1, -1, -1, -1, -1, 1, 1, -1, -1, -1, -1...</td>\n",
              "    </tr>\n",
              "    <tr>\n",
              "      <th>2</th>\n",
              "      <td>97</td>\n",
              "      <td>30</td>\n",
              "      <td>[1, 1, 1, -1, -1, 1, 1, -1, -1, -1, -1, -1, -1...</td>\n",
              "    </tr>\n",
              "    <tr>\n",
              "      <th>3</th>\n",
              "      <td>51</td>\n",
              "      <td>38</td>\n",
              "      <td>[1, 1, 1, -1, -1, -1, -1, -1, -1, -1, -1, 1, -...</td>\n",
              "    </tr>\n",
              "    <tr>\n",
              "      <th>4</th>\n",
              "      <td>42</td>\n",
              "      <td>88</td>\n",
              "      <td>[1, 1, 1, -1, -1, -1, -1, -1, -1, -1, -1, -1, ...</td>\n",
              "    </tr>\n",
              "    <tr>\n",
              "      <th>...</th>\n",
              "      <td>...</td>\n",
              "      <td>...</td>\n",
              "      <td>...</td>\n",
              "    </tr>\n",
              "    <tr>\n",
              "      <th>7295</th>\n",
              "      <td>69</td>\n",
              "      <td>59</td>\n",
              "      <td>[1, 1, -1, -1, -1, -1, -1, -1, -1, -1, -1, 1, ...</td>\n",
              "    </tr>\n",
              "    <tr>\n",
              "      <th>7296</th>\n",
              "      <td>69</td>\n",
              "      <td>85</td>\n",
              "      <td>[1, 1, -1, -1, -1, -1, -1, -1, -1, -1, -1, 1, ...</td>\n",
              "    </tr>\n",
              "    <tr>\n",
              "      <th>7297</th>\n",
              "      <td>5</td>\n",
              "      <td>52</td>\n",
              "      <td>[1, 1, -1, -1, -1, -1, -1, -1, -1, -1, -1, 1, ...</td>\n",
              "    </tr>\n",
              "    <tr>\n",
              "      <th>7298</th>\n",
              "      <td>51</td>\n",
              "      <td>26</td>\n",
              "      <td>[1, 1, 1, 1, 1, 1, 1, -1, -1, 1, 1, -1, -1, -1...</td>\n",
              "    </tr>\n",
              "    <tr>\n",
              "      <th>7299</th>\n",
              "      <td>77</td>\n",
              "      <td>34</td>\n",
              "      <td>[1, 1, 1, 1, 1, 1, 1, -1, -1, -1, -1, -1, -1, ...</td>\n",
              "    </tr>\n",
              "  </tbody>\n",
              "</table>\n",
              "<p>7300 rows × 3 columns</p>\n",
              "</div>\n",
              "      <button class=\"colab-df-convert\" onclick=\"convertToInteractive('df-7d4f17e8-90f3-4164-a36c-de4c263b20f0')\"\n",
              "              title=\"Convert this dataframe to an interactive table.\"\n",
              "              style=\"display:none;\">\n",
              "        \n",
              "  <svg xmlns=\"http://www.w3.org/2000/svg\" height=\"24px\"viewBox=\"0 0 24 24\"\n",
              "       width=\"24px\">\n",
              "    <path d=\"M0 0h24v24H0V0z\" fill=\"none\"/>\n",
              "    <path d=\"M18.56 5.44l.94 2.06.94-2.06 2.06-.94-2.06-.94-.94-2.06-.94 2.06-2.06.94zm-11 1L8.5 8.5l.94-2.06 2.06-.94-2.06-.94L8.5 2.5l-.94 2.06-2.06.94zm10 10l.94 2.06.94-2.06 2.06-.94-2.06-.94-.94-2.06-.94 2.06-2.06.94z\"/><path d=\"M17.41 7.96l-1.37-1.37c-.4-.4-.92-.59-1.43-.59-.52 0-1.04.2-1.43.59L10.3 9.45l-7.72 7.72c-.78.78-.78 2.05 0 2.83L4 21.41c.39.39.9.59 1.41.59.51 0 1.02-.2 1.41-.59l7.78-7.78 2.81-2.81c.8-.78.8-2.07 0-2.86zM5.41 20L4 18.59l7.72-7.72 1.47 1.35L5.41 20z\"/>\n",
              "  </svg>\n",
              "      </button>\n",
              "      \n",
              "  <style>\n",
              "    .colab-df-container {\n",
              "      display:flex;\n",
              "      flex-wrap:wrap;\n",
              "      gap: 12px;\n",
              "    }\n",
              "\n",
              "    .colab-df-convert {\n",
              "      background-color: #E8F0FE;\n",
              "      border: none;\n",
              "      border-radius: 50%;\n",
              "      cursor: pointer;\n",
              "      display: none;\n",
              "      fill: #1967D2;\n",
              "      height: 32px;\n",
              "      padding: 0 0 0 0;\n",
              "      width: 32px;\n",
              "    }\n",
              "\n",
              "    .colab-df-convert:hover {\n",
              "      background-color: #E2EBFA;\n",
              "      box-shadow: 0px 1px 2px rgba(60, 64, 67, 0.3), 0px 1px 3px 1px rgba(60, 64, 67, 0.15);\n",
              "      fill: #174EA6;\n",
              "    }\n",
              "\n",
              "    [theme=dark] .colab-df-convert {\n",
              "      background-color: #3B4455;\n",
              "      fill: #D2E3FC;\n",
              "    }\n",
              "\n",
              "    [theme=dark] .colab-df-convert:hover {\n",
              "      background-color: #434B5C;\n",
              "      box-shadow: 0px 1px 3px 1px rgba(0, 0, 0, 0.15);\n",
              "      filter: drop-shadow(0px 1px 2px rgba(0, 0, 0, 0.3));\n",
              "      fill: #FFFFFF;\n",
              "    }\n",
              "  </style>\n",
              "\n",
              "      <script>\n",
              "        const buttonEl =\n",
              "          document.querySelector('#df-7d4f17e8-90f3-4164-a36c-de4c263b20f0 button.colab-df-convert');\n",
              "        buttonEl.style.display =\n",
              "          google.colab.kernel.accessAllowed ? 'block' : 'none';\n",
              "\n",
              "        async function convertToInteractive(key) {\n",
              "          const element = document.querySelector('#df-7d4f17e8-90f3-4164-a36c-de4c263b20f0');\n",
              "          const dataTable =\n",
              "            await google.colab.kernel.invokeFunction('convertToInteractive',\n",
              "                                                     [key], {});\n",
              "          if (!dataTable) return;\n",
              "\n",
              "          const docLinkHtml = 'Like what you see? Visit the ' +\n",
              "            '<a target=\"_blank\" href=https://colab.research.google.com/notebooks/data_table.ipynb>data table notebook</a>'\n",
              "            + ' to learn more about interactive tables.';\n",
              "          element.innerHTML = '';\n",
              "          dataTable['output_type'] = 'display_data';\n",
              "          await google.colab.output.renderOutput(dataTable, element);\n",
              "          const docLink = document.createElement('div');\n",
              "          docLink.innerHTML = docLinkHtml;\n",
              "          element.appendChild(docLink);\n",
              "        }\n",
              "      </script>\n",
              "    </div>\n",
              "  </div>\n",
              "  "
            ]
          },
          "metadata": {},
          "execution_count": 35
        }
      ],
      "source": [
        "train_df"
      ]
    },
    {
      "cell_type": "markdown",
      "metadata": {
        "id": "h3JS34uWqknA"
      },
      "source": [
        "#Make the dataset"
      ]
    },
    {
      "cell_type": "code",
      "execution_count": null,
      "metadata": {
        "id": "9Sr4wA-2qpg6"
      },
      "outputs": [],
      "source": [
        "BATCH_SIZE = 50"
      ]
    },
    {
      "cell_type": "code",
      "execution_count": null,
      "metadata": {
        "id": "aL5Sck5mn-96"
      },
      "outputs": [],
      "source": [
        "train_data = tf.cast(train_data, tf.float32)\n",
        "test_data = tf.cast(test_data, tf.float32)"
      ]
    },
    {
      "cell_type": "code",
      "execution_count": null,
      "metadata": {
        "id": "te0ufyzVql-0"
      },
      "outputs": [],
      "source": [
        "train_dataset = tf.data.Dataset.from_tensor_slices((train_data, one_hot_train_labels))\n",
        "test_dataset = tf.data.Dataset.from_tensor_slices((test_data, one_hot_test_labels))"
      ]
    },
    {
      "cell_type": "code",
      "execution_count": null,
      "metadata": {
        "id": "DfeHte90qmJS"
      },
      "outputs": [],
      "source": [
        "train_dataset = train_dataset.batch(BATCH_SIZE)\n",
        "train_dataset = train_dataset.prefetch(tf.data.AUTOTUNE)\n",
        "\n",
        "test_dataset = test_dataset.batch(BATCH_SIZE)\n",
        "test_dataset = test_dataset.prefetch(tf.data.AUTOTUNE)"
      ]
    },
    {
      "cell_type": "code",
      "execution_count": null,
      "metadata": {
        "colab": {
          "base_uri": "https://localhost:8080/"
        },
        "id": "eYM4jxMcqmTM",
        "outputId": "35a381a0-ab57-46e4-b0a3-ab3367653f9c"
      },
      "outputs": [
        {
          "output_type": "execute_result",
          "data": {
            "text/plain": [
              "(<PrefetchDataset element_spec=(TensorSpec(shape=(None, 5000), dtype=tf.float32, name=None), TensorSpec(shape=(None, 100), dtype=tf.float64, name=None))>,\n",
              " <PrefetchDataset element_spec=(TensorSpec(shape=(None, 5000), dtype=tf.float32, name=None), TensorSpec(shape=(None, 100), dtype=tf.float64, name=None))>)"
            ]
          },
          "metadata": {},
          "execution_count": 40
        }
      ],
      "source": [
        "test_dataset, train_dataset"
      ]
    },
    {
      "cell_type": "markdown",
      "metadata": {
        "id": "HoK3hM61qOFx"
      },
      "source": [
        "##SDAE + MLP\n",
        "\n",
        "Make 2 layers of SDAE, then followed by MLP\n",
        "\n",
        "5000 - 500 - 125 - 500 - 5000 - 100\n",
        "\n",
        "SDAE is: \n",
        "5000 - 500 - 125 - 500 - 5000\n",
        "\n",
        "lr = 0.001, batch size = 50\n",
        "\n",
        "\n",
        "MLP is:\n",
        "\n",
        "5000 -> 100\n",
        "\n",
        "\n"
      ]
    },
    {
      "cell_type": "code",
      "execution_count": null,
      "metadata": {
        "id": "BymxYK0pjh93"
      },
      "outputs": [],
      "source": [
        "# layer_1 = 5000\n",
        "# layer_2 = 750\n",
        "# layer_3 = 500\n",
        "# center_layer = 250\n",
        "\n",
        "# model_1 = tf.keras.Sequential([\n",
        "#   tf.keras.layers.Dense(layer_1, \"relu\", kernel_initializer=\"he_normal\"),\n",
        "#   tf.keras.layers.Dense(layer_2, \"relu\", kernel_initializer=\"he_normal\"),\n",
        "#   tf.keras.layers.Dense(center_layer, \"relu\", kernel_initializer=\"he_normal\"),\n",
        "#   tf.keras.layers.Dense(layer_2, \"relu\", kernel_initializer=\"he_normal\"),\n",
        "#   tf.keras.layers.Dense(layer_1, \"relu\", kernel_initializer=\"he_normal\"),\n",
        "#   tf.keras.layers.Dense(100, \"softmax\", kernel_initializer=\"he_normal\"),\n",
        "# ])"
      ]
    },
    {
      "cell_type": "code",
      "execution_count": null,
      "metadata": {
        "id": "dhBjyvgPLpy1"
      },
      "outputs": [],
      "source": [
        "import os\n",
        "\n",
        "def make_model_checkpoint(name, path = \"/content/model_exp/\"):\n",
        "  return tf.keras.callbacks.ModelCheckpoint(os.path.join(path, name), save_best_only = True, verbose = 0, monitor=\"val_accuracy\")\n",
        "  #, monitor=\"val_accuracy\""
      ]
    },
    {
      "cell_type": "code",
      "execution_count": null,
      "metadata": {
        "id": "68uxvOxyIVL6"
      },
      "outputs": [],
      "source": [
        "# model_1.compile(loss = \"categorical_crossentropy\",\n",
        "#                 optimizer=tf.keras.optimizers.Adam(learning_rate=0.001),\n",
        "#                 metrics = [\"accuracy\"],\n",
        "#               )\n",
        "\n",
        "# history_1 = model_1.fit(train_dataset, epochs = 100,\n",
        "#                         validation_data=test_dataset, \n",
        "#                     callbacks = [make_model_checkpoint(\"model_1\")])"
      ]
    },
    {
      "cell_type": "code",
      "execution_count": null,
      "metadata": {
        "id": "eq_ZE7UAJP0H"
      },
      "outputs": [],
      "source": [
        "# new_model_1 = tf.keras.models.load_model(\"/content/model_exp/model_1\")\n",
        "# new_model_1.evaluate(test_dataset)"
      ]
    },
    {
      "cell_type": "code",
      "execution_count": null,
      "metadata": {
        "id": "LGNwOxv2crYC"
      },
      "outputs": [],
      "source": [
        "# plt.figure(figsize=(9, 9))\n",
        "# plt.plot(history_1.history['val_accuracy'])\n",
        "# plt.title('2 layer SDAE close world testing accuracy')\n",
        "# plt.ylabel('accuracy')\n",
        "# plt.xlabel('epoch')\n",
        "# plt.legend(['testing accuracy'], loc='upper left')\n",
        "\n",
        "\n",
        "# plt.savefig('2 layer SDAE close world testing accuracy.png', bbox_inches='tight')\n",
        "# plt.show()\n",
        "\n",
        "# files.download('2 layer SDAE close world testing accuracy.png')"
      ]
    },
    {
      "cell_type": "code",
      "execution_count": null,
      "metadata": {
        "colab": {
          "base_uri": "https://localhost:8080/"
        },
        "id": "9aCfWhLlNF-n",
        "outputId": "3f79c187-dd2b-4318-db7d-f9b0f72f6a29"
      },
      "outputs": [
        {
          "output_type": "stream",
          "name": "stdout",
          "text": [
            "Tue Jul 26 14:44:01 2022       \n",
            "+-----------------------------------------------------------------------------+\n",
            "| NVIDIA-SMI 460.32.03    Driver Version: 460.32.03    CUDA Version: 11.2     |\n",
            "|-------------------------------+----------------------+----------------------+\n",
            "| GPU  Name        Persistence-M| Bus-Id        Disp.A | Volatile Uncorr. ECC |\n",
            "| Fan  Temp  Perf  Pwr:Usage/Cap|         Memory-Usage | GPU-Util  Compute M. |\n",
            "|                               |                      |               MIG M. |\n",
            "|===============================+======================+======================|\n",
            "|   0  Tesla T4            Off  | 00000000:00:04.0 Off |                    0 |\n",
            "| N/A   55C    P0    29W /  70W |    796MiB / 15109MiB |      6%      Default |\n",
            "|                               |                      |                  N/A |\n",
            "+-------------------------------+----------------------+----------------------+\n",
            "                                                                               \n",
            "+-----------------------------------------------------------------------------+\n",
            "| Processes:                                                                  |\n",
            "|  GPU   GI   CI        PID   Type   Process name                  GPU Memory |\n",
            "|        ID   ID                                                   Usage      |\n",
            "|=============================================================================|\n",
            "+-----------------------------------------------------------------------------+\n"
          ]
        }
      ],
      "source": [
        "!nvidia-smi"
      ]
    },
    {
      "cell_type": "markdown",
      "metadata": {
        "id": "k0e0FOx8Q9jf"
      },
      "source": [
        "##try triple layer"
      ]
    },
    {
      "cell_type": "code",
      "execution_count": null,
      "metadata": {
        "id": "idrMUKijQ9Ru"
      },
      "outputs": [],
      "source": [
        "# layer_1 = 5000\n",
        "# layer_2 = 750\n",
        "# layer_3 = 500\n",
        "# center_layer = 250\n",
        "\n",
        "# model_2 = tf.keras.Sequential([\n",
        "#   tf.keras.layers.Dense(layer_1, \"relu\"),\n",
        "#   tf.keras.layers.Dense(layer_2, \"relu\"),\n",
        "#   tf.keras.layers.Dense(layer_3, \"relu\"),\n",
        "#   tf.keras.layers.Dense(center_layer, \"relu\"),\n",
        "#   tf.keras.layers.Dense(layer_3, \"relu\"),\n",
        "#   tf.keras.layers.Dense(layer_2, \"relu\"),\n",
        "#   tf.keras.layers.Dense(layer_1, \"relu\"),\n",
        "#   tf.keras.layers.Dense(100, \"softmax\"),\n",
        "# ])"
      ]
    },
    {
      "cell_type": "code",
      "execution_count": null,
      "metadata": {
        "id": "7DbgkXSYRARX"
      },
      "outputs": [],
      "source": [
        "# model_2.compile(loss = \"categorical_crossentropy\",\n",
        "#                 optimizer=tf.keras.optimizers.Adam(learning_rate=0.001),\n",
        "#                 metrics = [\"accuracy\"],\n",
        "#               )\n",
        "\n",
        "# history_2 = model_2.fit(train_dataset, epochs = 100,\n",
        "#                         validation_data=test_dataset, \n",
        "#                     callbacks = [make_model_checkpoint(\"model_2\")])"
      ]
    },
    {
      "cell_type": "code",
      "execution_count": null,
      "metadata": {
        "id": "zEIzmHVPRBTo"
      },
      "outputs": [],
      "source": [
        "# new_model_2 = tf.keras.models.load_model(\"/content/model_exp/model_2\")\n",
        "# new_model_2.evaluate(test_dataset)"
      ]
    },
    {
      "cell_type": "code",
      "execution_count": null,
      "metadata": {
        "id": "OPRCrnyuRTQI"
      },
      "outputs": [],
      "source": [
        "# plt.figure(figsize=(9, 9))\n",
        "# plt.plot(history_2.history['val_accuracy'])\n",
        "# plt.title('3 layer SDAE close world testing accuracy')\n",
        "# plt.ylabel('accuracy')\n",
        "# plt.xlabel('epoch')\n",
        "# plt.legend(['testing accuracy'], loc='upper left')\n",
        "\n",
        "\n",
        "# plt.savefig('3 layer SDAE close world testing accuracy.png', bbox_inches='tight')\n",
        "# plt.show()\n",
        "\n",
        "# files.download('3 layer SDAE close world testing accuracy.png')"
      ]
    },
    {
      "cell_type": "markdown",
      "metadata": {
        "id": "En71Me-W3yUr"
      },
      "source": [
        "#Improve model"
      ]
    },
    {
      "cell_type": "markdown",
      "metadata": {
        "id": "Kd04x_2R8YHE"
      },
      "source": [
        "##model 3"
      ]
    },
    {
      "cell_type": "code",
      "execution_count": null,
      "metadata": {
        "id": "hJoVQIIEnUt6"
      },
      "outputs": [],
      "source": [
        "import tensorflow.keras.layers as layers"
      ]
    },
    {
      "cell_type": "code",
      "execution_count": null,
      "metadata": {
        "id": "qPdgGEIf30EC"
      },
      "outputs": [],
      "source": [
        "# model_3 = tf.keras.Sequential([\n",
        "#   layers.Lambda(lambda x: tf.expand_dims(x, axis = 1)),\n",
        "#   layers.Conv1D(5000, 5, padding = 'causal', activation=\"relu\"),\n",
        "#   layers.GlobalMaxPooling1D(),\n",
        "#   layers.Dense(100, activation=\"softmax\")\n",
        "# ], name = \"Conv1D\")\n",
        "\n",
        "# model_3.compile(loss = \"categorical_crossentropy\",\n",
        "#                 optimizer = \"Adam\",\n",
        "#                 metrics = [\"accuracy\"])\n",
        "\n",
        "# history_3 = model_3.fit(train_dataset, epochs = 40,\n",
        "#                         validation_data=test_dataset, \n",
        "#                     callbacks = [make_model_checkpoint(\"model_3\")])"
      ]
    },
    {
      "cell_type": "code",
      "execution_count": null,
      "metadata": {
        "id": "MURT76IOrOlf"
      },
      "outputs": [],
      "source": [
        "# new_model_3 = tf.keras.models.load_model(\"/content/model_exp/model_3\")\n",
        "# new_model_3.evaluate(test_dataset)"
      ]
    },
    {
      "cell_type": "code",
      "execution_count": null,
      "metadata": {
        "id": "dfE87A2arUBT"
      },
      "outputs": [],
      "source": [
        "# plt.figure(figsize=(9, 9))\n",
        "# plt.plot(history_3.history['val_accuracy'])\n",
        "# plt.title('Conv1D close world testing accuracy')\n",
        "# plt.ylabel('accuracy')\n",
        "# plt.xlabel('epoch')\n",
        "# plt.legend(['testing accuracy'], loc='upper left')\n",
        "\n",
        "\n",
        "# plt.savefig('Conv1D close world testing accuracy.png', bbox_inches='tight')\n",
        "# plt.show()\n",
        "\n",
        "# files.download('Conv1D close world testing accuracy.png')"
      ]
    },
    {
      "cell_type": "markdown",
      "metadata": {
        "id": "0dP5TEnPu0bS"
      },
      "source": [
        "model 3 got 88.29%"
      ]
    },
    {
      "cell_type": "markdown",
      "metadata": {
        "id": "5FF9ov1ruwPE"
      },
      "source": [
        "##model 4"
      ]
    },
    {
      "cell_type": "code",
      "execution_count": null,
      "metadata": {
        "id": "Clo02N3krg6-"
      },
      "outputs": [],
      "source": [
        "# model_4 = tf.keras.Sequential([\n",
        "#   layers.Dense(5000, activation=\"relu\"),\n",
        "#   layers.Dense(750, activation=\"relu\"),\n",
        "\n",
        "#   layers.Lambda(lambda x: tf.expand_dims(x, axis = 1)),\n",
        "#   layers.Conv1D(500, 5, padding = 'causal', activation=\"relu\"),\n",
        "#   layers.GlobalMaxPooling1D(),\n",
        "\n",
        "#   layers.Dense(750, activation=\"relu\"),\n",
        "#   layers.Dense(5000, activation=\"relu\"),\n",
        "\n",
        "\n",
        "#   layers.Dense(100, activation=\"softmax\")\n",
        "# ], name = \"Conv1D\")\n",
        "\n",
        "# model_4.compile(loss = \"categorical_crossentropy\",\n",
        "#                 optimizer = \"Adam\",\n",
        "#                 metrics = [\"accuracy\"])\n",
        "\n",
        "# history_4 = model_4.fit(train_dataset, epochs = 40,\n",
        "#                         validation_data=test_dataset, \n",
        "#                     callbacks = [make_model_checkpoint(\"model_4\")])"
      ]
    },
    {
      "cell_type": "markdown",
      "metadata": {
        "id": "8vd9JbqfyNcM"
      },
      "source": [
        "##model 5"
      ]
    },
    {
      "cell_type": "code",
      "execution_count": null,
      "metadata": {
        "id": "UjKKzV_iyOjm"
      },
      "outputs": [],
      "source": [
        "# model_5 = tf.keras.models.Sequential([\n",
        "#   layers.Lambda(lambda x: tf.expand_dims(x, axis = 1)),\n",
        "#   layers.LSTM(5000, return_sequences=True, name=\"lstm_layer\"),\n",
        "#   layers.GlobalMaxPooling1D(),  \n",
        "#   layers.Dense(100, activation=\"softmax\")\n",
        "# ], name = \"LSTM-BASIC\")\n",
        "\n",
        "# model_5.compile(loss = \"categorical_crossentropy\",\n",
        "#                 optimizer = \"Adam\",\n",
        "#                 metrics = [\"accuracy\"])\n",
        "\n",
        "# history_5 = model_5.fit(train_dataset, epochs = 40,\n",
        "#                         validation_data=test_dataset, \n",
        "#                     callbacks = [make_model_checkpoint(\"model_5\")])\n",
        "\n"
      ]
    },
    {
      "cell_type": "code",
      "execution_count": null,
      "metadata": {
        "id": "xln7psiNySNG"
      },
      "outputs": [],
      "source": [
        "# new_model_5 = tf.keras.models.load_model(\"/content/model_exp/model_5\")\n",
        "# new_model_5.evaluate(test_dataset)"
      ]
    },
    {
      "cell_type": "markdown",
      "metadata": {
        "id": "sNYzklbS79Mg"
      },
      "source": [
        "88.11% accuracy"
      ]
    },
    {
      "cell_type": "markdown",
      "metadata": {
        "id": "-lQbXpVkx8Ov"
      },
      "source": [
        "#Ensemble model"
      ]
    },
    {
      "cell_type": "code",
      "execution_count": null,
      "metadata": {
        "id": "_3yO1SneyVgW"
      },
      "outputs": [],
      "source": [
        "def make_2layer_SDAE(layer_1, center_layer, name):\n",
        "  model = tf.keras.Sequential([\n",
        "    tf.keras.layers.Dense(5000, \"relu\", kernel_initializer=\"he_normal\"),\n",
        "    tf.keras.layers.Dense(layer_1, \"relu\", kernel_initializer=\"he_normal\"),\n",
        "    tf.keras.layers.Dense(center_layer, \"relu\", kernel_initializer=\"he_normal\"),\n",
        "    tf.keras.layers.Dense(layer_1, \"relu\", kernel_initializer=\"he_normal\"),\n",
        "    tf.keras.layers.Dense(5000, \"relu\", kernel_initializer=\"he_normal\"),\n",
        "    tf.keras.layers.Dense(100, \"softmax\", kernel_initializer=\"he_normal\"),\n",
        "  ])\n",
        "  model.compile(loss = \"categorical_crossentropy\",\n",
        "                optimizer=tf.keras.optimizers.Adam(learning_rate=0.001),\n",
        "                metrics = [\"accuracy\"],\n",
        "              )\n",
        "  model.fit(train_dataset, epochs = 100,\n",
        "                        validation_data=test_dataset, \n",
        "                    callbacks = [tf.keras.callbacks.EarlyStopping(monitor='val_accuracy', patience=20, restore_best_weights=True)], verbose=None)\n",
        "  return model"
      ]
    },
    {
      "cell_type": "code",
      "execution_count": null,
      "metadata": {
        "id": "OFKoA7axy7J2"
      },
      "outputs": [],
      "source": [
        "def make_3layer_SDAE(layer_1, layer_2, center_layer):\n",
        "  model_1 = tf.keras.Sequential([\n",
        "    tf.keras.layers.Dense(5000, \"relu\", kernel_initializer=\"he_normal\"),\n",
        "    tf.keras.layers.Dense(layer_1, \"relu\", kernel_initializer=\"he_normal\"),\n",
        "    tf.keras.layers.Dense(layer_2, \"relu\", kernel_initializer=\"he_normal\"),\n",
        "    tf.keras.layers.Dense(center_layer, \"relu\", kernel_initializer=\"he_normal\"),\n",
        "    tf.keras.layers.Dense(layer_2, \"relu\", kernel_initializer=\"he_normal\"),\n",
        "    tf.keras.layers.Dense(layer_1, \"relu\", kernel_initializer=\"he_normal\"),\n",
        "    tf.keras.layers.Dense(5000, \"relu\", kernel_initializer=\"he_normal\"),\n",
        "    tf.keras.layers.Dense(100, \"softmax\", kernel_initializer=\"he_normal\"),\n",
        "  ])\n",
        "  model_1.compile(loss = \"categorical_crossentropy\",\n",
        "                optimizer=tf.keras.optimizers.Adam(learning_rate=0.001),\n",
        "                metrics = [\"accuracy\"],\n",
        "              )\n",
        "  model_1.fit(train_dataset, epochs = 20,\n",
        "                        validation_data=test_dataset, \n",
        "                    callbacks = [tf.keras.callbacks.EarlyStopping(monitor='val_accuracy', patience=20, restore_best_weights=True)], verbose=None)\n",
        "  \n",
        "  return model_1"
      ]
    },
    {
      "cell_type": "code",
      "execution_count": null,
      "metadata": {
        "id": "dnPOdJgZzLJK"
      },
      "outputs": [],
      "source": [
        "ensemble_models = []\n",
        "#add in 2 layers\n",
        "\n",
        "i = 1000\n",
        "while i > 0:\n",
        "  j = i\n",
        "\n",
        "  while j > 0:\n",
        "    print(\"layer 1:\\t\" + str(i) + \"\\tlayer 2:\\t\" + str(j))\n",
        "    ensemble_models.append(make_2layer_SDAE(i, j, \"model_\"+str(i)+\"_\"+str(j)))\n",
        "    j -= 250\n",
        "  i-=250\n",
        "\n"
      ]
    },
    {
      "cell_type": "code",
      "execution_count": null,
      "metadata": {
        "id": "WbJHukk8g1KG"
      },
      "outputs": [],
      "source": [
        "ensemble_models"
      ]
    },
    {
      "cell_type": "code",
      "execution_count": null,
      "metadata": {
        "id": "pRb7N3qK15DG"
      },
      "outputs": [],
      "source": [
        "def make_ensemble_preds(ensemble, input):\n",
        "  preds = []\n",
        "  for model in ensemble:\n",
        "    preds.append(one_hot_encoder.inverse_transform(model.predict(input)))\n",
        "    \n",
        "  return tf.constant(preds)"
      ]
    },
    {
      "cell_type": "code",
      "execution_count": null,
      "metadata": {
        "id": "aQXRcajfhl29"
      },
      "outputs": [],
      "source": [
        "x = make_ensemble_preds(ensemble_models, test_dataset)\n",
        "predictions = []\n",
        "for j in range(len(one_hot_test_labels)):\n",
        "  ans = []\n",
        "  for i in range(len(ensemble_models)):\n",
        "    ans.append(x[i][j])\n",
        "  a = tf.math.bincount(ans)\n",
        "  a = tf.math.argmax(a).numpy()\n",
        "  predictions.append(a)\n",
        "  # print(a)\n",
        "\n",
        "y_preds = np.array(predictions, dtype=int)"
      ]
    },
    {
      "cell_type": "code",
      "source": [
        "y_true = test_df[\"page_num\"].to_numpy().astype(int)"
      ],
      "metadata": {
        "id": "fk7MaB7szWPx"
      },
      "execution_count": null,
      "outputs": []
    },
    {
      "cell_type": "code",
      "source": [
        "from sklearn.metrics import accuracy_score, precision_recall_fscore_support"
      ],
      "metadata": {
        "id": "DVtMv6JIzbEY"
      },
      "execution_count": null,
      "outputs": []
    },
    {
      "cell_type": "code",
      "source": [
        "accuracy = accuracy_score(y_true, y_preds)\n",
        "accuracy"
      ],
      "metadata": {
        "id": "4kwZ_ga2zecb"
      },
      "execution_count": null,
      "outputs": []
    },
    {
      "cell_type": "code",
      "source": [
        "def evaluate(y_true, y_pred):\n",
        "  #model accuracy\n",
        "  accuracy = accuracy_score(y_true, y_pred)\n",
        "\n",
        "  precision, recall, f1, _ = precision_recall_fscore_support(y_true, y_pred, average = \"weighted\")\n",
        "\n",
        "  results = {\n",
        "      \"accuracy\": accuracy * 100,\n",
        "      \"precision\": precision * 100,\n",
        "      \"recall\": recall *100,\n",
        "      \"f1 score\": f1 * 100\n",
        "  }\n",
        "\n",
        "  return results"
      ],
      "metadata": {
        "id": "jDTkW1DJ6_Zx"
      },
      "execution_count": null,
      "outputs": []
    },
    {
      "cell_type": "code",
      "source": [
        "ensemble_evaluation = evaluate(y_true, y_preds)\n",
        "ensemble_evaluation"
      ],
      "metadata": {
        "id": "uy2DrQyVJdSF"
      },
      "execution_count": null,
      "outputs": []
    },
    {
      "cell_type": "code",
      "source": [
        "y_preds"
      ],
      "metadata": {
        "id": "DHwK_nA3NSvm"
      },
      "execution_count": null,
      "outputs": []
    },
    {
      "cell_type": "code",
      "source": [
        "!nvidia-smi"
      ],
      "metadata": {
        "id": "e2kUK39TmJUJ"
      },
      "execution_count": null,
      "outputs": []
    },
    {
      "cell_type": "code",
      "source": [
        "model_1 = tf.keras.Sequential([\n",
        "    tf.keras.layers.Dense(5000, \"relu\", kernel_initializer=\"he_normal\"),\n",
        "    tf.keras.layers.Dense(750, \"relu\", kernel_initializer=\"he_normal\"),\n",
        "    tf.keras.layers.Dense(500, \"relu\", kernel_initializer=\"he_normal\"),\n",
        "    tf.keras.layers.Dense(750, \"relu\", kernel_initializer=\"he_normal\"),\n",
        "    tf.keras.layers.Dense(5000, \"relu\", kernel_initializer=\"he_normal\"),\n",
        "    tf.keras.layers.Dense(100, \"softmax\", kernel_initializer=\"he_normal\"),\n",
        "])\n",
        "model_1.compile(loss = \"categorical_crossentropy\",\n",
        "                optimizer=tf.keras.optimizers.Adam(learning_rate=0.001),\n",
        "                metrics = [\"accuracy\"],\n",
        "              )\n",
        "model_1.fit(train_dataset, epochs = 40,\n",
        "                        validation_data=test_dataset, \n",
        "                    callbacks = [make_model_checkpoint(\"model_1\")])\n",
        "\n",
        "new_model_1 = tf.keras.models.load_model(\"/content/model_exp/model_1\")\n",
        "new_model_1.evaluate(test_dataset)"
      ],
      "metadata": {
        "id": "jLnok7yV1ZlL"
      },
      "execution_count": null,
      "outputs": []
    },
    {
      "cell_type": "code",
      "source": [
        "layer2_preds = one_hot_encoder.inverse_transform(new_model_1.predict(test_dataset))\n",
        "y_layer2_preds = np.array(layer2_preds, dtype=int)\n",
        "y_layer2_preds = y_layer2_preds.reshape(1, -1).flatten()\n",
        "sdae_evaluation = evaluate(y_true, y_layer2_preds)\n",
        "sdae_evaluation"
      ],
      "metadata": {
        "id": "xXQlsylT5XQE"
      },
      "execution_count": null,
      "outputs": []
    },
    {
      "cell_type": "code",
      "source": [
        ""
      ],
      "metadata": {
        "id": "WyLwCX2-N0Ly"
      },
      "execution_count": null,
      "outputs": []
    }
  ],
  "metadata": {
    "accelerator": "GPU",
    "colab": {
      "collapsed_sections": [],
      "name": "Tor-deep-learning.ipynb",
      "toc_visible": true,
      "provenance": [],
      "authorship_tag": "ABX9TyPxZqqcAayCDdzYpnQvHbcU",
      "include_colab_link": true
    },
    "gpuClass": "standard",
    "kernelspec": {
      "display_name": "Python 3",
      "name": "python3"
    },
    "language_info": {
      "name": "python"
    }
  },
  "nbformat": 4,
  "nbformat_minor": 0
}