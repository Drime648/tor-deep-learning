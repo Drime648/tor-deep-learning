{
  "nbformat": 4,
  "nbformat_minor": 0,
  "metadata": {
    "colab": {
      "name": "Tor-deep-learning.ipynb",
      "provenance": [],
      "collapsed_sections": [],
      "toc_visible": true,
      "authorship_tag": "ABX9TyMXeDgVfuMt4EVKviUKURj+",
      "include_colab_link": true
    },
    "kernelspec": {
      "name": "python3",
      "display_name": "Python 3"
    },
    "language_info": {
      "name": "python"
    },
    "gpuClass": "standard",
    "accelerator": "GPU"
  },
  "cells": [
    {
      "cell_type": "markdown",
      "metadata": {
        "id": "view-in-github",
        "colab_type": "text"
      },
      "source": [
        "<a href=\"https://colab.research.google.com/github/Drime648/tor-deep-learning/blob/main/Tor_deep_learning.ipynb\" target=\"_parent\"><img src=\"https://colab.research.google.com/assets/colab-badge.svg\" alt=\"Open In Colab\"/></a>"
      ]
    },
    {
      "cell_type": "code",
      "source": [
        "#imports\n",
        "\n",
        "import pandas as pd\n",
        "import zipfile\n",
        "import os, os.path\n",
        "import pathlib\n",
        "import numpy as np\n",
        "from matplotlib import pyplot as plt\n",
        "import tensorflow as tf\n",
        "from sklearn.preprocessing import OneHotEncoder\n"
      ],
      "metadata": {
        "id": "o3tV6fkuh8dw"
      },
      "execution_count": null,
      "outputs": []
    },
    {
      "cell_type": "markdown",
      "source": [
        "# Extracting the data\n",
        "\n",
        "We extract the data, split it, and put it into train and test dataframes"
      ],
      "metadata": {
        "id": "2L_0lOrHT9AT"
      }
    },
    {
      "cell_type": "code",
      "execution_count": null,
      "metadata": {
        "id": "kzv_iCXt6JYg"
      },
      "outputs": [],
      "source": [
        ""
      ]
    },
    {
      "cell_type": "code",
      "source": [
        "!wget https://github.com/kdsec/wangknn-dataset/raw/master/data.zip\n",
        "import zipfile\n",
        "zipref = zipfile.ZipFile(\"data.zip\")\n",
        "zipref.extractall()\n",
        "# zipref.close()\n",
        "!wget https://raw.githubusercontent.com/mrdbourke/tensorflow-deep-learning/main/extras/helper_functions.py\n",
        "from helper_functions import create_tensorboard_callback, plot_loss_curves, unzip_data, walk_through_dir\n",
        "\n",
        "unzip_data(\"data.zip\")\n",
        "walk_through_dir(\"/content/data.zip\")"
      ],
      "metadata": {
        "id": "unVfAKmA6nQj",
        "colab": {
          "base_uri": "https://localhost:8080/"
        },
        "outputId": "e57df4fe-402b-45a3-d5a9-fd6cad1c9eaa"
      },
      "execution_count": null,
      "outputs": [
        {
          "output_type": "stream",
          "name": "stdout",
          "text": [
            "--2022-07-18 19:42:35--  https://github.com/kdsec/wangknn-dataset/raw/master/data.zip\n",
            "Resolving github.com (github.com)... 20.205.243.166\n",
            "Connecting to github.com (github.com)|20.205.243.166|:443... connected.\n",
            "HTTP request sent, awaiting response... 302 Found\n",
            "Location: https://raw.githubusercontent.com/kdsec/wangknn-dataset/master/data.zip [following]\n",
            "--2022-07-18 19:42:36--  https://raw.githubusercontent.com/kdsec/wangknn-dataset/master/data.zip\n",
            "Resolving raw.githubusercontent.com (raw.githubusercontent.com)... 185.199.108.133, 185.199.109.133, 185.199.110.133, ...\n",
            "Connecting to raw.githubusercontent.com (raw.githubusercontent.com)|185.199.108.133|:443... connected.\n",
            "HTTP request sent, awaiting response... 200 OK\n",
            "Length: 77101936 (74M) [application/zip]\n",
            "Saving to: ‘data.zip.1’\n",
            "\n",
            "data.zip.1          100%[===================>]  73.53M   140MB/s    in 0.5s    \n",
            "\n",
            "2022-07-18 19:42:37 (140 MB/s) - ‘data.zip.1’ saved [77101936/77101936]\n",
            "\n",
            "--2022-07-18 19:42:48--  https://raw.githubusercontent.com/mrdbourke/tensorflow-deep-learning/main/extras/helper_functions.py\n",
            "Resolving raw.githubusercontent.com (raw.githubusercontent.com)... 185.199.108.133, 185.199.109.133, 185.199.110.133, ...\n",
            "Connecting to raw.githubusercontent.com (raw.githubusercontent.com)|185.199.108.133|:443... connected.\n",
            "HTTP request sent, awaiting response... 200 OK\n",
            "Length: 10246 (10K) [text/plain]\n",
            "Saving to: ‘helper_functions.py.1’\n",
            "\n",
            "helper_functions.py 100%[===================>]  10.01K  --.-KB/s    in 0s      \n",
            "\n",
            "2022-07-18 19:42:48 (86.4 MB/s) - ‘helper_functions.py.1’ saved [10246/10246]\n",
            "\n"
          ]
        }
      ]
    },
    {
      "cell_type": "code",
      "source": [
        "# walk_through_dir(\"/content\")"
      ],
      "metadata": {
        "id": "CvyVQ5Mx-KHF"
      },
      "execution_count": null,
      "outputs": []
    },
    {
      "cell_type": "code",
      "source": [
        "# !ls"
      ],
      "metadata": {
        "id": "tsdYlfI6-fic"
      },
      "execution_count": null,
      "outputs": []
    },
    {
      "cell_type": "code",
      "source": [
        "# import pandas as pd\n",
        "\n",
        "train_df = pd.DataFrame(columns = [\"page_num\", \"trace_num\", \"trace_data\"])\n",
        "test_df = pd.DataFrame(columns = [\"page_num\", \"trace_num\", \"trace_data\"])\n",
        "# #72-18 split\n",
        "\n",
        "#page_num goes from 0-99, this is the classes we will predict\n",
        "#trace_num goes from 0-89, as each monitored site has 90 traces.\n",
        "#In total it is 90*100 = 9,000 traces"
      ],
      "metadata": {
        "id": "w7Ne_xX3-rhL"
      },
      "execution_count": null,
      "outputs": []
    },
    {
      "cell_type": "code",
      "source": [
        "import os, os.path\n",
        "import pathlib\n",
        "\n",
        "PATH = pathlib.Path(\"/content\")\n",
        "path, dirs, files = next(os.walk(PATH))"
      ],
      "metadata": {
        "id": "u4MW5a-rC0vl"
      },
      "execution_count": null,
      "outputs": []
    },
    {
      "cell_type": "code",
      "source": [
        "def get_lines(filename):\n",
        "  with open(filename) as f:\n",
        "    return f.readlines()"
      ],
      "metadata": {
        "id": "N17tEuS2EiMj"
      },
      "execution_count": null,
      "outputs": []
    },
    {
      "cell_type": "code",
      "source": [
        "def preprocess_lines(filename):\n",
        "  input_lines = get_lines(filename)\n",
        "  samples = []\n",
        "\n",
        "  for line in input_lines:\n",
        "    x = line.split()\n",
        "    samples.append(int(x[1]))\n",
        "\n",
        "    \n",
        "  return samples"
      ],
      "metadata": {
        "id": "m3GHDf9TE4QY"
      },
      "execution_count": null,
      "outputs": []
    },
    {
      "cell_type": "code",
      "source": [
        "page_num = 0\n",
        "trace_num = 0\n",
        "trace_data = []\n",
        "for file in files:\n",
        "  if(\"-\" in file):\n",
        "    # print(file)\n",
        "    x = file.split(\"-\")\n",
        "    page_num = int(x[0])\n",
        "    trace_num = int(x[1])\n",
        "    trace_data = preprocess_lines(file)\n",
        "    if(len(trace_data) > 0):#Filter can be anything. Right now it is zero\n",
        "    \n",
        "      #make sure the length is exactly 5000\n",
        "      while(len(trace_data) < 5000):\n",
        "          trace_data.append(0)\n",
        "      \n",
        "      trace_data = trace_data[:5000]\n",
        "      # print(len(trace_data))\n",
        "      # append everything to the dataframe\n",
        "      temp_df = {\"page_num\": page_num, \"trace_num\": trace_num, \"trace_data\": trace_data}\n",
        "\n",
        "      #first, decide if it is test or train\n",
        "      #72-18 split\n",
        "      #trace nums go from 0-89\n",
        "      #0,1,2,3,4,5,6,7,8,9,10,11,12,13,14,15,16,17 - trace nums for the test dataset\n",
        "      if(trace_num >= 17): # add to the train dataset\n",
        "        train_df = train_df.append(temp_df, ignore_index=True)\n",
        "      else:\n",
        "        test_df = test_df.append(temp_df, ignore_index=True)\n"
      ],
      "metadata": {
        "id": "nF1dWIEyDBsE"
      },
      "execution_count": null,
      "outputs": []
    },
    {
      "cell_type": "markdown",
      "source": [
        "Making a graph to see the ranges of the lengths of the trace data"
      ],
      "metadata": {
        "id": "PwaUXFVZcNtN"
      }
    },
    {
      "cell_type": "code",
      "source": [
        "# page_num = 0\n",
        "# trace_num = 0\n",
        "# trace_data = []\n",
        "# for file in files:\n",
        "#   if(\"-\" in file):\n",
        "#     # print(file)\n",
        "#     x = file.split(\"-\")\n",
        "#     page_num = int(x[0])\n",
        "#     trace_num = int(x[1])\n",
        "#     trace_data = preprocess_lines(file)\n",
        "#     if(len(trace_data) > 0):#in case it is an outlier\n",
        "    \n",
        "#       #make sure the length is exactly 5000\n",
        "#       # while(len(trace_data) < 5000):\n",
        "#       #     trace_data.append(0)\n",
        "      \n",
        "#       # trace_data = trace_data[:5000]\n",
        "#       # print(len(trace_data))\n",
        "#       # append everything to the dataframe\n",
        "#       temp_df = {\"page_num\": page_num, \"trace_num\": trace_num, \"trace_data\": trace_data}\n",
        "\n",
        "#       #first, decide if it is test or train\n",
        "#       #72-18 split\n",
        "#       #trace nums go from 0-89\n",
        "#       #0,1,2,3,4,5,6,7,8,9,10,11,12,13,14,15,16,17 - trace nums for the test dataset\n",
        "#       train_df = train_df.append(temp_df, ignore_index=True)\n",
        "#       # if(trace_num >= 17): # add to the train dataset\n",
        "#       #   train_df = train_df.append(temp_df, ignore_index=True)\n",
        "#       # else:\n",
        "#       #   test_df = test_df.append(temp_df, ignore_index=True)"
      ],
      "metadata": {
        "id": "d1AWh_sWcHUc"
      },
      "execution_count": null,
      "outputs": []
    },
    {
      "cell_type": "code",
      "source": [
        "# train_df"
      ],
      "metadata": {
        "id": "kpYX1VaTcTr1"
      },
      "execution_count": null,
      "outputs": []
    },
    {
      "cell_type": "code",
      "source": [
        "# count = 0\n",
        "# num_array = []\n",
        "# for index, row in train_df.iterrows():\n",
        "#   num = len(row[\"trace_data\"])\n",
        "#   num_array.append(num)\n",
        "\n",
        "\n"
      ],
      "metadata": {
        "id": "F3GRLLU4cY7n"
      },
      "execution_count": null,
      "outputs": []
    },
    {
      "cell_type": "code",
      "source": [
        "# from matplotlib import pyplot as plt\n",
        "# import numpy as np\n",
        "\n",
        "# plt.hist(num_array, bins = np.linspace(0, 5000, 30))"
      ],
      "metadata": {
        "id": "yRawa0YuevvA"
      },
      "execution_count": null,
      "outputs": []
    },
    {
      "cell_type": "code",
      "source": [
        "train_df"
      ],
      "metadata": {
        "id": "2OFO2LoCFVd0",
        "colab": {
          "base_uri": "https://localhost:8080/",
          "height": 424
        },
        "outputId": "f8dff105-8351-4d84-9c94-d4cca52c6e17"
      },
      "execution_count": null,
      "outputs": [
        {
          "output_type": "execute_result",
          "data": {
            "text/plain": [
              "     page_num trace_num                                         trace_data\n",
              "0          51        66  [1, 1, 1, -1, -1, -1, -1, -1, -1, -1, -1, -1, ...\n",
              "1          76        21  [1, 1, 1, -1, -1, -1, 1, 1, -1, 1, 1, 1, 1, -1...\n",
              "2          24        29  [1, 1, -1, -1, -1, -1, -1, -1, -1, -1, -1, -1,...\n",
              "3          70        86  [-1, -1, 1, 1, 1, 1, -1, -1, 1, 1, 1, -1, -1, ...\n",
              "4          27        24  [1, 1, -1, -1, -1, 1, 1, 1, 1, -1, -1, -1, -1,...\n",
              "...       ...       ...                                                ...\n",
              "7295       28        61  [-1, -1, -1, 1, 1, 1, -1, -1, -1, -1, -1, -1, ...\n",
              "7296       29        38  [1, 1, 1, 1, -1, -1, -1, -1, -1, -1, -1, -1, -...\n",
              "7297       74        88  [-1, -1, 1, 1, 1, -1, -1, -1, -1, -1, -1, -1, ...\n",
              "7298       43        73  [-1, -1, -1, 1, 1, 1, 1, -1, -1, 1, 1, 1, -1, ...\n",
              "7299       26        55  [1, 1, 1, 1, -1, -1, 1, 1, 1, -1, -1, 1, -1, 1...\n",
              "\n",
              "[7300 rows x 3 columns]"
            ],
            "text/html": [
              "\n",
              "  <div id=\"df-1a937463-220a-4058-9361-d01b42bc64eb\">\n",
              "    <div class=\"colab-df-container\">\n",
              "      <div>\n",
              "<style scoped>\n",
              "    .dataframe tbody tr th:only-of-type {\n",
              "        vertical-align: middle;\n",
              "    }\n",
              "\n",
              "    .dataframe tbody tr th {\n",
              "        vertical-align: top;\n",
              "    }\n",
              "\n",
              "    .dataframe thead th {\n",
              "        text-align: right;\n",
              "    }\n",
              "</style>\n",
              "<table border=\"1\" class=\"dataframe\">\n",
              "  <thead>\n",
              "    <tr style=\"text-align: right;\">\n",
              "      <th></th>\n",
              "      <th>page_num</th>\n",
              "      <th>trace_num</th>\n",
              "      <th>trace_data</th>\n",
              "    </tr>\n",
              "  </thead>\n",
              "  <tbody>\n",
              "    <tr>\n",
              "      <th>0</th>\n",
              "      <td>51</td>\n",
              "      <td>66</td>\n",
              "      <td>[1, 1, 1, -1, -1, -1, -1, -1, -1, -1, -1, -1, ...</td>\n",
              "    </tr>\n",
              "    <tr>\n",
              "      <th>1</th>\n",
              "      <td>76</td>\n",
              "      <td>21</td>\n",
              "      <td>[1, 1, 1, -1, -1, -1, 1, 1, -1, 1, 1, 1, 1, -1...</td>\n",
              "    </tr>\n",
              "    <tr>\n",
              "      <th>2</th>\n",
              "      <td>24</td>\n",
              "      <td>29</td>\n",
              "      <td>[1, 1, -1, -1, -1, -1, -1, -1, -1, -1, -1, -1,...</td>\n",
              "    </tr>\n",
              "    <tr>\n",
              "      <th>3</th>\n",
              "      <td>70</td>\n",
              "      <td>86</td>\n",
              "      <td>[-1, -1, 1, 1, 1, 1, -1, -1, 1, 1, 1, -1, -1, ...</td>\n",
              "    </tr>\n",
              "    <tr>\n",
              "      <th>4</th>\n",
              "      <td>27</td>\n",
              "      <td>24</td>\n",
              "      <td>[1, 1, -1, -1, -1, 1, 1, 1, 1, -1, -1, -1, -1,...</td>\n",
              "    </tr>\n",
              "    <tr>\n",
              "      <th>...</th>\n",
              "      <td>...</td>\n",
              "      <td>...</td>\n",
              "      <td>...</td>\n",
              "    </tr>\n",
              "    <tr>\n",
              "      <th>7295</th>\n",
              "      <td>28</td>\n",
              "      <td>61</td>\n",
              "      <td>[-1, -1, -1, 1, 1, 1, -1, -1, -1, -1, -1, -1, ...</td>\n",
              "    </tr>\n",
              "    <tr>\n",
              "      <th>7296</th>\n",
              "      <td>29</td>\n",
              "      <td>38</td>\n",
              "      <td>[1, 1, 1, 1, -1, -1, -1, -1, -1, -1, -1, -1, -...</td>\n",
              "    </tr>\n",
              "    <tr>\n",
              "      <th>7297</th>\n",
              "      <td>74</td>\n",
              "      <td>88</td>\n",
              "      <td>[-1, -1, 1, 1, 1, -1, -1, -1, -1, -1, -1, -1, ...</td>\n",
              "    </tr>\n",
              "    <tr>\n",
              "      <th>7298</th>\n",
              "      <td>43</td>\n",
              "      <td>73</td>\n",
              "      <td>[-1, -1, -1, 1, 1, 1, 1, -1, -1, 1, 1, 1, -1, ...</td>\n",
              "    </tr>\n",
              "    <tr>\n",
              "      <th>7299</th>\n",
              "      <td>26</td>\n",
              "      <td>55</td>\n",
              "      <td>[1, 1, 1, 1, -1, -1, 1, 1, 1, -1, -1, 1, -1, 1...</td>\n",
              "    </tr>\n",
              "  </tbody>\n",
              "</table>\n",
              "<p>7300 rows × 3 columns</p>\n",
              "</div>\n",
              "      <button class=\"colab-df-convert\" onclick=\"convertToInteractive('df-1a937463-220a-4058-9361-d01b42bc64eb')\"\n",
              "              title=\"Convert this dataframe to an interactive table.\"\n",
              "              style=\"display:none;\">\n",
              "        \n",
              "  <svg xmlns=\"http://www.w3.org/2000/svg\" height=\"24px\"viewBox=\"0 0 24 24\"\n",
              "       width=\"24px\">\n",
              "    <path d=\"M0 0h24v24H0V0z\" fill=\"none\"/>\n",
              "    <path d=\"M18.56 5.44l.94 2.06.94-2.06 2.06-.94-2.06-.94-.94-2.06-.94 2.06-2.06.94zm-11 1L8.5 8.5l.94-2.06 2.06-.94-2.06-.94L8.5 2.5l-.94 2.06-2.06.94zm10 10l.94 2.06.94-2.06 2.06-.94-2.06-.94-.94-2.06-.94 2.06-2.06.94z\"/><path d=\"M17.41 7.96l-1.37-1.37c-.4-.4-.92-.59-1.43-.59-.52 0-1.04.2-1.43.59L10.3 9.45l-7.72 7.72c-.78.78-.78 2.05 0 2.83L4 21.41c.39.39.9.59 1.41.59.51 0 1.02-.2 1.41-.59l7.78-7.78 2.81-2.81c.8-.78.8-2.07 0-2.86zM5.41 20L4 18.59l7.72-7.72 1.47 1.35L5.41 20z\"/>\n",
              "  </svg>\n",
              "      </button>\n",
              "      \n",
              "  <style>\n",
              "    .colab-df-container {\n",
              "      display:flex;\n",
              "      flex-wrap:wrap;\n",
              "      gap: 12px;\n",
              "    }\n",
              "\n",
              "    .colab-df-convert {\n",
              "      background-color: #E8F0FE;\n",
              "      border: none;\n",
              "      border-radius: 50%;\n",
              "      cursor: pointer;\n",
              "      display: none;\n",
              "      fill: #1967D2;\n",
              "      height: 32px;\n",
              "      padding: 0 0 0 0;\n",
              "      width: 32px;\n",
              "    }\n",
              "\n",
              "    .colab-df-convert:hover {\n",
              "      background-color: #E2EBFA;\n",
              "      box-shadow: 0px 1px 2px rgba(60, 64, 67, 0.3), 0px 1px 3px 1px rgba(60, 64, 67, 0.15);\n",
              "      fill: #174EA6;\n",
              "    }\n",
              "\n",
              "    [theme=dark] .colab-df-convert {\n",
              "      background-color: #3B4455;\n",
              "      fill: #D2E3FC;\n",
              "    }\n",
              "\n",
              "    [theme=dark] .colab-df-convert:hover {\n",
              "      background-color: #434B5C;\n",
              "      box-shadow: 0px 1px 3px 1px rgba(0, 0, 0, 0.15);\n",
              "      filter: drop-shadow(0px 1px 2px rgba(0, 0, 0, 0.3));\n",
              "      fill: #FFFFFF;\n",
              "    }\n",
              "  </style>\n",
              "\n",
              "      <script>\n",
              "        const buttonEl =\n",
              "          document.querySelector('#df-1a937463-220a-4058-9361-d01b42bc64eb button.colab-df-convert');\n",
              "        buttonEl.style.display =\n",
              "          google.colab.kernel.accessAllowed ? 'block' : 'none';\n",
              "\n",
              "        async function convertToInteractive(key) {\n",
              "          const element = document.querySelector('#df-1a937463-220a-4058-9361-d01b42bc64eb');\n",
              "          const dataTable =\n",
              "            await google.colab.kernel.invokeFunction('convertToInteractive',\n",
              "                                                     [key], {});\n",
              "          if (!dataTable) return;\n",
              "\n",
              "          const docLinkHtml = 'Like what you see? Visit the ' +\n",
              "            '<a target=\"_blank\" href=https://colab.research.google.com/notebooks/data_table.ipynb>data table notebook</a>'\n",
              "            + ' to learn more about interactive tables.';\n",
              "          element.innerHTML = '';\n",
              "          dataTable['output_type'] = 'display_data';\n",
              "          await google.colab.output.renderOutput(dataTable, element);\n",
              "          const docLink = document.createElement('div');\n",
              "          docLink.innerHTML = docLinkHtml;\n",
              "          element.appendChild(docLink);\n",
              "        }\n",
              "      </script>\n",
              "    </div>\n",
              "  </div>\n",
              "  "
            ]
          },
          "metadata": {},
          "execution_count": 14
        }
      ]
    },
    {
      "cell_type": "code",
      "source": [
        "test_df"
      ],
      "metadata": {
        "id": "apAxPnYNKZA0",
        "colab": {
          "base_uri": "https://localhost:8080/",
          "height": 424
        },
        "outputId": "698e9bc5-7837-446e-d569-831ecb7bd1d8"
      },
      "execution_count": null,
      "outputs": [
        {
          "output_type": "execute_result",
          "data": {
            "text/plain": [
              "     page_num trace_num                                         trace_data\n",
              "0          11         3  [1, 1, -1, -1, -1, -1, -1, -1, -1, -1, -1, 1, ...\n",
              "1          99        14  [1, 1, 1, -1, -1, -1, -1, -1, -1, -1, -1, -1, ...\n",
              "2          98        13  [1, 1, 1, -1, -1, -1, -1, -1, -1, -1, -1, -1, ...\n",
              "3          51         8  [-1, -1, 1, 1, -1, -1, -1, -1, -1, -1, -1, -1,...\n",
              "4          74         2  [-1, -1, 1, 1, 1, -1, -1, -1, -1, -1, -1, 1, -...\n",
              "...       ...       ...                                                ...\n",
              "1695       91         7  [1, 1, 1, -1, -1, -1, -1, -1, -1, -1, -1, -1, ...\n",
              "1696       92         1  [1, 1, 1, -1, -1, -1, 1, 1, 1, 1, -1, -1, -1, ...\n",
              "1697       76         6  [1, 1, 1, -1, -1, -1, 1, 1, 1, -1, 1, 1, 1, -1...\n",
              "1698       44         3  [1, 1, 1, 1, -1, -1, -1, -1, -1, -1, -1, -1, -...\n",
              "1699       63        11  [1, 1, 1, -1, -1, -1, -1, -1, -1, -1, -1, -1, ...\n",
              "\n",
              "[1700 rows x 3 columns]"
            ],
            "text/html": [
              "\n",
              "  <div id=\"df-7f2af4e2-8fa0-4069-b7dc-286bb3285e27\">\n",
              "    <div class=\"colab-df-container\">\n",
              "      <div>\n",
              "<style scoped>\n",
              "    .dataframe tbody tr th:only-of-type {\n",
              "        vertical-align: middle;\n",
              "    }\n",
              "\n",
              "    .dataframe tbody tr th {\n",
              "        vertical-align: top;\n",
              "    }\n",
              "\n",
              "    .dataframe thead th {\n",
              "        text-align: right;\n",
              "    }\n",
              "</style>\n",
              "<table border=\"1\" class=\"dataframe\">\n",
              "  <thead>\n",
              "    <tr style=\"text-align: right;\">\n",
              "      <th></th>\n",
              "      <th>page_num</th>\n",
              "      <th>trace_num</th>\n",
              "      <th>trace_data</th>\n",
              "    </tr>\n",
              "  </thead>\n",
              "  <tbody>\n",
              "    <tr>\n",
              "      <th>0</th>\n",
              "      <td>11</td>\n",
              "      <td>3</td>\n",
              "      <td>[1, 1, -1, -1, -1, -1, -1, -1, -1, -1, -1, 1, ...</td>\n",
              "    </tr>\n",
              "    <tr>\n",
              "      <th>1</th>\n",
              "      <td>99</td>\n",
              "      <td>14</td>\n",
              "      <td>[1, 1, 1, -1, -1, -1, -1, -1, -1, -1, -1, -1, ...</td>\n",
              "    </tr>\n",
              "    <tr>\n",
              "      <th>2</th>\n",
              "      <td>98</td>\n",
              "      <td>13</td>\n",
              "      <td>[1, 1, 1, -1, -1, -1, -1, -1, -1, -1, -1, -1, ...</td>\n",
              "    </tr>\n",
              "    <tr>\n",
              "      <th>3</th>\n",
              "      <td>51</td>\n",
              "      <td>8</td>\n",
              "      <td>[-1, -1, 1, 1, -1, -1, -1, -1, -1, -1, -1, -1,...</td>\n",
              "    </tr>\n",
              "    <tr>\n",
              "      <th>4</th>\n",
              "      <td>74</td>\n",
              "      <td>2</td>\n",
              "      <td>[-1, -1, 1, 1, 1, -1, -1, -1, -1, -1, -1, 1, -...</td>\n",
              "    </tr>\n",
              "    <tr>\n",
              "      <th>...</th>\n",
              "      <td>...</td>\n",
              "      <td>...</td>\n",
              "      <td>...</td>\n",
              "    </tr>\n",
              "    <tr>\n",
              "      <th>1695</th>\n",
              "      <td>91</td>\n",
              "      <td>7</td>\n",
              "      <td>[1, 1, 1, -1, -1, -1, -1, -1, -1, -1, -1, -1, ...</td>\n",
              "    </tr>\n",
              "    <tr>\n",
              "      <th>1696</th>\n",
              "      <td>92</td>\n",
              "      <td>1</td>\n",
              "      <td>[1, 1, 1, -1, -1, -1, 1, 1, 1, 1, -1, -1, -1, ...</td>\n",
              "    </tr>\n",
              "    <tr>\n",
              "      <th>1697</th>\n",
              "      <td>76</td>\n",
              "      <td>6</td>\n",
              "      <td>[1, 1, 1, -1, -1, -1, 1, 1, 1, -1, 1, 1, 1, -1...</td>\n",
              "    </tr>\n",
              "    <tr>\n",
              "      <th>1698</th>\n",
              "      <td>44</td>\n",
              "      <td>3</td>\n",
              "      <td>[1, 1, 1, 1, -1, -1, -1, -1, -1, -1, -1, -1, -...</td>\n",
              "    </tr>\n",
              "    <tr>\n",
              "      <th>1699</th>\n",
              "      <td>63</td>\n",
              "      <td>11</td>\n",
              "      <td>[1, 1, 1, -1, -1, -1, -1, -1, -1, -1, -1, -1, ...</td>\n",
              "    </tr>\n",
              "  </tbody>\n",
              "</table>\n",
              "<p>1700 rows × 3 columns</p>\n",
              "</div>\n",
              "      <button class=\"colab-df-convert\" onclick=\"convertToInteractive('df-7f2af4e2-8fa0-4069-b7dc-286bb3285e27')\"\n",
              "              title=\"Convert this dataframe to an interactive table.\"\n",
              "              style=\"display:none;\">\n",
              "        \n",
              "  <svg xmlns=\"http://www.w3.org/2000/svg\" height=\"24px\"viewBox=\"0 0 24 24\"\n",
              "       width=\"24px\">\n",
              "    <path d=\"M0 0h24v24H0V0z\" fill=\"none\"/>\n",
              "    <path d=\"M18.56 5.44l.94 2.06.94-2.06 2.06-.94-2.06-.94-.94-2.06-.94 2.06-2.06.94zm-11 1L8.5 8.5l.94-2.06 2.06-.94-2.06-.94L8.5 2.5l-.94 2.06-2.06.94zm10 10l.94 2.06.94-2.06 2.06-.94-2.06-.94-.94-2.06-.94 2.06-2.06.94z\"/><path d=\"M17.41 7.96l-1.37-1.37c-.4-.4-.92-.59-1.43-.59-.52 0-1.04.2-1.43.59L10.3 9.45l-7.72 7.72c-.78.78-.78 2.05 0 2.83L4 21.41c.39.39.9.59 1.41.59.51 0 1.02-.2 1.41-.59l7.78-7.78 2.81-2.81c.8-.78.8-2.07 0-2.86zM5.41 20L4 18.59l7.72-7.72 1.47 1.35L5.41 20z\"/>\n",
              "  </svg>\n",
              "      </button>\n",
              "      \n",
              "  <style>\n",
              "    .colab-df-container {\n",
              "      display:flex;\n",
              "      flex-wrap:wrap;\n",
              "      gap: 12px;\n",
              "    }\n",
              "\n",
              "    .colab-df-convert {\n",
              "      background-color: #E8F0FE;\n",
              "      border: none;\n",
              "      border-radius: 50%;\n",
              "      cursor: pointer;\n",
              "      display: none;\n",
              "      fill: #1967D2;\n",
              "      height: 32px;\n",
              "      padding: 0 0 0 0;\n",
              "      width: 32px;\n",
              "    }\n",
              "\n",
              "    .colab-df-convert:hover {\n",
              "      background-color: #E2EBFA;\n",
              "      box-shadow: 0px 1px 2px rgba(60, 64, 67, 0.3), 0px 1px 3px 1px rgba(60, 64, 67, 0.15);\n",
              "      fill: #174EA6;\n",
              "    }\n",
              "\n",
              "    [theme=dark] .colab-df-convert {\n",
              "      background-color: #3B4455;\n",
              "      fill: #D2E3FC;\n",
              "    }\n",
              "\n",
              "    [theme=dark] .colab-df-convert:hover {\n",
              "      background-color: #434B5C;\n",
              "      box-shadow: 0px 1px 3px 1px rgba(0, 0, 0, 0.15);\n",
              "      filter: drop-shadow(0px 1px 2px rgba(0, 0, 0, 0.3));\n",
              "      fill: #FFFFFF;\n",
              "    }\n",
              "  </style>\n",
              "\n",
              "      <script>\n",
              "        const buttonEl =\n",
              "          document.querySelector('#df-7f2af4e2-8fa0-4069-b7dc-286bb3285e27 button.colab-df-convert');\n",
              "        buttonEl.style.display =\n",
              "          google.colab.kernel.accessAllowed ? 'block' : 'none';\n",
              "\n",
              "        async function convertToInteractive(key) {\n",
              "          const element = document.querySelector('#df-7f2af4e2-8fa0-4069-b7dc-286bb3285e27');\n",
              "          const dataTable =\n",
              "            await google.colab.kernel.invokeFunction('convertToInteractive',\n",
              "                                                     [key], {});\n",
              "          if (!dataTable) return;\n",
              "\n",
              "          const docLinkHtml = 'Like what you see? Visit the ' +\n",
              "            '<a target=\"_blank\" href=https://colab.research.google.com/notebooks/data_table.ipynb>data table notebook</a>'\n",
              "            + ' to learn more about interactive tables.';\n",
              "          element.innerHTML = '';\n",
              "          dataTable['output_type'] = 'display_data';\n",
              "          await google.colab.output.renderOutput(dataTable, element);\n",
              "          const docLink = document.createElement('div');\n",
              "          docLink.innerHTML = docLinkHtml;\n",
              "          element.appendChild(docLink);\n",
              "        }\n",
              "      </script>\n",
              "    </div>\n",
              "  </div>\n",
              "  "
            ]
          },
          "metadata": {},
          "execution_count": 15
        }
      ]
    },
    {
      "cell_type": "code",
      "source": [
        "# train_df.to_csv(\"tor_dl_training_nofilter.csv\")\n",
        "# test_df.to_csv(\"tor_dl_testing_nofilter.csv\")"
      ],
      "metadata": {
        "id": "wYMHZPrhLNU1"
      },
      "execution_count": null,
      "outputs": []
    },
    {
      "cell_type": "code",
      "source": [
        "# from google.colab import files\n",
        "# files.download(\"tor_dl_training_nofilter.csv\") \n",
        "# files.download(\"tor_dl_testing_nofilter.csv\")"
      ],
      "metadata": {
        "id": "8-YBv7xILvj5"
      },
      "execution_count": null,
      "outputs": []
    },
    {
      "cell_type": "code",
      "source": [
        "# !ls | grep \"tor\""
      ],
      "metadata": {
        "id": "LD3lVd0zL3oX"
      },
      "execution_count": null,
      "outputs": []
    },
    {
      "cell_type": "markdown",
      "source": [
        "#Import the cleaned data now"
      ],
      "metadata": {
        "id": "1muYoRE_hbZ3"
      }
    },
    {
      "cell_type": "code",
      "source": [
        "# train_df = pd.read_csv(\"https://raw.githubusercontent.com/Drime648/tor-deep-learning/main/tor_dl_training.csv\")\n",
        "# test_df = pd.read_csv(\"https://raw.githubusercontent.com/Drime648/tor-deep-learning/main/tor_dl_testing.csv\")"
      ],
      "metadata": {
        "id": "Tl53b6N7hbIR"
      },
      "execution_count": null,
      "outputs": []
    },
    {
      "cell_type": "code",
      "source": [
        "#remove the index column\n",
        "# train_df = train_df.drop(\"Unnamed: 0\", axis = 1)\n",
        "# test_df = test_df.drop(\"Unnamed: 0\", axis = 1)\n",
        "\n"
      ],
      "metadata": {
        "id": "OfSkVFDMiNjI"
      },
      "execution_count": null,
      "outputs": []
    },
    {
      "cell_type": "code",
      "source": [
        "#randomize\n",
        "train_df = train_df.sample(frac=1).reset_index(drop=True)\n",
        "test_df = test_df.sample(frac=1).reset_index(drop=True)"
      ],
      "metadata": {
        "id": "fmgF_nNvjJSs"
      },
      "execution_count": null,
      "outputs": []
    },
    {
      "cell_type": "code",
      "source": [
        "train_df"
      ],
      "metadata": {
        "id": "RiWE5oU_iRhZ",
        "colab": {
          "base_uri": "https://localhost:8080/",
          "height": 424
        },
        "outputId": "9aece4ac-df68-4cc0-8a0d-aaa2b07e5526"
      },
      "execution_count": null,
      "outputs": [
        {
          "output_type": "execute_result",
          "data": {
            "text/plain": [
              "     page_num trace_num                                         trace_data\n",
              "0          65        31  [1, 1, 1, -1, -1, -1, -1, -1, -1, -1, -1, 1, 1...\n",
              "1          24        62  [1, 1, 1, 1, 1, -1, -1, -1, -1, -1, -1, -1, -1...\n",
              "2          89        41  [-1, -1, -1, 1, 1, -1, -1, -1, -1, -1, -1, -1,...\n",
              "3          99        77  [1, 1, -1, -1, -1, -1, -1, -1, -1, -1, -1, -1,...\n",
              "4          94        84  [-1, -1, 1, 1, 1, -1, -1, -1, -1, -1, -1, -1, ...\n",
              "...       ...       ...                                                ...\n",
              "7295       36        20  [1, 1, 1, -1, -1, 1, 1, 1, -1, 1, 1, 1, -1, 1,...\n",
              "7296       52        80  [1, 1, 1, 1, -1, -1, -1, -1, -1, -1, -1, -1, -...\n",
              "7297       27        77  [1, 1, 1, -1, -1, -1, 1, 1, 1, -1, -1, -1, -1,...\n",
              "7298       36        89  [-1, 1, -1, -1, 1, -1, 1, 1, -1, -1, 1, 1, -1,...\n",
              "7299       87        70  [-1, 1, 1, -1, -1, -1, -1, -1, -1, -1, -1, 1, ...\n",
              "\n",
              "[7300 rows x 3 columns]"
            ],
            "text/html": [
              "\n",
              "  <div id=\"df-93a5980d-ae8b-40e6-a1fb-37bbd3f0a270\">\n",
              "    <div class=\"colab-df-container\">\n",
              "      <div>\n",
              "<style scoped>\n",
              "    .dataframe tbody tr th:only-of-type {\n",
              "        vertical-align: middle;\n",
              "    }\n",
              "\n",
              "    .dataframe tbody tr th {\n",
              "        vertical-align: top;\n",
              "    }\n",
              "\n",
              "    .dataframe thead th {\n",
              "        text-align: right;\n",
              "    }\n",
              "</style>\n",
              "<table border=\"1\" class=\"dataframe\">\n",
              "  <thead>\n",
              "    <tr style=\"text-align: right;\">\n",
              "      <th></th>\n",
              "      <th>page_num</th>\n",
              "      <th>trace_num</th>\n",
              "      <th>trace_data</th>\n",
              "    </tr>\n",
              "  </thead>\n",
              "  <tbody>\n",
              "    <tr>\n",
              "      <th>0</th>\n",
              "      <td>65</td>\n",
              "      <td>31</td>\n",
              "      <td>[1, 1, 1, -1, -1, -1, -1, -1, -1, -1, -1, 1, 1...</td>\n",
              "    </tr>\n",
              "    <tr>\n",
              "      <th>1</th>\n",
              "      <td>24</td>\n",
              "      <td>62</td>\n",
              "      <td>[1, 1, 1, 1, 1, -1, -1, -1, -1, -1, -1, -1, -1...</td>\n",
              "    </tr>\n",
              "    <tr>\n",
              "      <th>2</th>\n",
              "      <td>89</td>\n",
              "      <td>41</td>\n",
              "      <td>[-1, -1, -1, 1, 1, -1, -1, -1, -1, -1, -1, -1,...</td>\n",
              "    </tr>\n",
              "    <tr>\n",
              "      <th>3</th>\n",
              "      <td>99</td>\n",
              "      <td>77</td>\n",
              "      <td>[1, 1, -1, -1, -1, -1, -1, -1, -1, -1, -1, -1,...</td>\n",
              "    </tr>\n",
              "    <tr>\n",
              "      <th>4</th>\n",
              "      <td>94</td>\n",
              "      <td>84</td>\n",
              "      <td>[-1, -1, 1, 1, 1, -1, -1, -1, -1, -1, -1, -1, ...</td>\n",
              "    </tr>\n",
              "    <tr>\n",
              "      <th>...</th>\n",
              "      <td>...</td>\n",
              "      <td>...</td>\n",
              "      <td>...</td>\n",
              "    </tr>\n",
              "    <tr>\n",
              "      <th>7295</th>\n",
              "      <td>36</td>\n",
              "      <td>20</td>\n",
              "      <td>[1, 1, 1, -1, -1, 1, 1, 1, -1, 1, 1, 1, -1, 1,...</td>\n",
              "    </tr>\n",
              "    <tr>\n",
              "      <th>7296</th>\n",
              "      <td>52</td>\n",
              "      <td>80</td>\n",
              "      <td>[1, 1, 1, 1, -1, -1, -1, -1, -1, -1, -1, -1, -...</td>\n",
              "    </tr>\n",
              "    <tr>\n",
              "      <th>7297</th>\n",
              "      <td>27</td>\n",
              "      <td>77</td>\n",
              "      <td>[1, 1, 1, -1, -1, -1, 1, 1, 1, -1, -1, -1, -1,...</td>\n",
              "    </tr>\n",
              "    <tr>\n",
              "      <th>7298</th>\n",
              "      <td>36</td>\n",
              "      <td>89</td>\n",
              "      <td>[-1, 1, -1, -1, 1, -1, 1, 1, -1, -1, 1, 1, -1,...</td>\n",
              "    </tr>\n",
              "    <tr>\n",
              "      <th>7299</th>\n",
              "      <td>87</td>\n",
              "      <td>70</td>\n",
              "      <td>[-1, 1, 1, -1, -1, -1, -1, -1, -1, -1, -1, 1, ...</td>\n",
              "    </tr>\n",
              "  </tbody>\n",
              "</table>\n",
              "<p>7300 rows × 3 columns</p>\n",
              "</div>\n",
              "      <button class=\"colab-df-convert\" onclick=\"convertToInteractive('df-93a5980d-ae8b-40e6-a1fb-37bbd3f0a270')\"\n",
              "              title=\"Convert this dataframe to an interactive table.\"\n",
              "              style=\"display:none;\">\n",
              "        \n",
              "  <svg xmlns=\"http://www.w3.org/2000/svg\" height=\"24px\"viewBox=\"0 0 24 24\"\n",
              "       width=\"24px\">\n",
              "    <path d=\"M0 0h24v24H0V0z\" fill=\"none\"/>\n",
              "    <path d=\"M18.56 5.44l.94 2.06.94-2.06 2.06-.94-2.06-.94-.94-2.06-.94 2.06-2.06.94zm-11 1L8.5 8.5l.94-2.06 2.06-.94-2.06-.94L8.5 2.5l-.94 2.06-2.06.94zm10 10l.94 2.06.94-2.06 2.06-.94-2.06-.94-.94-2.06-.94 2.06-2.06.94z\"/><path d=\"M17.41 7.96l-1.37-1.37c-.4-.4-.92-.59-1.43-.59-.52 0-1.04.2-1.43.59L10.3 9.45l-7.72 7.72c-.78.78-.78 2.05 0 2.83L4 21.41c.39.39.9.59 1.41.59.51 0 1.02-.2 1.41-.59l7.78-7.78 2.81-2.81c.8-.78.8-2.07 0-2.86zM5.41 20L4 18.59l7.72-7.72 1.47 1.35L5.41 20z\"/>\n",
              "  </svg>\n",
              "      </button>\n",
              "      \n",
              "  <style>\n",
              "    .colab-df-container {\n",
              "      display:flex;\n",
              "      flex-wrap:wrap;\n",
              "      gap: 12px;\n",
              "    }\n",
              "\n",
              "    .colab-df-convert {\n",
              "      background-color: #E8F0FE;\n",
              "      border: none;\n",
              "      border-radius: 50%;\n",
              "      cursor: pointer;\n",
              "      display: none;\n",
              "      fill: #1967D2;\n",
              "      height: 32px;\n",
              "      padding: 0 0 0 0;\n",
              "      width: 32px;\n",
              "    }\n",
              "\n",
              "    .colab-df-convert:hover {\n",
              "      background-color: #E2EBFA;\n",
              "      box-shadow: 0px 1px 2px rgba(60, 64, 67, 0.3), 0px 1px 3px 1px rgba(60, 64, 67, 0.15);\n",
              "      fill: #174EA6;\n",
              "    }\n",
              "\n",
              "    [theme=dark] .colab-df-convert {\n",
              "      background-color: #3B4455;\n",
              "      fill: #D2E3FC;\n",
              "    }\n",
              "\n",
              "    [theme=dark] .colab-df-convert:hover {\n",
              "      background-color: #434B5C;\n",
              "      box-shadow: 0px 1px 3px 1px rgba(0, 0, 0, 0.15);\n",
              "      filter: drop-shadow(0px 1px 2px rgba(0, 0, 0, 0.3));\n",
              "      fill: #FFFFFF;\n",
              "    }\n",
              "  </style>\n",
              "\n",
              "      <script>\n",
              "        const buttonEl =\n",
              "          document.querySelector('#df-93a5980d-ae8b-40e6-a1fb-37bbd3f0a270 button.colab-df-convert');\n",
              "        buttonEl.style.display =\n",
              "          google.colab.kernel.accessAllowed ? 'block' : 'none';\n",
              "\n",
              "        async function convertToInteractive(key) {\n",
              "          const element = document.querySelector('#df-93a5980d-ae8b-40e6-a1fb-37bbd3f0a270');\n",
              "          const dataTable =\n",
              "            await google.colab.kernel.invokeFunction('convertToInteractive',\n",
              "                                                     [key], {});\n",
              "          if (!dataTable) return;\n",
              "\n",
              "          const docLinkHtml = 'Like what you see? Visit the ' +\n",
              "            '<a target=\"_blank\" href=https://colab.research.google.com/notebooks/data_table.ipynb>data table notebook</a>'\n",
              "            + ' to learn more about interactive tables.';\n",
              "          element.innerHTML = '';\n",
              "          dataTable['output_type'] = 'display_data';\n",
              "          await google.colab.output.renderOutput(dataTable, element);\n",
              "          const docLink = document.createElement('div');\n",
              "          docLink.innerHTML = docLinkHtml;\n",
              "          element.appendChild(docLink);\n",
              "        }\n",
              "      </script>\n",
              "    </div>\n",
              "  </div>\n",
              "  "
            ]
          },
          "metadata": {},
          "execution_count": 22
        }
      ]
    },
    {
      "cell_type": "code",
      "source": [
        "test_df"
      ],
      "metadata": {
        "id": "91iVP09bimj2",
        "colab": {
          "base_uri": "https://localhost:8080/",
          "height": 424
        },
        "outputId": "c2c9a90d-7e90-4916-e5a8-754f5d9aed91"
      },
      "execution_count": null,
      "outputs": [
        {
          "output_type": "execute_result",
          "data": {
            "text/plain": [
              "     page_num trace_num                                         trace_data\n",
              "0          63        15  [1, 1, -1, -1, -1, -1, -1, -1, -1, -1, -1, -1,...\n",
              "1           4         4  [1, 1, 1, -1, -1, -1, -1, -1, -1, -1, -1, -1, ...\n",
              "2          16         8  [1, 1, 1, -1, -1, -1, -1, -1, -1, -1, -1, -1, ...\n",
              "3          13        12  [-1, -1, 1, 1, -1, 1, -1, -1, -1, 1, -1, 1, 1,...\n",
              "4          39         0  [1, 1, -1, 1, 1, -1, -1, -1, 1, 1, 1, -1, -1, ...\n",
              "...       ...       ...                                                ...\n",
              "1695       27        14  [-1, 1, 1, -1, -1, -1, -1, -1, 1, -1, 1, 1, -1...\n",
              "1696        0        12  [1, 1, -1, -1, -1, -1, -1, -1, -1, -1, -1, 1, ...\n",
              "1697       12        12  [1, 1, -1, -1, -1, 1, 1, -1, -1, -1, 1, -1, -1...\n",
              "1698       59        11  [1, 1, -1, -1, 1, 1, 1, 1, 1, 1, -1, -1, -1, -...\n",
              "1699       94         4  [1, 1, 1, 1, -1, -1, -1, -1, -1, -1, -1, -1, -...\n",
              "\n",
              "[1700 rows x 3 columns]"
            ],
            "text/html": [
              "\n",
              "  <div id=\"df-9cac273d-471f-4320-868b-f06235915d06\">\n",
              "    <div class=\"colab-df-container\">\n",
              "      <div>\n",
              "<style scoped>\n",
              "    .dataframe tbody tr th:only-of-type {\n",
              "        vertical-align: middle;\n",
              "    }\n",
              "\n",
              "    .dataframe tbody tr th {\n",
              "        vertical-align: top;\n",
              "    }\n",
              "\n",
              "    .dataframe thead th {\n",
              "        text-align: right;\n",
              "    }\n",
              "</style>\n",
              "<table border=\"1\" class=\"dataframe\">\n",
              "  <thead>\n",
              "    <tr style=\"text-align: right;\">\n",
              "      <th></th>\n",
              "      <th>page_num</th>\n",
              "      <th>trace_num</th>\n",
              "      <th>trace_data</th>\n",
              "    </tr>\n",
              "  </thead>\n",
              "  <tbody>\n",
              "    <tr>\n",
              "      <th>0</th>\n",
              "      <td>63</td>\n",
              "      <td>15</td>\n",
              "      <td>[1, 1, -1, -1, -1, -1, -1, -1, -1, -1, -1, -1,...</td>\n",
              "    </tr>\n",
              "    <tr>\n",
              "      <th>1</th>\n",
              "      <td>4</td>\n",
              "      <td>4</td>\n",
              "      <td>[1, 1, 1, -1, -1, -1, -1, -1, -1, -1, -1, -1, ...</td>\n",
              "    </tr>\n",
              "    <tr>\n",
              "      <th>2</th>\n",
              "      <td>16</td>\n",
              "      <td>8</td>\n",
              "      <td>[1, 1, 1, -1, -1, -1, -1, -1, -1, -1, -1, -1, ...</td>\n",
              "    </tr>\n",
              "    <tr>\n",
              "      <th>3</th>\n",
              "      <td>13</td>\n",
              "      <td>12</td>\n",
              "      <td>[-1, -1, 1, 1, -1, 1, -1, -1, -1, 1, -1, 1, 1,...</td>\n",
              "    </tr>\n",
              "    <tr>\n",
              "      <th>4</th>\n",
              "      <td>39</td>\n",
              "      <td>0</td>\n",
              "      <td>[1, 1, -1, 1, 1, -1, -1, -1, 1, 1, 1, -1, -1, ...</td>\n",
              "    </tr>\n",
              "    <tr>\n",
              "      <th>...</th>\n",
              "      <td>...</td>\n",
              "      <td>...</td>\n",
              "      <td>...</td>\n",
              "    </tr>\n",
              "    <tr>\n",
              "      <th>1695</th>\n",
              "      <td>27</td>\n",
              "      <td>14</td>\n",
              "      <td>[-1, 1, 1, -1, -1, -1, -1, -1, 1, -1, 1, 1, -1...</td>\n",
              "    </tr>\n",
              "    <tr>\n",
              "      <th>1696</th>\n",
              "      <td>0</td>\n",
              "      <td>12</td>\n",
              "      <td>[1, 1, -1, -1, -1, -1, -1, -1, -1, -1, -1, 1, ...</td>\n",
              "    </tr>\n",
              "    <tr>\n",
              "      <th>1697</th>\n",
              "      <td>12</td>\n",
              "      <td>12</td>\n",
              "      <td>[1, 1, -1, -1, -1, 1, 1, -1, -1, -1, 1, -1, -1...</td>\n",
              "    </tr>\n",
              "    <tr>\n",
              "      <th>1698</th>\n",
              "      <td>59</td>\n",
              "      <td>11</td>\n",
              "      <td>[1, 1, -1, -1, 1, 1, 1, 1, 1, 1, -1, -1, -1, -...</td>\n",
              "    </tr>\n",
              "    <tr>\n",
              "      <th>1699</th>\n",
              "      <td>94</td>\n",
              "      <td>4</td>\n",
              "      <td>[1, 1, 1, 1, -1, -1, -1, -1, -1, -1, -1, -1, -...</td>\n",
              "    </tr>\n",
              "  </tbody>\n",
              "</table>\n",
              "<p>1700 rows × 3 columns</p>\n",
              "</div>\n",
              "      <button class=\"colab-df-convert\" onclick=\"convertToInteractive('df-9cac273d-471f-4320-868b-f06235915d06')\"\n",
              "              title=\"Convert this dataframe to an interactive table.\"\n",
              "              style=\"display:none;\">\n",
              "        \n",
              "  <svg xmlns=\"http://www.w3.org/2000/svg\" height=\"24px\"viewBox=\"0 0 24 24\"\n",
              "       width=\"24px\">\n",
              "    <path d=\"M0 0h24v24H0V0z\" fill=\"none\"/>\n",
              "    <path d=\"M18.56 5.44l.94 2.06.94-2.06 2.06-.94-2.06-.94-.94-2.06-.94 2.06-2.06.94zm-11 1L8.5 8.5l.94-2.06 2.06-.94-2.06-.94L8.5 2.5l-.94 2.06-2.06.94zm10 10l.94 2.06.94-2.06 2.06-.94-2.06-.94-.94-2.06-.94 2.06-2.06.94z\"/><path d=\"M17.41 7.96l-1.37-1.37c-.4-.4-.92-.59-1.43-.59-.52 0-1.04.2-1.43.59L10.3 9.45l-7.72 7.72c-.78.78-.78 2.05 0 2.83L4 21.41c.39.39.9.59 1.41.59.51 0 1.02-.2 1.41-.59l7.78-7.78 2.81-2.81c.8-.78.8-2.07 0-2.86zM5.41 20L4 18.59l7.72-7.72 1.47 1.35L5.41 20z\"/>\n",
              "  </svg>\n",
              "      </button>\n",
              "      \n",
              "  <style>\n",
              "    .colab-df-container {\n",
              "      display:flex;\n",
              "      flex-wrap:wrap;\n",
              "      gap: 12px;\n",
              "    }\n",
              "\n",
              "    .colab-df-convert {\n",
              "      background-color: #E8F0FE;\n",
              "      border: none;\n",
              "      border-radius: 50%;\n",
              "      cursor: pointer;\n",
              "      display: none;\n",
              "      fill: #1967D2;\n",
              "      height: 32px;\n",
              "      padding: 0 0 0 0;\n",
              "      width: 32px;\n",
              "    }\n",
              "\n",
              "    .colab-df-convert:hover {\n",
              "      background-color: #E2EBFA;\n",
              "      box-shadow: 0px 1px 2px rgba(60, 64, 67, 0.3), 0px 1px 3px 1px rgba(60, 64, 67, 0.15);\n",
              "      fill: #174EA6;\n",
              "    }\n",
              "\n",
              "    [theme=dark] .colab-df-convert {\n",
              "      background-color: #3B4455;\n",
              "      fill: #D2E3FC;\n",
              "    }\n",
              "\n",
              "    [theme=dark] .colab-df-convert:hover {\n",
              "      background-color: #434B5C;\n",
              "      box-shadow: 0px 1px 3px 1px rgba(0, 0, 0, 0.15);\n",
              "      filter: drop-shadow(0px 1px 2px rgba(0, 0, 0, 0.3));\n",
              "      fill: #FFFFFF;\n",
              "    }\n",
              "  </style>\n",
              "\n",
              "      <script>\n",
              "        const buttonEl =\n",
              "          document.querySelector('#df-9cac273d-471f-4320-868b-f06235915d06 button.colab-df-convert');\n",
              "        buttonEl.style.display =\n",
              "          google.colab.kernel.accessAllowed ? 'block' : 'none';\n",
              "\n",
              "        async function convertToInteractive(key) {\n",
              "          const element = document.querySelector('#df-9cac273d-471f-4320-868b-f06235915d06');\n",
              "          const dataTable =\n",
              "            await google.colab.kernel.invokeFunction('convertToInteractive',\n",
              "                                                     [key], {});\n",
              "          if (!dataTable) return;\n",
              "\n",
              "          const docLinkHtml = 'Like what you see? Visit the ' +\n",
              "            '<a target=\"_blank\" href=https://colab.research.google.com/notebooks/data_table.ipynb>data table notebook</a>'\n",
              "            + ' to learn more about interactive tables.';\n",
              "          element.innerHTML = '';\n",
              "          dataTable['output_type'] = 'display_data';\n",
              "          await google.colab.output.renderOutput(dataTable, element);\n",
              "          const docLink = document.createElement('div');\n",
              "          docLink.innerHTML = docLinkHtml;\n",
              "          element.appendChild(docLink);\n",
              "        }\n",
              "      </script>\n",
              "    </div>\n",
              "  </div>\n",
              "  "
            ]
          },
          "metadata": {},
          "execution_count": 23
        }
      ]
    },
    {
      "cell_type": "code",
      "source": [
        ""
      ],
      "metadata": {
        "id": "AY3r5XAGivo2"
      },
      "execution_count": null,
      "outputs": []
    },
    {
      "cell_type": "markdown",
      "source": [
        "# replicate original model from Paper\n",
        "\n",
        "Paper: https://core.ac.uk/download/pdf/229876143.pdf\n",
        "\n",
        "Fingerprinting Attack on Tor Anonymity using Deep Learning\n",
        "\n",
        "\n",
        "by Kota Abe and Shigeki Goto\n",
        "\n"
      ],
      "metadata": {
        "id": "jzqShcTKjQzk"
      }
    },
    {
      "cell_type": "markdown",
      "source": [
        "#One hot encode data\n"
      ],
      "metadata": {
        "id": "pwyTcee0lORI"
      }
    },
    {
      "cell_type": "code",
      "source": [
        "one_hot_encoder = OneHotEncoder(sparse=False, handle_unknown=\"ignore\")"
      ],
      "metadata": {
        "id": "JRWewydolRoS"
      },
      "execution_count": null,
      "outputs": []
    },
    {
      "cell_type": "code",
      "source": [
        "# add one more to test data\n",
        "# temp_df = {\"page_num\": 300, \"trace_num\": 0, \"trace_data\": 0}\n",
        "# test_df = test_df.append(temp_df, ignore_index = True)"
      ],
      "metadata": {
        "id": "FFx1OMudDG-q"
      },
      "execution_count": null,
      "outputs": []
    },
    {
      "cell_type": "code",
      "source": [
        ""
      ],
      "metadata": {
        "id": "r0LH--24RCgt"
      },
      "execution_count": null,
      "outputs": []
    },
    {
      "cell_type": "code",
      "source": [
        "one_hot_test_labels = one_hot_encoder.fit(test_df[\"page_num\"].to_numpy().reshape(-1,1))\n",
        "# test_df = test_df[:-1]\n",
        "\n",
        "one_hot_test_labels = one_hot_encoder.transform(test_df[\"page_num\"].to_numpy().reshape(-1,1))\n",
        "one_hot_train_labels = one_hot_encoder.transform(train_df[\"page_num\"].to_numpy().reshape(-1,1))\n",
        "\n",
        "\n"
      ],
      "metadata": {
        "id": "1QRR-ed0lSGA"
      },
      "execution_count": null,
      "outputs": []
    },
    {
      "cell_type": "code",
      "source": [
        "test_df"
      ],
      "metadata": {
        "colab": {
          "base_uri": "https://localhost:8080/",
          "height": 424
        },
        "id": "asjw9LNlPUQL",
        "outputId": "ddf2eb2b-2325-45dd-908d-a1f929664a98"
      },
      "execution_count": null,
      "outputs": [
        {
          "output_type": "execute_result",
          "data": {
            "text/plain": [
              "     page_num trace_num                                         trace_data\n",
              "0          63        15  [1, 1, -1, -1, -1, -1, -1, -1, -1, -1, -1, -1,...\n",
              "1           4         4  [1, 1, 1, -1, -1, -1, -1, -1, -1, -1, -1, -1, ...\n",
              "2          16         8  [1, 1, 1, -1, -1, -1, -1, -1, -1, -1, -1, -1, ...\n",
              "3          13        12  [-1, -1, 1, 1, -1, 1, -1, -1, -1, 1, -1, 1, 1,...\n",
              "4          39         0  [1, 1, -1, 1, 1, -1, -1, -1, 1, 1, 1, -1, -1, ...\n",
              "...       ...       ...                                                ...\n",
              "1695       27        14  [-1, 1, 1, -1, -1, -1, -1, -1, 1, -1, 1, 1, -1...\n",
              "1696        0        12  [1, 1, -1, -1, -1, -1, -1, -1, -1, -1, -1, 1, ...\n",
              "1697       12        12  [1, 1, -1, -1, -1, 1, 1, -1, -1, -1, 1, -1, -1...\n",
              "1698       59        11  [1, 1, -1, -1, 1, 1, 1, 1, 1, 1, -1, -1, -1, -...\n",
              "1699       94         4  [1, 1, 1, 1, -1, -1, -1, -1, -1, -1, -1, -1, -...\n",
              "\n",
              "[1700 rows x 3 columns]"
            ],
            "text/html": [
              "\n",
              "  <div id=\"df-91b66f10-d1bd-4c2b-a577-58f747530302\">\n",
              "    <div class=\"colab-df-container\">\n",
              "      <div>\n",
              "<style scoped>\n",
              "    .dataframe tbody tr th:only-of-type {\n",
              "        vertical-align: middle;\n",
              "    }\n",
              "\n",
              "    .dataframe tbody tr th {\n",
              "        vertical-align: top;\n",
              "    }\n",
              "\n",
              "    .dataframe thead th {\n",
              "        text-align: right;\n",
              "    }\n",
              "</style>\n",
              "<table border=\"1\" class=\"dataframe\">\n",
              "  <thead>\n",
              "    <tr style=\"text-align: right;\">\n",
              "      <th></th>\n",
              "      <th>page_num</th>\n",
              "      <th>trace_num</th>\n",
              "      <th>trace_data</th>\n",
              "    </tr>\n",
              "  </thead>\n",
              "  <tbody>\n",
              "    <tr>\n",
              "      <th>0</th>\n",
              "      <td>63</td>\n",
              "      <td>15</td>\n",
              "      <td>[1, 1, -1, -1, -1, -1, -1, -1, -1, -1, -1, -1,...</td>\n",
              "    </tr>\n",
              "    <tr>\n",
              "      <th>1</th>\n",
              "      <td>4</td>\n",
              "      <td>4</td>\n",
              "      <td>[1, 1, 1, -1, -1, -1, -1, -1, -1, -1, -1, -1, ...</td>\n",
              "    </tr>\n",
              "    <tr>\n",
              "      <th>2</th>\n",
              "      <td>16</td>\n",
              "      <td>8</td>\n",
              "      <td>[1, 1, 1, -1, -1, -1, -1, -1, -1, -1, -1, -1, ...</td>\n",
              "    </tr>\n",
              "    <tr>\n",
              "      <th>3</th>\n",
              "      <td>13</td>\n",
              "      <td>12</td>\n",
              "      <td>[-1, -1, 1, 1, -1, 1, -1, -1, -1, 1, -1, 1, 1,...</td>\n",
              "    </tr>\n",
              "    <tr>\n",
              "      <th>4</th>\n",
              "      <td>39</td>\n",
              "      <td>0</td>\n",
              "      <td>[1, 1, -1, 1, 1, -1, -1, -1, 1, 1, 1, -1, -1, ...</td>\n",
              "    </tr>\n",
              "    <tr>\n",
              "      <th>...</th>\n",
              "      <td>...</td>\n",
              "      <td>...</td>\n",
              "      <td>...</td>\n",
              "    </tr>\n",
              "    <tr>\n",
              "      <th>1695</th>\n",
              "      <td>27</td>\n",
              "      <td>14</td>\n",
              "      <td>[-1, 1, 1, -1, -1, -1, -1, -1, 1, -1, 1, 1, -1...</td>\n",
              "    </tr>\n",
              "    <tr>\n",
              "      <th>1696</th>\n",
              "      <td>0</td>\n",
              "      <td>12</td>\n",
              "      <td>[1, 1, -1, -1, -1, -1, -1, -1, -1, -1, -1, 1, ...</td>\n",
              "    </tr>\n",
              "    <tr>\n",
              "      <th>1697</th>\n",
              "      <td>12</td>\n",
              "      <td>12</td>\n",
              "      <td>[1, 1, -1, -1, -1, 1, 1, -1, -1, -1, 1, -1, -1...</td>\n",
              "    </tr>\n",
              "    <tr>\n",
              "      <th>1698</th>\n",
              "      <td>59</td>\n",
              "      <td>11</td>\n",
              "      <td>[1, 1, -1, -1, 1, 1, 1, 1, 1, 1, -1, -1, -1, -...</td>\n",
              "    </tr>\n",
              "    <tr>\n",
              "      <th>1699</th>\n",
              "      <td>94</td>\n",
              "      <td>4</td>\n",
              "      <td>[1, 1, 1, 1, -1, -1, -1, -1, -1, -1, -1, -1, -...</td>\n",
              "    </tr>\n",
              "  </tbody>\n",
              "</table>\n",
              "<p>1700 rows × 3 columns</p>\n",
              "</div>\n",
              "      <button class=\"colab-df-convert\" onclick=\"convertToInteractive('df-91b66f10-d1bd-4c2b-a577-58f747530302')\"\n",
              "              title=\"Convert this dataframe to an interactive table.\"\n",
              "              style=\"display:none;\">\n",
              "        \n",
              "  <svg xmlns=\"http://www.w3.org/2000/svg\" height=\"24px\"viewBox=\"0 0 24 24\"\n",
              "       width=\"24px\">\n",
              "    <path d=\"M0 0h24v24H0V0z\" fill=\"none\"/>\n",
              "    <path d=\"M18.56 5.44l.94 2.06.94-2.06 2.06-.94-2.06-.94-.94-2.06-.94 2.06-2.06.94zm-11 1L8.5 8.5l.94-2.06 2.06-.94-2.06-.94L8.5 2.5l-.94 2.06-2.06.94zm10 10l.94 2.06.94-2.06 2.06-.94-2.06-.94-.94-2.06-.94 2.06-2.06.94z\"/><path d=\"M17.41 7.96l-1.37-1.37c-.4-.4-.92-.59-1.43-.59-.52 0-1.04.2-1.43.59L10.3 9.45l-7.72 7.72c-.78.78-.78 2.05 0 2.83L4 21.41c.39.39.9.59 1.41.59.51 0 1.02-.2 1.41-.59l7.78-7.78 2.81-2.81c.8-.78.8-2.07 0-2.86zM5.41 20L4 18.59l7.72-7.72 1.47 1.35L5.41 20z\"/>\n",
              "  </svg>\n",
              "      </button>\n",
              "      \n",
              "  <style>\n",
              "    .colab-df-container {\n",
              "      display:flex;\n",
              "      flex-wrap:wrap;\n",
              "      gap: 12px;\n",
              "    }\n",
              "\n",
              "    .colab-df-convert {\n",
              "      background-color: #E8F0FE;\n",
              "      border: none;\n",
              "      border-radius: 50%;\n",
              "      cursor: pointer;\n",
              "      display: none;\n",
              "      fill: #1967D2;\n",
              "      height: 32px;\n",
              "      padding: 0 0 0 0;\n",
              "      width: 32px;\n",
              "    }\n",
              "\n",
              "    .colab-df-convert:hover {\n",
              "      background-color: #E2EBFA;\n",
              "      box-shadow: 0px 1px 2px rgba(60, 64, 67, 0.3), 0px 1px 3px 1px rgba(60, 64, 67, 0.15);\n",
              "      fill: #174EA6;\n",
              "    }\n",
              "\n",
              "    [theme=dark] .colab-df-convert {\n",
              "      background-color: #3B4455;\n",
              "      fill: #D2E3FC;\n",
              "    }\n",
              "\n",
              "    [theme=dark] .colab-df-convert:hover {\n",
              "      background-color: #434B5C;\n",
              "      box-shadow: 0px 1px 3px 1px rgba(0, 0, 0, 0.15);\n",
              "      filter: drop-shadow(0px 1px 2px rgba(0, 0, 0, 0.3));\n",
              "      fill: #FFFFFF;\n",
              "    }\n",
              "  </style>\n",
              "\n",
              "      <script>\n",
              "        const buttonEl =\n",
              "          document.querySelector('#df-91b66f10-d1bd-4c2b-a577-58f747530302 button.colab-df-convert');\n",
              "        buttonEl.style.display =\n",
              "          google.colab.kernel.accessAllowed ? 'block' : 'none';\n",
              "\n",
              "        async function convertToInteractive(key) {\n",
              "          const element = document.querySelector('#df-91b66f10-d1bd-4c2b-a577-58f747530302');\n",
              "          const dataTable =\n",
              "            await google.colab.kernel.invokeFunction('convertToInteractive',\n",
              "                                                     [key], {});\n",
              "          if (!dataTable) return;\n",
              "\n",
              "          const docLinkHtml = 'Like what you see? Visit the ' +\n",
              "            '<a target=\"_blank\" href=https://colab.research.google.com/notebooks/data_table.ipynb>data table notebook</a>'\n",
              "            + ' to learn more about interactive tables.';\n",
              "          element.innerHTML = '';\n",
              "          dataTable['output_type'] = 'display_data';\n",
              "          await google.colab.output.renderOutput(dataTable, element);\n",
              "          const docLink = document.createElement('div');\n",
              "          docLink.innerHTML = docLinkHtml;\n",
              "          element.appendChild(docLink);\n",
              "        }\n",
              "      </script>\n",
              "    </div>\n",
              "  </div>\n",
              "  "
            ]
          },
          "metadata": {},
          "execution_count": 27
        }
      ]
    },
    {
      "cell_type": "code",
      "source": [
        "one_hot_test_labels.shape"
      ],
      "metadata": {
        "colab": {
          "base_uri": "https://localhost:8080/"
        },
        "id": "aw_fMejyPyc5",
        "outputId": "38927016-b227-4df7-e316-48c13fff5f27"
      },
      "execution_count": null,
      "outputs": [
        {
          "output_type": "execute_result",
          "data": {
            "text/plain": [
              "(1700, 100)"
            ]
          },
          "metadata": {},
          "execution_count": 28
        }
      ]
    },
    {
      "cell_type": "code",
      "source": [
        "one_hot_train_labels.shape"
      ],
      "metadata": {
        "colab": {
          "base_uri": "https://localhost:8080/"
        },
        "id": "U-ppYMK-rNYR",
        "outputId": "ee014dad-d8c5-4647-d52f-80d85aa22d8e"
      },
      "execution_count": null,
      "outputs": [
        {
          "output_type": "execute_result",
          "data": {
            "text/plain": [
              "(7300, 100)"
            ]
          },
          "metadata": {},
          "execution_count": 29
        }
      ]
    },
    {
      "cell_type": "markdown",
      "source": [
        "#process data"
      ],
      "metadata": {
        "id": "8RPI8H6anej7"
      }
    },
    {
      "cell_type": "code",
      "source": [
        "train_data = []\n",
        "\n",
        "for index, row in train_df.iterrows():\n",
        "  # strings = row[\"trace_data\"][1:-1].split(\", \")\n",
        "  # # strings[0]\n",
        "  # # print(strings)\n",
        "  # int_array = [int(number) for number in strings]\n",
        "    train_data.append(row[\"trace_data\"])\n"
      ],
      "metadata": {
        "id": "Q-rdysvflSe6"
      },
      "execution_count": null,
      "outputs": []
    },
    {
      "cell_type": "code",
      "source": [
        "test_data = []\n",
        "\n",
        "for index, row in test_df.iterrows():\n",
        "\n",
        "  # strings = row[\"trace_data\"][1:-1].split(\", \")\n",
        "  # # strings[0]\n",
        "  # # print(strings)\n",
        "  # int_array = [int(number) for number in strings]\n",
        "  test_data.append(row[\"trace_data\"])"
      ],
      "metadata": {
        "id": "0WB9adfSpLQz"
      },
      "execution_count": null,
      "outputs": []
    },
    {
      "cell_type": "code",
      "source": [
        "train_data = np.array(train_data)\n",
        "test_data = np.array(test_data)"
      ],
      "metadata": {
        "id": "774cI1tslTpT"
      },
      "execution_count": null,
      "outputs": []
    },
    {
      "cell_type": "code",
      "source": [
        "np.shape(train_data)"
      ],
      "metadata": {
        "colab": {
          "base_uri": "https://localhost:8080/"
        },
        "id": "YH0BF2rLlTyl",
        "outputId": "5bdbbf5a-5200-4b6c-fea8-7acb32e549fe"
      },
      "execution_count": null,
      "outputs": [
        {
          "output_type": "execute_result",
          "data": {
            "text/plain": [
              "(7300, 5000)"
            ]
          },
          "metadata": {},
          "execution_count": 33
        }
      ]
    },
    {
      "cell_type": "code",
      "source": [
        "train_df"
      ],
      "metadata": {
        "colab": {
          "base_uri": "https://localhost:8080/",
          "height": 424
        },
        "id": "QcrWAgnqqau3",
        "outputId": "e0385152-f559-4e54-daca-fe8a8aabd170"
      },
      "execution_count": null,
      "outputs": [
        {
          "output_type": "execute_result",
          "data": {
            "text/plain": [
              "     page_num trace_num                                         trace_data\n",
              "0          65        31  [1, 1, 1, -1, -1, -1, -1, -1, -1, -1, -1, 1, 1...\n",
              "1          24        62  [1, 1, 1, 1, 1, -1, -1, -1, -1, -1, -1, -1, -1...\n",
              "2          89        41  [-1, -1, -1, 1, 1, -1, -1, -1, -1, -1, -1, -1,...\n",
              "3          99        77  [1, 1, -1, -1, -1, -1, -1, -1, -1, -1, -1, -1,...\n",
              "4          94        84  [-1, -1, 1, 1, 1, -1, -1, -1, -1, -1, -1, -1, ...\n",
              "...       ...       ...                                                ...\n",
              "7295       36        20  [1, 1, 1, -1, -1, 1, 1, 1, -1, 1, 1, 1, -1, 1,...\n",
              "7296       52        80  [1, 1, 1, 1, -1, -1, -1, -1, -1, -1, -1, -1, -...\n",
              "7297       27        77  [1, 1, 1, -1, -1, -1, 1, 1, 1, -1, -1, -1, -1,...\n",
              "7298       36        89  [-1, 1, -1, -1, 1, -1, 1, 1, -1, -1, 1, 1, -1,...\n",
              "7299       87        70  [-1, 1, 1, -1, -1, -1, -1, -1, -1, -1, -1, 1, ...\n",
              "\n",
              "[7300 rows x 3 columns]"
            ],
            "text/html": [
              "\n",
              "  <div id=\"df-f1725931-3ae0-453f-8b25-cbb0ce06f0b7\">\n",
              "    <div class=\"colab-df-container\">\n",
              "      <div>\n",
              "<style scoped>\n",
              "    .dataframe tbody tr th:only-of-type {\n",
              "        vertical-align: middle;\n",
              "    }\n",
              "\n",
              "    .dataframe tbody tr th {\n",
              "        vertical-align: top;\n",
              "    }\n",
              "\n",
              "    .dataframe thead th {\n",
              "        text-align: right;\n",
              "    }\n",
              "</style>\n",
              "<table border=\"1\" class=\"dataframe\">\n",
              "  <thead>\n",
              "    <tr style=\"text-align: right;\">\n",
              "      <th></th>\n",
              "      <th>page_num</th>\n",
              "      <th>trace_num</th>\n",
              "      <th>trace_data</th>\n",
              "    </tr>\n",
              "  </thead>\n",
              "  <tbody>\n",
              "    <tr>\n",
              "      <th>0</th>\n",
              "      <td>65</td>\n",
              "      <td>31</td>\n",
              "      <td>[1, 1, 1, -1, -1, -1, -1, -1, -1, -1, -1, 1, 1...</td>\n",
              "    </tr>\n",
              "    <tr>\n",
              "      <th>1</th>\n",
              "      <td>24</td>\n",
              "      <td>62</td>\n",
              "      <td>[1, 1, 1, 1, 1, -1, -1, -1, -1, -1, -1, -1, -1...</td>\n",
              "    </tr>\n",
              "    <tr>\n",
              "      <th>2</th>\n",
              "      <td>89</td>\n",
              "      <td>41</td>\n",
              "      <td>[-1, -1, -1, 1, 1, -1, -1, -1, -1, -1, -1, -1,...</td>\n",
              "    </tr>\n",
              "    <tr>\n",
              "      <th>3</th>\n",
              "      <td>99</td>\n",
              "      <td>77</td>\n",
              "      <td>[1, 1, -1, -1, -1, -1, -1, -1, -1, -1, -1, -1,...</td>\n",
              "    </tr>\n",
              "    <tr>\n",
              "      <th>4</th>\n",
              "      <td>94</td>\n",
              "      <td>84</td>\n",
              "      <td>[-1, -1, 1, 1, 1, -1, -1, -1, -1, -1, -1, -1, ...</td>\n",
              "    </tr>\n",
              "    <tr>\n",
              "      <th>...</th>\n",
              "      <td>...</td>\n",
              "      <td>...</td>\n",
              "      <td>...</td>\n",
              "    </tr>\n",
              "    <tr>\n",
              "      <th>7295</th>\n",
              "      <td>36</td>\n",
              "      <td>20</td>\n",
              "      <td>[1, 1, 1, -1, -1, 1, 1, 1, -1, 1, 1, 1, -1, 1,...</td>\n",
              "    </tr>\n",
              "    <tr>\n",
              "      <th>7296</th>\n",
              "      <td>52</td>\n",
              "      <td>80</td>\n",
              "      <td>[1, 1, 1, 1, -1, -1, -1, -1, -1, -1, -1, -1, -...</td>\n",
              "    </tr>\n",
              "    <tr>\n",
              "      <th>7297</th>\n",
              "      <td>27</td>\n",
              "      <td>77</td>\n",
              "      <td>[1, 1, 1, -1, -1, -1, 1, 1, 1, -1, -1, -1, -1,...</td>\n",
              "    </tr>\n",
              "    <tr>\n",
              "      <th>7298</th>\n",
              "      <td>36</td>\n",
              "      <td>89</td>\n",
              "      <td>[-1, 1, -1, -1, 1, -1, 1, 1, -1, -1, 1, 1, -1,...</td>\n",
              "    </tr>\n",
              "    <tr>\n",
              "      <th>7299</th>\n",
              "      <td>87</td>\n",
              "      <td>70</td>\n",
              "      <td>[-1, 1, 1, -1, -1, -1, -1, -1, -1, -1, -1, 1, ...</td>\n",
              "    </tr>\n",
              "  </tbody>\n",
              "</table>\n",
              "<p>7300 rows × 3 columns</p>\n",
              "</div>\n",
              "      <button class=\"colab-df-convert\" onclick=\"convertToInteractive('df-f1725931-3ae0-453f-8b25-cbb0ce06f0b7')\"\n",
              "              title=\"Convert this dataframe to an interactive table.\"\n",
              "              style=\"display:none;\">\n",
              "        \n",
              "  <svg xmlns=\"http://www.w3.org/2000/svg\" height=\"24px\"viewBox=\"0 0 24 24\"\n",
              "       width=\"24px\">\n",
              "    <path d=\"M0 0h24v24H0V0z\" fill=\"none\"/>\n",
              "    <path d=\"M18.56 5.44l.94 2.06.94-2.06 2.06-.94-2.06-.94-.94-2.06-.94 2.06-2.06.94zm-11 1L8.5 8.5l.94-2.06 2.06-.94-2.06-.94L8.5 2.5l-.94 2.06-2.06.94zm10 10l.94 2.06.94-2.06 2.06-.94-2.06-.94-.94-2.06-.94 2.06-2.06.94z\"/><path d=\"M17.41 7.96l-1.37-1.37c-.4-.4-.92-.59-1.43-.59-.52 0-1.04.2-1.43.59L10.3 9.45l-7.72 7.72c-.78.78-.78 2.05 0 2.83L4 21.41c.39.39.9.59 1.41.59.51 0 1.02-.2 1.41-.59l7.78-7.78 2.81-2.81c.8-.78.8-2.07 0-2.86zM5.41 20L4 18.59l7.72-7.72 1.47 1.35L5.41 20z\"/>\n",
              "  </svg>\n",
              "      </button>\n",
              "      \n",
              "  <style>\n",
              "    .colab-df-container {\n",
              "      display:flex;\n",
              "      flex-wrap:wrap;\n",
              "      gap: 12px;\n",
              "    }\n",
              "\n",
              "    .colab-df-convert {\n",
              "      background-color: #E8F0FE;\n",
              "      border: none;\n",
              "      border-radius: 50%;\n",
              "      cursor: pointer;\n",
              "      display: none;\n",
              "      fill: #1967D2;\n",
              "      height: 32px;\n",
              "      padding: 0 0 0 0;\n",
              "      width: 32px;\n",
              "    }\n",
              "\n",
              "    .colab-df-convert:hover {\n",
              "      background-color: #E2EBFA;\n",
              "      box-shadow: 0px 1px 2px rgba(60, 64, 67, 0.3), 0px 1px 3px 1px rgba(60, 64, 67, 0.15);\n",
              "      fill: #174EA6;\n",
              "    }\n",
              "\n",
              "    [theme=dark] .colab-df-convert {\n",
              "      background-color: #3B4455;\n",
              "      fill: #D2E3FC;\n",
              "    }\n",
              "\n",
              "    [theme=dark] .colab-df-convert:hover {\n",
              "      background-color: #434B5C;\n",
              "      box-shadow: 0px 1px 3px 1px rgba(0, 0, 0, 0.15);\n",
              "      filter: drop-shadow(0px 1px 2px rgba(0, 0, 0, 0.3));\n",
              "      fill: #FFFFFF;\n",
              "    }\n",
              "  </style>\n",
              "\n",
              "      <script>\n",
              "        const buttonEl =\n",
              "          document.querySelector('#df-f1725931-3ae0-453f-8b25-cbb0ce06f0b7 button.colab-df-convert');\n",
              "        buttonEl.style.display =\n",
              "          google.colab.kernel.accessAllowed ? 'block' : 'none';\n",
              "\n",
              "        async function convertToInteractive(key) {\n",
              "          const element = document.querySelector('#df-f1725931-3ae0-453f-8b25-cbb0ce06f0b7');\n",
              "          const dataTable =\n",
              "            await google.colab.kernel.invokeFunction('convertToInteractive',\n",
              "                                                     [key], {});\n",
              "          if (!dataTable) return;\n",
              "\n",
              "          const docLinkHtml = 'Like what you see? Visit the ' +\n",
              "            '<a target=\"_blank\" href=https://colab.research.google.com/notebooks/data_table.ipynb>data table notebook</a>'\n",
              "            + ' to learn more about interactive tables.';\n",
              "          element.innerHTML = '';\n",
              "          dataTable['output_type'] = 'display_data';\n",
              "          await google.colab.output.renderOutput(dataTable, element);\n",
              "          const docLink = document.createElement('div');\n",
              "          docLink.innerHTML = docLinkHtml;\n",
              "          element.appendChild(docLink);\n",
              "        }\n",
              "      </script>\n",
              "    </div>\n",
              "  </div>\n",
              "  "
            ]
          },
          "metadata": {},
          "execution_count": 34
        }
      ]
    },
    {
      "cell_type": "markdown",
      "source": [
        "#Make the dataset"
      ],
      "metadata": {
        "id": "h3JS34uWqknA"
      }
    },
    {
      "cell_type": "code",
      "source": [
        "BATCH_SIZE = 50"
      ],
      "metadata": {
        "id": "9Sr4wA-2qpg6"
      },
      "execution_count": null,
      "outputs": []
    },
    {
      "cell_type": "code",
      "source": [
        "train_data = tf.cast(train_data, tf.float32)\n",
        "test_data = tf.cast(test_data, tf.float32)"
      ],
      "metadata": {
        "id": "aL5Sck5mn-96"
      },
      "execution_count": null,
      "outputs": []
    },
    {
      "cell_type": "code",
      "source": [
        "train_dataset = tf.data.Dataset.from_tensor_slices((train_data, one_hot_train_labels))\n",
        "test_dataset = tf.data.Dataset.from_tensor_slices((test_data, one_hot_test_labels))"
      ],
      "metadata": {
        "id": "te0ufyzVql-0"
      },
      "execution_count": null,
      "outputs": []
    },
    {
      "cell_type": "code",
      "source": [
        "train_dataset = train_dataset.batch(BATCH_SIZE)\n",
        "train_dataset = train_dataset.prefetch(tf.data.AUTOTUNE)\n",
        "\n",
        "test_dataset = test_dataset.batch(BATCH_SIZE)\n",
        "test_dataset = test_dataset.prefetch(tf.data.AUTOTUNE)"
      ],
      "metadata": {
        "id": "DfeHte90qmJS"
      },
      "execution_count": null,
      "outputs": []
    },
    {
      "cell_type": "code",
      "source": [
        "test_dataset, train_dataset"
      ],
      "metadata": {
        "colab": {
          "base_uri": "https://localhost:8080/"
        },
        "id": "eYM4jxMcqmTM",
        "outputId": "103ceb3d-10f7-466c-af8c-fab830868e3c"
      },
      "execution_count": null,
      "outputs": [
        {
          "output_type": "execute_result",
          "data": {
            "text/plain": [
              "(<PrefetchDataset element_spec=(TensorSpec(shape=(None, 5000), dtype=tf.float32, name=None), TensorSpec(shape=(None, 100), dtype=tf.float64, name=None))>,\n",
              " <PrefetchDataset element_spec=(TensorSpec(shape=(None, 5000), dtype=tf.float32, name=None), TensorSpec(shape=(None, 100), dtype=tf.float64, name=None))>)"
            ]
          },
          "metadata": {},
          "execution_count": 39
        }
      ]
    },
    {
      "cell_type": "markdown",
      "source": [
        "##SDAE + MLP\n",
        "\n",
        "Make 2 layers of SDAE, then followed by MLP\n",
        "\n",
        "5000 - 500 - 125 - 500 - 5000 - 100\n",
        "\n",
        "SDAE is: \n",
        "5000 - 500 - 125 - 500 - 5000\n",
        "\n",
        "lr = 0.001, batch size = 50\n",
        "\n",
        "\n",
        "MLP is:\n",
        "\n",
        "5000 -> 100\n",
        "\n",
        "\n"
      ],
      "metadata": {
        "id": "HoK3hM61qOFx"
      }
    },
    {
      "cell_type": "code",
      "source": [
        "# layer_1 = 5000\n",
        "# layer_2 = 750\n",
        "# layer_3 = 500\n",
        "# center_layer = 250\n",
        "\n",
        "# model_1 = tf.keras.Sequential([\n",
        "#   tf.keras.layers.Dense(layer_1, \"relu\"),\n",
        "#   tf.keras.layers.Dense(layer_2, \"relu\"),\n",
        "#   tf.keras.layers.Dense(center_layer, \"relu\"),\n",
        "#   tf.keras.layers.Dense(layer_2, \"relu\"),\n",
        "#   tf.keras.layers.Dense(layer_1, \"relu\"),\n",
        "#   tf.keras.layers.Dense(100, \"softmax\"),\n",
        "# ])"
      ],
      "metadata": {
        "id": "BymxYK0pjh93"
      },
      "execution_count": null,
      "outputs": []
    },
    {
      "cell_type": "code",
      "source": [
        "import os\n",
        "\n",
        "def make_model_checkpoint(name, path = \"/content/model_exp/\"):\n",
        "  return tf.keras.callbacks.ModelCheckpoint(os.path.join(path, name), save_best_only = True, verbose = 0, monitor=\"val_accuracy\")\n",
        "  #, monitor=\"val_accuracy\""
      ],
      "metadata": {
        "id": "dhBjyvgPLpy1"
      },
      "execution_count": null,
      "outputs": []
    },
    {
      "cell_type": "code",
      "source": [
        "# model_1.compile(loss = \"categorical_crossentropy\",\n",
        "#                 optimizer=tf.keras.optimizers.Adam(learning_rate=0.001),\n",
        "#                 metrics = [\"accuracy\"],\n",
        "#               )\n",
        "\n",
        "# history_1 = model_1.fit(train_dataset, epochs = 100,\n",
        "#                         validation_data=test_dataset, \n",
        "#                     callbacks = [make_model_checkpoint(\"model_1\")])"
      ],
      "metadata": {
        "id": "68uxvOxyIVL6"
      },
      "execution_count": null,
      "outputs": []
    },
    {
      "cell_type": "code",
      "source": [
        "# new_model_1 = tf.keras.models.load_model(\"/content/model_exp/model_1\")\n",
        "# new_model_1.evaluate(test_dataset)"
      ],
      "metadata": {
        "id": "eq_ZE7UAJP0H"
      },
      "execution_count": null,
      "outputs": []
    },
    {
      "cell_type": "code",
      "source": [
        "# plt.figure(figsize=(9, 9))\n",
        "# plt.plot(history_1.history['val_accuracy'])\n",
        "# plt.title('2 layer SDAE close world testing accuracy')\n",
        "# plt.ylabel('accuracy')\n",
        "# plt.xlabel('epoch')\n",
        "# plt.legend(['testing accuracy'], loc='upper left')\n",
        "\n",
        "\n",
        "# plt.savefig('2 layer SDAE close world testing accuracy.png', bbox_inches='tight')\n",
        "# plt.show()\n",
        "\n",
        "# files.download('2 layer SDAE close world testing accuracy.png')"
      ],
      "metadata": {
        "id": "LGNwOxv2crYC"
      },
      "execution_count": null,
      "outputs": []
    },
    {
      "cell_type": "code",
      "source": [
        "!nvidia-smi"
      ],
      "metadata": {
        "id": "9aCfWhLlNF-n",
        "colab": {
          "base_uri": "https://localhost:8080/"
        },
        "outputId": "1d4dc974-7d45-4d43-bcef-4dc34ab6f606"
      },
      "execution_count": null,
      "outputs": [
        {
          "output_type": "stream",
          "name": "stdout",
          "text": [
            "Mon Jul 18 19:43:35 2022       \n",
            "+-----------------------------------------------------------------------------+\n",
            "| NVIDIA-SMI 460.32.03    Driver Version: 460.32.03    CUDA Version: 11.2     |\n",
            "|-------------------------------+----------------------+----------------------+\n",
            "| GPU  Name        Persistence-M| Bus-Id        Disp.A | Volatile Uncorr. ECC |\n",
            "| Fan  Temp  Perf  Pwr:Usage/Cap|         Memory-Usage | GPU-Util  Compute M. |\n",
            "|                               |                      |               MIG M. |\n",
            "|===============================+======================+======================|\n",
            "|   0  Tesla T4            Off  | 00000000:00:04.0 Off |                    0 |\n",
            "| N/A   59C    P0    29W /  70W |    796MiB / 15109MiB |      6%      Default |\n",
            "|                               |                      |                  N/A |\n",
            "+-------------------------------+----------------------+----------------------+\n",
            "                                                                               \n",
            "+-----------------------------------------------------------------------------+\n",
            "| Processes:                                                                  |\n",
            "|  GPU   GI   CI        PID   Type   Process name                  GPU Memory |\n",
            "|        ID   ID                                                   Usage      |\n",
            "|=============================================================================|\n",
            "+-----------------------------------------------------------------------------+\n"
          ]
        }
      ]
    },
    {
      "cell_type": "markdown",
      "source": [
        "##try triple layer"
      ],
      "metadata": {
        "id": "k0e0FOx8Q9jf"
      }
    },
    {
      "cell_type": "code",
      "source": [
        "# layer_1 = 5000\n",
        "# layer_2 = 750\n",
        "# layer_3 = 500\n",
        "# center_layer = 250\n",
        "\n",
        "# model_2 = tf.keras.Sequential([\n",
        "#   tf.keras.layers.Dense(layer_1, \"relu\"),\n",
        "#   tf.keras.layers.Dense(layer_2, \"relu\"),\n",
        "#   tf.keras.layers.Dense(layer_3, \"relu\"),\n",
        "#   tf.keras.layers.Dense(center_layer, \"relu\"),\n",
        "#   tf.keras.layers.Dense(layer_3, \"relu\"),\n",
        "#   tf.keras.layers.Dense(layer_2, \"relu\"),\n",
        "#   tf.keras.layers.Dense(layer_1, \"relu\"),\n",
        "#   tf.keras.layers.Dense(100, \"softmax\"),\n",
        "# ])"
      ],
      "metadata": {
        "id": "idrMUKijQ9Ru"
      },
      "execution_count": null,
      "outputs": []
    },
    {
      "cell_type": "code",
      "source": [
        "# model_2.compile(loss = \"categorical_crossentropy\",\n",
        "#                 optimizer=tf.keras.optimizers.Adam(learning_rate=0.001),\n",
        "#                 metrics = [\"accuracy\"],\n",
        "#               )\n",
        "\n",
        "# history_2 = model_2.fit(train_dataset, epochs = 100,\n",
        "#                         validation_data=test_dataset, \n",
        "#                     callbacks = [make_model_checkpoint(\"model_2\")])"
      ],
      "metadata": {
        "id": "7DbgkXSYRARX"
      },
      "execution_count": null,
      "outputs": []
    },
    {
      "cell_type": "code",
      "source": [
        "# new_model_2 = tf.keras.models.load_model(\"/content/model_exp/model_2\")\n",
        "# new_model_2.evaluate(test_dataset)"
      ],
      "metadata": {
        "id": "zEIzmHVPRBTo"
      },
      "execution_count": null,
      "outputs": []
    },
    {
      "cell_type": "code",
      "source": [
        "# plt.figure(figsize=(9, 9))\n",
        "# plt.plot(history_2.history['val_accuracy'])\n",
        "# plt.title('3 layer SDAE close world testing accuracy')\n",
        "# plt.ylabel('accuracy')\n",
        "# plt.xlabel('epoch')\n",
        "# plt.legend(['testing accuracy'], loc='upper left')\n",
        "\n",
        "\n",
        "# plt.savefig('3 layer SDAE close world testing accuracy.png', bbox_inches='tight')\n",
        "# plt.show()\n",
        "\n",
        "# files.download('3 layer SDAE close world testing accuracy.png')"
      ],
      "metadata": {
        "id": "OPRCrnyuRTQI"
      },
      "execution_count": null,
      "outputs": []
    },
    {
      "cell_type": "markdown",
      "source": [
        "#Improve model"
      ],
      "metadata": {
        "id": "En71Me-W3yUr"
      }
    },
    {
      "cell_type": "markdown",
      "source": [
        "##model 3"
      ],
      "metadata": {
        "id": "Kd04x_2R8YHE"
      }
    },
    {
      "cell_type": "code",
      "source": [
        "import tensorflow.keras.layers as layers"
      ],
      "metadata": {
        "id": "hJoVQIIEnUt6"
      },
      "execution_count": null,
      "outputs": []
    },
    {
      "cell_type": "code",
      "source": [
        "# model_3 = tf.keras.Sequential([\n",
        "#   layers.Lambda(lambda x: tf.expand_dims(x, axis = 1)),\n",
        "#   layers.Conv1D(5000, 5, padding = 'causal', activation=\"relu\"),\n",
        "#   layers.GlobalMaxPooling1D(),\n",
        "#   layers.Dense(100, activation=\"softmax\")\n",
        "# ], name = \"Conv1D\")\n",
        "\n",
        "# model_3.compile(loss = \"categorical_crossentropy\",\n",
        "#                 optimizer = \"Adam\",\n",
        "#                 metrics = [\"accuracy\"])\n",
        "\n",
        "# history_3 = model_3.fit(train_dataset, epochs = 40,\n",
        "#                         validation_data=test_dataset, \n",
        "#                     callbacks = [make_model_checkpoint(\"model_3\")])"
      ],
      "metadata": {
        "id": "qPdgGEIf30EC"
      },
      "execution_count": null,
      "outputs": []
    },
    {
      "cell_type": "code",
      "source": [
        "# new_model_3 = tf.keras.models.load_model(\"/content/model_exp/model_3\")\n",
        "# new_model_3.evaluate(test_dataset)"
      ],
      "metadata": {
        "id": "MURT76IOrOlf"
      },
      "execution_count": null,
      "outputs": []
    },
    {
      "cell_type": "code",
      "source": [
        "# plt.figure(figsize=(9, 9))\n",
        "# plt.plot(history_3.history['val_accuracy'])\n",
        "# plt.title('Conv1D close world testing accuracy')\n",
        "# plt.ylabel('accuracy')\n",
        "# plt.xlabel('epoch')\n",
        "# plt.legend(['testing accuracy'], loc='upper left')\n",
        "\n",
        "\n",
        "# plt.savefig('Conv1D close world testing accuracy.png', bbox_inches='tight')\n",
        "# plt.show()\n",
        "\n",
        "# files.download('Conv1D close world testing accuracy.png')"
      ],
      "metadata": {
        "id": "dfE87A2arUBT"
      },
      "execution_count": null,
      "outputs": []
    },
    {
      "cell_type": "markdown",
      "source": [
        "model 3 got 88.29%"
      ],
      "metadata": {
        "id": "0dP5TEnPu0bS"
      }
    },
    {
      "cell_type": "markdown",
      "source": [
        "##model 4"
      ],
      "metadata": {
        "id": "5FF9ov1ruwPE"
      }
    },
    {
      "cell_type": "code",
      "source": [
        "# model_4 = tf.keras.Sequential([\n",
        "#   layers.Dense(5000, activation=\"relu\"),\n",
        "#   layers.Dense(750, activation=\"relu\"),\n",
        "\n",
        "#   layers.Lambda(lambda x: tf.expand_dims(x, axis = 1)),\n",
        "#   layers.Conv1D(500, 5, padding = 'causal', activation=\"relu\"),\n",
        "#   layers.GlobalMaxPooling1D(),\n",
        "\n",
        "#   layers.Dense(750, activation=\"relu\"),\n",
        "#   layers.Dense(5000, activation=\"relu\"),\n",
        "\n",
        "\n",
        "#   layers.Dense(100, activation=\"softmax\")\n",
        "# ], name = \"Conv1D\")\n",
        "\n",
        "# model_4.compile(loss = \"categorical_crossentropy\",\n",
        "#                 optimizer = \"Adam\",\n",
        "#                 metrics = [\"accuracy\"])\n",
        "\n",
        "# history_4 = model_4.fit(train_dataset, epochs = 40,\n",
        "#                         validation_data=test_dataset, \n",
        "#                     callbacks = [make_model_checkpoint(\"model_4\")])"
      ],
      "metadata": {
        "id": "Clo02N3krg6-"
      },
      "execution_count": null,
      "outputs": []
    },
    {
      "cell_type": "markdown",
      "source": [
        "##model 5"
      ],
      "metadata": {
        "id": "8vd9JbqfyNcM"
      }
    },
    {
      "cell_type": "code",
      "source": [
        "model_5 = tf.keras.models.Sequential([\n",
        "  layers.Lambda(lambda x: tf.expand_dims(x, axis = 1)),\n",
        "  layers.LSTM(5000, return_sequences=True, name=\"lstm_layer\"),\n",
        "  layers.GlobalMaxPooling1D(),  \n",
        "  layers.Dense(100, activation=\"softmax\")\n",
        "], name = \"LSTM-BASIC\")\n",
        "\n",
        "model_5.compile(loss = \"categorical_crossentropy\",\n",
        "                optimizer = \"Adam\",\n",
        "                metrics = [\"accuracy\"])\n",
        "\n",
        "history_5 = model_5.fit(train_dataset, epochs = 40,\n",
        "                        validation_data=test_dataset, \n",
        "                    callbacks = [make_model_checkpoint(\"model_5\")])\n",
        "\n"
      ],
      "metadata": {
        "colab": {
          "base_uri": "https://localhost:8080/"
        },
        "id": "UjKKzV_iyOjm",
        "outputId": "f1d0d388-9332-4ce6-a672-d8fe0547e85b"
      },
      "execution_count": null,
      "outputs": [
        {
          "output_type": "stream",
          "name": "stdout",
          "text": [
            "Epoch 1/40\n",
            "146/146 [==============================] - ETA: 0s - loss: 2.1477 - accuracy: 0.4727"
          ]
        },
        {
          "output_type": "stream",
          "name": "stderr",
          "text": [
            "WARNING:absl:Found untraced functions such as lstm_cell_2_layer_call_fn, lstm_cell_2_layer_call_and_return_conditional_losses while saving (showing 2 of 2). These functions will not be directly callable after loading.\n"
          ]
        },
        {
          "output_type": "stream",
          "name": "stdout",
          "text": [
            "INFO:tensorflow:Assets written to: /content/model_exp/model_5/assets\n"
          ]
        },
        {
          "output_type": "stream",
          "name": "stderr",
          "text": [
            "INFO:tensorflow:Assets written to: /content/model_exp/model_5/assets\n",
            "WARNING:absl:<keras.layers.recurrent.LSTMCell object at 0x7f623a9b2a10> has the same name 'LSTMCell' as a built-in Keras object. Consider renaming <class 'keras.layers.recurrent.LSTMCell'> to avoid naming conflicts when loading with `tf.keras.models.load_model`. If renaming is not possible, pass the object in the `custom_objects` parameter of the load function.\n"
          ]
        },
        {
          "output_type": "stream",
          "name": "stdout",
          "text": [
            "\b\b\b\b\b\b\b\b\b\b\b\b\b\b\b\b\b\b\b\b\b\b\b\b\b\b\b\b\b\b\b\b\b\b\b\b\b\b\b\b\b\b\b\b\b\b\b\b\b\b\b\b\b\b\b\b\b\b\b\b\b\b\b\b\b\b\b\b\b\b\b\b\b\b\b\b\b\b\b\b\b\b\b\b\r146/146 [==============================] - 120s 217ms/step - loss: 2.1477 - accuracy: 0.4727 - val_loss: 1.3256 - val_accuracy: 0.6359\n",
            "Epoch 2/40\n",
            "146/146 [==============================] - ETA: 0s - loss: 0.8908 - accuracy: 0.7758"
          ]
        },
        {
          "output_type": "stream",
          "name": "stderr",
          "text": [
            "WARNING:absl:Found untraced functions such as lstm_cell_2_layer_call_fn, lstm_cell_2_layer_call_and_return_conditional_losses while saving (showing 2 of 2). These functions will not be directly callable after loading.\n"
          ]
        },
        {
          "output_type": "stream",
          "name": "stdout",
          "text": [
            "INFO:tensorflow:Assets written to: /content/model_exp/model_5/assets\n"
          ]
        },
        {
          "output_type": "stream",
          "name": "stderr",
          "text": [
            "INFO:tensorflow:Assets written to: /content/model_exp/model_5/assets\n",
            "WARNING:absl:<keras.layers.recurrent.LSTMCell object at 0x7f623a9b2a10> has the same name 'LSTMCell' as a built-in Keras object. Consider renaming <class 'keras.layers.recurrent.LSTMCell'> to avoid naming conflicts when loading with `tf.keras.models.load_model`. If renaming is not possible, pass the object in the `custom_objects` parameter of the load function.\n"
          ]
        },
        {
          "output_type": "stream",
          "name": "stdout",
          "text": [
            "\b\b\b\b\b\b\b\b\b\b\b\b\b\b\b\b\b\b\b\b\b\b\b\b\b\b\b\b\b\b\b\b\b\b\b\b\b\b\b\b\b\b\b\b\b\b\b\b\b\b\b\b\b\b\b\b\b\b\b\b\b\b\b\b\b\b\b\b\b\b\b\b\b\b\b\b\b\b\b\b\b\b\b\b\r146/146 [==============================] - 32s 222ms/step - loss: 0.8908 - accuracy: 0.7758 - val_loss: 0.9453 - val_accuracy: 0.7771\n",
            "Epoch 3/40\n",
            "146/146 [==============================] - ETA: 0s - loss: 0.4971 - accuracy: 0.8844"
          ]
        },
        {
          "output_type": "stream",
          "name": "stderr",
          "text": [
            "WARNING:absl:Found untraced functions such as lstm_cell_2_layer_call_fn, lstm_cell_2_layer_call_and_return_conditional_losses while saving (showing 2 of 2). These functions will not be directly callable after loading.\n"
          ]
        },
        {
          "output_type": "stream",
          "name": "stdout",
          "text": [
            "INFO:tensorflow:Assets written to: /content/model_exp/model_5/assets\n"
          ]
        },
        {
          "output_type": "stream",
          "name": "stderr",
          "text": [
            "INFO:tensorflow:Assets written to: /content/model_exp/model_5/assets\n",
            "WARNING:absl:<keras.layers.recurrent.LSTMCell object at 0x7f623a9b2a10> has the same name 'LSTMCell' as a built-in Keras object. Consider renaming <class 'keras.layers.recurrent.LSTMCell'> to avoid naming conflicts when loading with `tf.keras.models.load_model`. If renaming is not possible, pass the object in the `custom_objects` parameter of the load function.\n"
          ]
        },
        {
          "output_type": "stream",
          "name": "stdout",
          "text": [
            "\b\b\b\b\b\b\b\b\b\b\b\b\b\b\b\b\b\b\b\b\b\b\b\b\b\b\b\b\b\b\b\b\b\b\b\b\b\b\b\b\b\b\b\b\b\b\b\b\b\b\b\b\b\b\b\b\b\b\b\b\b\b\b\b\b\b\b\b\b\b\b\b\b\b\b\b\b\b\b\b\b\b\b\b\r146/146 [==============================] - 32s 219ms/step - loss: 0.4971 - accuracy: 0.8844 - val_loss: 0.8144 - val_accuracy: 0.8035\n",
            "Epoch 4/40\n",
            "146/146 [==============================] - ETA: 0s - loss: 0.3088 - accuracy: 0.9318"
          ]
        },
        {
          "output_type": "stream",
          "name": "stderr",
          "text": [
            "WARNING:absl:Found untraced functions such as lstm_cell_2_layer_call_fn, lstm_cell_2_layer_call_and_return_conditional_losses while saving (showing 2 of 2). These functions will not be directly callable after loading.\n"
          ]
        },
        {
          "output_type": "stream",
          "name": "stdout",
          "text": [
            "INFO:tensorflow:Assets written to: /content/model_exp/model_5/assets\n"
          ]
        },
        {
          "output_type": "stream",
          "name": "stderr",
          "text": [
            "INFO:tensorflow:Assets written to: /content/model_exp/model_5/assets\n",
            "WARNING:absl:<keras.layers.recurrent.LSTMCell object at 0x7f623a9b2a10> has the same name 'LSTMCell' as a built-in Keras object. Consider renaming <class 'keras.layers.recurrent.LSTMCell'> to avoid naming conflicts when loading with `tf.keras.models.load_model`. If renaming is not possible, pass the object in the `custom_objects` parameter of the load function.\n"
          ]
        },
        {
          "output_type": "stream",
          "name": "stdout",
          "text": [
            "\b\b\b\b\b\b\b\b\b\b\b\b\b\b\b\b\b\b\b\b\b\b\b\b\b\b\b\b\b\b\b\b\b\b\b\b\b\b\b\b\b\b\b\b\b\b\b\b\b\b\b\b\b\b\b\b\b\b\b\b\b\b\b\b\b\b\b\b\b\b\b\b\b\b\b\b\b\b\b\b\b\b\b\b\r146/146 [==============================] - 31s 214ms/step - loss: 0.3088 - accuracy: 0.9318 - val_loss: 0.6973 - val_accuracy: 0.8371\n",
            "Epoch 5/40\n",
            "146/146 [==============================] - ETA: 0s - loss: 0.2091 - accuracy: 0.9518"
          ]
        },
        {
          "output_type": "stream",
          "name": "stderr",
          "text": [
            "WARNING:absl:Found untraced functions such as lstm_cell_2_layer_call_fn, lstm_cell_2_layer_call_and_return_conditional_losses while saving (showing 2 of 2). These functions will not be directly callable after loading.\n"
          ]
        },
        {
          "output_type": "stream",
          "name": "stdout",
          "text": [
            "INFO:tensorflow:Assets written to: /content/model_exp/model_5/assets\n"
          ]
        },
        {
          "output_type": "stream",
          "name": "stderr",
          "text": [
            "INFO:tensorflow:Assets written to: /content/model_exp/model_5/assets\n",
            "WARNING:absl:<keras.layers.recurrent.LSTMCell object at 0x7f623a9b2a10> has the same name 'LSTMCell' as a built-in Keras object. Consider renaming <class 'keras.layers.recurrent.LSTMCell'> to avoid naming conflicts when loading with `tf.keras.models.load_model`. If renaming is not possible, pass the object in the `custom_objects` parameter of the load function.\n"
          ]
        },
        {
          "output_type": "stream",
          "name": "stdout",
          "text": [
            "\b\b\b\b\b\b\b\b\b\b\b\b\b\b\b\b\b\b\b\b\b\b\b\b\b\b\b\b\b\b\b\b\b\b\b\b\b\b\b\b\b\b\b\b\b\b\b\b\b\b\b\b\b\b\b\b\b\b\b\b\b\b\b\b\b\b\b\b\b\b\b\b\b\b\b\b\b\b\b\b\b\b\b\b\r146/146 [==============================] - 32s 219ms/step - loss: 0.2091 - accuracy: 0.9518 - val_loss: 0.6514 - val_accuracy: 0.8582\n",
            "Epoch 6/40\n",
            "146/146 [==============================] - ETA: 0s - loss: 0.1555 - accuracy: 0.9597"
          ]
        },
        {
          "output_type": "stream",
          "name": "stderr",
          "text": [
            "WARNING:absl:Found untraced functions such as lstm_cell_2_layer_call_fn, lstm_cell_2_layer_call_and_return_conditional_losses while saving (showing 2 of 2). These functions will not be directly callable after loading.\n"
          ]
        },
        {
          "output_type": "stream",
          "name": "stdout",
          "text": [
            "INFO:tensorflow:Assets written to: /content/model_exp/model_5/assets\n"
          ]
        },
        {
          "output_type": "stream",
          "name": "stderr",
          "text": [
            "INFO:tensorflow:Assets written to: /content/model_exp/model_5/assets\n",
            "WARNING:absl:<keras.layers.recurrent.LSTMCell object at 0x7f623a9b2a10> has the same name 'LSTMCell' as a built-in Keras object. Consider renaming <class 'keras.layers.recurrent.LSTMCell'> to avoid naming conflicts when loading with `tf.keras.models.load_model`. If renaming is not possible, pass the object in the `custom_objects` parameter of the load function.\n"
          ]
        },
        {
          "output_type": "stream",
          "name": "stdout",
          "text": [
            "\b\b\b\b\b\b\b\b\b\b\b\b\b\b\b\b\b\b\b\b\b\b\b\b\b\b\b\b\b\b\b\b\b\b\b\b\b\b\b\b\b\b\b\b\b\b\b\b\b\b\b\b\b\b\b\b\b\b\b\b\b\b\b\b\b\b\b\b\b\b\b\b\b\b\b\b\b\b\b\b\b\b\b\b\r146/146 [==============================] - 31s 214ms/step - loss: 0.1555 - accuracy: 0.9597 - val_loss: 0.6295 - val_accuracy: 0.8665\n",
            "Epoch 7/40\n",
            "146/146 [==============================] - ETA: 0s - loss: 0.1186 - accuracy: 0.9663"
          ]
        },
        {
          "output_type": "stream",
          "name": "stderr",
          "text": [
            "WARNING:absl:Found untraced functions such as lstm_cell_2_layer_call_fn, lstm_cell_2_layer_call_and_return_conditional_losses while saving (showing 2 of 2). These functions will not be directly callable after loading.\n"
          ]
        },
        {
          "output_type": "stream",
          "name": "stdout",
          "text": [
            "INFO:tensorflow:Assets written to: /content/model_exp/model_5/assets\n"
          ]
        },
        {
          "output_type": "stream",
          "name": "stderr",
          "text": [
            "INFO:tensorflow:Assets written to: /content/model_exp/model_5/assets\n",
            "WARNING:absl:<keras.layers.recurrent.LSTMCell object at 0x7f623a9b2a10> has the same name 'LSTMCell' as a built-in Keras object. Consider renaming <class 'keras.layers.recurrent.LSTMCell'> to avoid naming conflicts when loading with `tf.keras.models.load_model`. If renaming is not possible, pass the object in the `custom_objects` parameter of the load function.\n"
          ]
        },
        {
          "output_type": "stream",
          "name": "stdout",
          "text": [
            "\b\b\b\b\b\b\b\b\b\b\b\b\b\b\b\b\b\b\b\b\b\b\b\b\b\b\b\b\b\b\b\b\b\b\b\b\b\b\b\b\b\b\b\b\b\b\b\b\b\b\b\b\b\b\b\b\b\b\b\b\b\b\b\b\b\b\b\b\b\b\b\b\b\b\b\b\b\b\b\b\b\b\b\b\r146/146 [==============================] - 32s 219ms/step - loss: 0.1186 - accuracy: 0.9663 - val_loss: 0.6043 - val_accuracy: 0.8729\n",
            "Epoch 8/40\n",
            "146/146 [==============================] - ETA: 0s - loss: 0.1034 - accuracy: 0.9689"
          ]
        },
        {
          "output_type": "stream",
          "name": "stderr",
          "text": [
            "WARNING:absl:Found untraced functions such as lstm_cell_2_layer_call_fn, lstm_cell_2_layer_call_and_return_conditional_losses while saving (showing 2 of 2). These functions will not be directly callable after loading.\n"
          ]
        },
        {
          "output_type": "stream",
          "name": "stdout",
          "text": [
            "INFO:tensorflow:Assets written to: /content/model_exp/model_5/assets\n"
          ]
        },
        {
          "output_type": "stream",
          "name": "stderr",
          "text": [
            "INFO:tensorflow:Assets written to: /content/model_exp/model_5/assets\n",
            "WARNING:absl:<keras.layers.recurrent.LSTMCell object at 0x7f623a9b2a10> has the same name 'LSTMCell' as a built-in Keras object. Consider renaming <class 'keras.layers.recurrent.LSTMCell'> to avoid naming conflicts when loading with `tf.keras.models.load_model`. If renaming is not possible, pass the object in the `custom_objects` parameter of the load function.\n"
          ]
        },
        {
          "output_type": "stream",
          "name": "stdout",
          "text": [
            "\b\b\b\b\b\b\b\b\b\b\b\b\b\b\b\b\b\b\b\b\b\b\b\b\b\b\b\b\b\b\b\b\b\b\b\b\b\b\b\b\b\b\b\b\b\b\b\b\b\b\b\b\b\b\b\b\b\b\b\b\b\b\b\b\b\b\b\b\b\b\b\b\b\b\b\b\b\b\b\b\b\b\b\b\r146/146 [==============================] - 32s 219ms/step - loss: 0.1034 - accuracy: 0.9689 - val_loss: 0.6060 - val_accuracy: 0.8771\n",
            "Epoch 9/40\n",
            "146/146 [==============================] - 18s 120ms/step - loss: 0.0873 - accuracy: 0.9730 - val_loss: 0.6003 - val_accuracy: 0.8765\n",
            "Epoch 10/40\n",
            "146/146 [==============================] - ETA: 0s - loss: 0.0729 - accuracy: 0.9764"
          ]
        },
        {
          "output_type": "stream",
          "name": "stderr",
          "text": [
            "WARNING:absl:Found untraced functions such as lstm_cell_2_layer_call_fn, lstm_cell_2_layer_call_and_return_conditional_losses while saving (showing 2 of 2). These functions will not be directly callable after loading.\n"
          ]
        },
        {
          "output_type": "stream",
          "name": "stdout",
          "text": [
            "INFO:tensorflow:Assets written to: /content/model_exp/model_5/assets\n"
          ]
        },
        {
          "output_type": "stream",
          "name": "stderr",
          "text": [
            "INFO:tensorflow:Assets written to: /content/model_exp/model_5/assets\n",
            "WARNING:absl:<keras.layers.recurrent.LSTMCell object at 0x7f623a9b2a10> has the same name 'LSTMCell' as a built-in Keras object. Consider renaming <class 'keras.layers.recurrent.LSTMCell'> to avoid naming conflicts when loading with `tf.keras.models.load_model`. If renaming is not possible, pass the object in the `custom_objects` parameter of the load function.\n"
          ]
        },
        {
          "output_type": "stream",
          "name": "stdout",
          "text": [
            "\b\b\b\b\b\b\b\b\b\b\b\b\b\b\b\b\b\b\b\b\b\b\b\b\b\b\b\b\b\b\b\b\b\b\b\b\b\b\b\b\b\b\b\b\b\b\b\b\b\b\b\b\b\b\b\b\b\b\b\b\b\b\b\b\b\b\b\b\b\b\b\b\b\b\b\b\b\b\b\b\b\b\b\b\r146/146 [==============================] - 31s 215ms/step - loss: 0.0729 - accuracy: 0.9764 - val_loss: 0.6053 - val_accuracy: 0.8788\n",
            "Epoch 11/40\n",
            "146/146 [==============================] - ETA: 0s - loss: 0.0644 - accuracy: 0.9799"
          ]
        },
        {
          "output_type": "stream",
          "name": "stderr",
          "text": [
            "WARNING:absl:Found untraced functions such as lstm_cell_2_layer_call_fn, lstm_cell_2_layer_call_and_return_conditional_losses while saving (showing 2 of 2). These functions will not be directly callable after loading.\n"
          ]
        },
        {
          "output_type": "stream",
          "name": "stdout",
          "text": [
            "INFO:tensorflow:Assets written to: /content/model_exp/model_5/assets\n"
          ]
        },
        {
          "output_type": "stream",
          "name": "stderr",
          "text": [
            "INFO:tensorflow:Assets written to: /content/model_exp/model_5/assets\n",
            "WARNING:absl:<keras.layers.recurrent.LSTMCell object at 0x7f623a9b2a10> has the same name 'LSTMCell' as a built-in Keras object. Consider renaming <class 'keras.layers.recurrent.LSTMCell'> to avoid naming conflicts when loading with `tf.keras.models.load_model`. If renaming is not possible, pass the object in the `custom_objects` parameter of the load function.\n"
          ]
        },
        {
          "output_type": "stream",
          "name": "stdout",
          "text": [
            "\b\b\b\b\b\b\b\b\b\b\b\b\b\b\b\b\b\b\b\b\b\b\b\b\b\b\b\b\b\b\b\b\b\b\b\b\b\b\b\b\b\b\b\b\b\b\b\b\b\b\b\b\b\b\b\b\b\b\b\b\b\b\b\b\b\b\b\b\b\b\b\b\b\b\b\b\b\b\b\b\b\b\b\b\r146/146 [==============================] - 32s 219ms/step - loss: 0.0644 - accuracy: 0.9799 - val_loss: 0.6156 - val_accuracy: 0.8794\n",
            "Epoch 12/40\n",
            "146/146 [==============================] - ETA: 0s - loss: 0.0573 - accuracy: 0.9808"
          ]
        },
        {
          "output_type": "stream",
          "name": "stderr",
          "text": [
            "WARNING:absl:Found untraced functions such as lstm_cell_2_layer_call_fn, lstm_cell_2_layer_call_and_return_conditional_losses while saving (showing 2 of 2). These functions will not be directly callable after loading.\n"
          ]
        },
        {
          "output_type": "stream",
          "name": "stdout",
          "text": [
            "INFO:tensorflow:Assets written to: /content/model_exp/model_5/assets\n"
          ]
        },
        {
          "output_type": "stream",
          "name": "stderr",
          "text": [
            "INFO:tensorflow:Assets written to: /content/model_exp/model_5/assets\n",
            "WARNING:absl:<keras.layers.recurrent.LSTMCell object at 0x7f623a9b2a10> has the same name 'LSTMCell' as a built-in Keras object. Consider renaming <class 'keras.layers.recurrent.LSTMCell'> to avoid naming conflicts when loading with `tf.keras.models.load_model`. If renaming is not possible, pass the object in the `custom_objects` parameter of the load function.\n"
          ]
        },
        {
          "output_type": "stream",
          "name": "stdout",
          "text": [
            "\b\b\b\b\b\b\b\b\b\b\b\b\b\b\b\b\b\b\b\b\b\b\b\b\b\b\b\b\b\b\b\b\b\b\b\b\b\b\b\b\b\b\b\b\b\b\b\b\b\b\b\b\b\b\b\b\b\b\b\b\b\b\b\b\b\b\b\b\b\b\b\b\b\b\b\b\b\b\b\b\b\b\b\b\r146/146 [==============================] - 31s 215ms/step - loss: 0.0573 - accuracy: 0.9808 - val_loss: 0.6264 - val_accuracy: 0.8806\n",
            "Epoch 13/40\n",
            "146/146 [==============================] - 18s 120ms/step - loss: 0.0511 - accuracy: 0.9827 - val_loss: 0.6376 - val_accuracy: 0.8800\n",
            "Epoch 14/40\n",
            "146/146 [==============================] - 18s 120ms/step - loss: 0.0459 - accuracy: 0.9842 - val_loss: 0.6500 - val_accuracy: 0.8800\n",
            "Epoch 15/40\n",
            "146/146 [==============================] - 18s 120ms/step - loss: 0.0415 - accuracy: 0.9858 - val_loss: 0.6632 - val_accuracy: 0.8806\n",
            "Epoch 16/40\n",
            "146/146 [==============================] - ETA: 0s - loss: 0.0377 - accuracy: 0.9868"
          ]
        },
        {
          "output_type": "stream",
          "name": "stderr",
          "text": [
            "WARNING:absl:Found untraced functions such as lstm_cell_2_layer_call_fn, lstm_cell_2_layer_call_and_return_conditional_losses while saving (showing 2 of 2). These functions will not be directly callable after loading.\n"
          ]
        },
        {
          "output_type": "stream",
          "name": "stdout",
          "text": [
            "INFO:tensorflow:Assets written to: /content/model_exp/model_5/assets\n"
          ]
        },
        {
          "output_type": "stream",
          "name": "stderr",
          "text": [
            "INFO:tensorflow:Assets written to: /content/model_exp/model_5/assets\n",
            "WARNING:absl:<keras.layers.recurrent.LSTMCell object at 0x7f623a9b2a10> has the same name 'LSTMCell' as a built-in Keras object. Consider renaming <class 'keras.layers.recurrent.LSTMCell'> to avoid naming conflicts when loading with `tf.keras.models.load_model`. If renaming is not possible, pass the object in the `custom_objects` parameter of the load function.\n"
          ]
        },
        {
          "output_type": "stream",
          "name": "stdout",
          "text": [
            "\b\b\b\b\b\b\b\b\b\b\b\b\b\b\b\b\b\b\b\b\b\b\b\b\b\b\b\b\b\b\b\b\b\b\b\b\b\b\b\b\b\b\b\b\b\b\b\b\b\b\b\b\b\b\b\b\b\b\b\b\b\b\b\b\b\b\b\b\b\b\b\b\b\b\b\b\b\b\b\b\b\b\b\b\r146/146 [==============================] - 32s 220ms/step - loss: 0.0377 - accuracy: 0.9868 - val_loss: 0.6764 - val_accuracy: 0.8812\n",
            "Epoch 17/40\n",
            "146/146 [==============================] - 18s 121ms/step - loss: 0.0344 - accuracy: 0.9881 - val_loss: 0.6899 - val_accuracy: 0.8800\n",
            "Epoch 18/40\n",
            "146/146 [==============================] - 18s 121ms/step - loss: 0.0315 - accuracy: 0.9895 - val_loss: 0.7022 - val_accuracy: 0.8794\n",
            "Epoch 19/40\n",
            "146/146 [==============================] - 18s 120ms/step - loss: 0.0290 - accuracy: 0.9903 - val_loss: 0.7134 - val_accuracy: 0.8794\n",
            "Epoch 20/40\n",
            "146/146 [==============================] - 18s 120ms/step - loss: 0.0268 - accuracy: 0.9912 - val_loss: 0.7243 - val_accuracy: 0.8782\n",
            "Epoch 21/40\n",
            "146/146 [==============================] - 18s 120ms/step - loss: 0.0249 - accuracy: 0.9923 - val_loss: 0.7339 - val_accuracy: 0.8788\n",
            "Epoch 22/40\n",
            "146/146 [==============================] - 18s 121ms/step - loss: 0.0232 - accuracy: 0.9932 - val_loss: 0.7435 - val_accuracy: 0.8800\n",
            "Epoch 23/40\n",
            "146/146 [==============================] - 18s 121ms/step - loss: 0.0218 - accuracy: 0.9936 - val_loss: 0.7534 - val_accuracy: 0.8800\n",
            "Epoch 24/40\n",
            "146/146 [==============================] - 18s 120ms/step - loss: 0.0205 - accuracy: 0.9938 - val_loss: 0.7629 - val_accuracy: 0.8806\n",
            "Epoch 25/40\n",
            "146/146 [==============================] - 18s 120ms/step - loss: 0.0195 - accuracy: 0.9940 - val_loss: 0.7721 - val_accuracy: 0.8812\n",
            "Epoch 26/40\n",
            "146/146 [==============================] - 18s 120ms/step - loss: 0.0186 - accuracy: 0.9941 - val_loss: 0.7821 - val_accuracy: 0.8800\n",
            "Epoch 27/40\n",
            "146/146 [==============================] - 18s 120ms/step - loss: 0.0178 - accuracy: 0.9942 - val_loss: 0.7912 - val_accuracy: 0.8800\n",
            "Epoch 28/40\n",
            "146/146 [==============================] - 18s 120ms/step - loss: 0.0171 - accuracy: 0.9944 - val_loss: 0.8009 - val_accuracy: 0.8794\n",
            "Epoch 29/40\n",
            "146/146 [==============================] - 18s 121ms/step - loss: 0.0165 - accuracy: 0.9942 - val_loss: 0.8094 - val_accuracy: 0.8794\n",
            "Epoch 30/40\n",
            "146/146 [==============================] - 18s 120ms/step - loss: 0.0159 - accuracy: 0.9944 - val_loss: 0.8179 - val_accuracy: 0.8776\n",
            "Epoch 31/40\n",
            "146/146 [==============================] - 18s 120ms/step - loss: 0.0154 - accuracy: 0.9949 - val_loss: 0.8261 - val_accuracy: 0.8782\n",
            "Epoch 32/40\n",
            "146/146 [==============================] - 18s 120ms/step - loss: 0.0149 - accuracy: 0.9952 - val_loss: 0.8336 - val_accuracy: 0.8776\n",
            "Epoch 33/40\n",
            "146/146 [==============================] - 18s 120ms/step - loss: 0.0145 - accuracy: 0.9949 - val_loss: 0.8410 - val_accuracy: 0.8776\n",
            "Epoch 34/40\n",
            "146/146 [==============================] - 18s 120ms/step - loss: 0.0142 - accuracy: 0.9952 - val_loss: 0.8484 - val_accuracy: 0.8776\n",
            "Epoch 35/40\n",
            "146/146 [==============================] - 18s 120ms/step - loss: 0.0138 - accuracy: 0.9953 - val_loss: 0.8559 - val_accuracy: 0.8771\n",
            "Epoch 36/40\n",
            "146/146 [==============================] - 18s 120ms/step - loss: 0.0135 - accuracy: 0.9953 - val_loss: 0.8631 - val_accuracy: 0.8765\n",
            "Epoch 37/40\n",
            "146/146 [==============================] - 18s 120ms/step - loss: 0.0132 - accuracy: 0.9955 - val_loss: 0.8697 - val_accuracy: 0.8765\n",
            "Epoch 38/40\n",
            "146/146 [==============================] - 18s 121ms/step - loss: 0.0129 - accuracy: 0.9953 - val_loss: 0.8770 - val_accuracy: 0.8771\n",
            "Epoch 39/40\n",
            "146/146 [==============================] - 18s 120ms/step - loss: 0.0126 - accuracy: 0.9953 - val_loss: 0.8840 - val_accuracy: 0.8771\n",
            "Epoch 40/40\n",
            "146/146 [==============================] - 18s 121ms/step - loss: 0.0123 - accuracy: 0.9953 - val_loss: 0.8913 - val_accuracy: 0.8753\n"
          ]
        }
      ]
    },
    {
      "cell_type": "code",
      "source": [
        "new_model_5 = tf.keras.models.load_model(\"/content/model_exp/model_5\")\n",
        "new_model_5.evaluate(test_dataset)"
      ],
      "metadata": {
        "colab": {
          "base_uri": "https://localhost:8080/"
        },
        "id": "xln7psiNySNG",
        "outputId": "33db0aab-9ee8-495b-d8db-e8d2e4b9fbe0"
      },
      "execution_count": null,
      "outputs": [
        {
          "output_type": "stream",
          "name": "stdout",
          "text": [
            "34/34 [==============================] - 2s 46ms/step - loss: 0.6764 - accuracy: 0.8812\n"
          ]
        },
        {
          "output_type": "execute_result",
          "data": {
            "text/plain": [
              "[0.676419734954834, 0.8811764717102051]"
            ]
          },
          "metadata": {},
          "execution_count": 58
        }
      ]
    },
    {
      "cell_type": "markdown",
      "source": [
        "88.11% accuracy"
      ],
      "metadata": {
        "id": "sNYzklbS79Mg"
      }
    },
    {
      "cell_type": "code",
      "source": [
        ""
      ],
      "metadata": {
        "id": "_3yO1SneyVgW"
      },
      "execution_count": null,
      "outputs": []
    },
    {
      "cell_type": "code",
      "source": [
        ""
      ],
      "metadata": {
        "id": "OFKoA7axy7J2"
      },
      "execution_count": null,
      "outputs": []
    }
  ]
}